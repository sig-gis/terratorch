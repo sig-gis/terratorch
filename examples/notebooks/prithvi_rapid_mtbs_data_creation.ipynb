{
 "cells": [
  {
   "cell_type": "markdown",
   "metadata": {},
   "source": [
    "# Goals\n",
    "* We want to use MTBS as the labels to try to model MTBS severity off of rapid post-fire assessment satellite imagery\n",
    "* For fires, you have to have a separate image per fire to do a proper temporal windowing for pre- and post-fire\n",
    "* So the funadmental sample unit is one fire, inside which we will create a certain number of image chips\n",
    "* We will use some metric to select a representative handful of fires in the Sierra Nevada region to create our 10k image chips\n",
    "* Then we will create the pre- and post- fire imagery for each of those fires, and append the MTBS severity raster as the labels, \n",
    "* So we will be passing to the model a raster dataset of pre-, post-, label"
   ]
  },
  {
   "cell_type": "code",
   "execution_count": 1,
   "metadata": {},
   "outputs": [],
   "source": [
    "import ee\n",
    "ee.Initialize(project='pyregence-ee')"
   ]
  },
  {
   "cell_type": "markdown",
   "metadata": {},
   "source": [
    "## Data Exploration and Sampling Strategy"
   ]
  },
  {
   "cell_type": "code",
   "execution_count": 2,
   "metadata": {},
   "outputs": [
    {
     "name": "stdout",
     "output_type": "stream",
     "text": [
      "39\n",
      "[0, 1, 2, 3, 4, 5, 6]\n",
      "['Background', 'Unburned to Low', 'Low', 'Moderate', 'High', 'Increased Greenness', 'Non-Mapping Area']\n"
     ]
    }
   ],
   "source": [
    "# Sierras \n",
    "region = (ee.FeatureCollection(\"projects/pyregence-ee/assets/conus/landfire/zones\")\n",
    "            .filterMetadata('ZONE_NUM', 'equals', 6))\n",
    "\n",
    "mtbs_bs = (ee.ImageCollection(\"USFS/GTAC/MTBS/annual_burn_severity_mosaics/v1\")\n",
    ".filterMetadata('system:index', 'contains', 'CONUS'))\n",
    "print(mtbs_bs.size().getInfo())\n",
    "# we will re-classify the severity values to \n",
    "# lump unburned and low together, \n",
    "# background and non-mapping area together, \n",
    "# and increased greenness in with .. low?\n",
    "print(mtbs_bs.first().getInfo()['properties']['Severity_class_values'])\n",
    "print(mtbs_bs.first().getInfo()['properties']['Severity_class_names'])\n",
    "\n",
    "def reclass(img):\n",
    "    return img.remap([0,1,2,3,4,5,6],[0,1,1,2,3,1,0])\n",
    "\n",
    "mtbs_bs = mtbs_bs.map(reclass)\n"
   ]
  },
  {
   "cell_type": "code",
   "execution_count": 3,
   "metadata": {},
   "outputs": [
    {
     "name": "stdout",
     "output_type": "stream",
     "text": [
      "{'Extended': 422, 'Initial': 218, 'Initial (SS)': 16}\n"
     ]
    }
   ],
   "source": [
    "mtbs_fires = ee.FeatureCollection(\"USFS/GTAC/MTBS/burned_area_boundaries/v1\")\n",
    "\n",
    "sierra_fires = mtbs_fires.filterBounds(region)\n",
    "# print(sierra_fires.size().getInfo())\n",
    "\n",
    "# how many intiial versus extended fire assessments\n",
    "print(sierra_fires.aggregate_histogram('Asmnt_Type').getInfo())"
   ]
  },
  {
   "cell_type": "code",
   "execution_count": 4,
   "metadata": {},
   "outputs": [
    {
     "name": "stdout",
     "output_type": "stream",
     "text": [
      "105\n",
      "{'2013': 9,\n",
      " '2014': 10,\n",
      " '2015': 8,\n",
      " '2016': 14,\n",
      " '2017': 15,\n",
      " '2018': 11,\n",
      " '2019': 5,\n",
      " '2020': 15,\n",
      " '2021': 13,\n",
      " '2022': 5}\n"
     ]
    }
   ],
   "source": [
    "from pprint import pprint\n",
    "# we will only use extended assessment fires occurring in or after 2013 (HLS coverage begins in 2013)\n",
    "def set_year(f):\n",
    "    return f.set('year', ee.Date(f.get('Ig_Date')).get('year'))\n",
    "\n",
    "sierra_fires = (sierra_fires\n",
    ".filter(ee.Filter.eq('Asmnt_Type', 'Extended'))\n",
    ".map(set_year)\n",
    ".filter(ee.Filter.gte('year',2013))\n",
    "\n",
    ")\n",
    "print(sierra_fires.size().getInfo())\n",
    "pprint(sierra_fires.aggregate_histogram('year').getInfo())"
   ]
  },
  {
   "cell_type": "markdown",
   "metadata": {},
   "source": [
    "* Lets explore the relationship of fire severity to fire size to determine a useful sampling strategy"
   ]
  },
  {
   "cell_type": "code",
   "execution_count": 5,
   "metadata": {},
   "outputs": [
    {
     "name": "stdout",
     "output_type": "stream",
     "text": [
      "{'Asmnt_Type': 'Extended',\n",
      " 'BurnBndAc': 2828,\n",
      " 'BurnBndLat': '40.378',\n",
      " 'BurnBndLon': '-120.749',\n",
      " 'Comment': '',\n",
      " 'Event_ID': 'CA4036812080220160911',\n",
      " 'High_T': 320,\n",
      " 'Ig_Date': 1473577200000,\n",
      " 'IncGreen_T': -150,\n",
      " 'Incid_Name': 'WILLARD',\n",
      " 'Incid_Type': 'Wildfire',\n",
      " 'Low_T': 30,\n",
      " 'Map_ID': 10004874,\n",
      " 'Map_Prog': 'MTBS',\n",
      " 'Mod_T': 155,\n",
      " 'NoData_T': -970,\n",
      " 'Perim_ID': '',\n",
      " 'Post_ID': '804403220170716',\n",
      " 'Pre_ID': '804403220160713',\n",
      " 'area': 11432976.885349168,\n",
      " 'dNBR_offst': -37,\n",
      " 'dNBR_stdDv': 16,\n",
      " 'hs_area': 3139258.938008626,\n",
      " 'hs_ratio': 0.27457931293742416,\n",
      " 'irwinID': '0517B37F-F8E9-4260-ABB2-308BC2FA6A8A',\n",
      " 'year': 2016}\n"
     ]
    }
   ],
   "source": [
    "def ratio(f):\n",
    "    \"\"\"Set the ratio of high severity area to total fire area on a fire (ee.Feature)\"\"\"\n",
    "    area = f.geometry().area()\n",
    "    mtbs_year = mtbs_bs.filter(ee.Filter.calendarRange(f.get('year'), f.get('year'), 'year')).first()\n",
    "    reducer = ee.Reducer.sum()\n",
    "    area_img = ee.Image.pixelArea()\n",
    "    hs = mtbs_year.eq(3).selfMask() # high severity binary img\n",
    "    hs_area = area_img.updateMask(hs).reduceRegion(reducer, f.geometry(), 30)\n",
    "    return f.set('area',area,\n",
    "                 'hs_ratio', ee.Number(hs_area.get('area')).divide(area),\n",
    "                 'hs_area', hs_area.get('area'))\n",
    "\n",
    "# test it\n",
    "r = ratio(sierra_fires.first())\n",
    "pprint(r.getInfo()['properties'])\n",
    "\n",
    "# map it \n",
    "sierra_fires = sierra_fires.map(ratio)"
   ]
  },
  {
   "cell_type": "code",
   "execution_count": 6,
   "metadata": {},
   "outputs": [
    {
     "data": {
      "application/vnd.jupyter.widget-view+json": {
       "model_id": "14bf10500ff14daeb0f4756dcfd9996f",
       "version_major": 2,
       "version_minor": 0
      },
      "text/plain": [
       "Map(center=[40.37639896236704, -120.74927438138413], controls=(WidgetControl(options=['position', 'transparent…"
      ]
     },
     "execution_count": 6,
     "metadata": {},
     "output_type": "execute_result"
    }
   ],
   "source": [
    "import geemap\n",
    "Map = geemap.Map()\n",
    "Map.centerObject(r,12)\n",
    "Map.addLayer(mtbs_bs.filter(ee.Filter.calendarRange(2016,2016, 'year')).first(),{'min':0,'max':3,'palette':['black','green','yellow','red']},'burn severity')\n",
    "Map.addLayer(ee.Feature(r),{},'ratio fire')\n",
    "\n",
    "Map"
   ]
  },
  {
   "cell_type": "code",
   "execution_count": 7,
   "metadata": {},
   "outputs": [
    {
     "data": {
      "text/html": [
       "\n",
       "            <style>\n",
       "                .geemap-dark {\n",
       "                    --jp-widgets-color: white;\n",
       "                    --jp-widgets-label-color: white;\n",
       "                    --jp-ui-font-color1: white;\n",
       "                    --jp-layout-color2: #454545;\n",
       "                    background-color: #383838;\n",
       "                }\n",
       "\n",
       "                .geemap-dark .jupyter-button {\n",
       "                    --jp-layout-color3: #383838;\n",
       "                }\n",
       "\n",
       "                .geemap-colab {\n",
       "                    background-color: var(--colab-primary-surface-color, white);\n",
       "                }\n",
       "\n",
       "                .geemap-colab .jupyter-button {\n",
       "                    --jp-layout-color3: var(--colab-primary-surface-color, white);\n",
       "                }\n",
       "            </style>\n",
       "            "
      ],
      "text/plain": [
       "<IPython.core.display.HTML object>"
      ]
     },
     "metadata": {},
     "output_type": "display_data"
    }
   ],
   "source": [
    "import pandas as pd\n",
    "# Get 'area' and 'hs_ratio' values from the ee.FeatureCollection\n",
    "area_values = sierra_fires.aggregate_array('area').getInfo()\n",
    "area_values = [x/4046.86 for x in area_values] # convert to acres\n",
    "hs_area_values = sierra_fires.aggregate_array('hs_area').getInfo()\n",
    "hs_ratio_values = sierra_fires.aggregate_array('hs_ratio').getInfo()\n",
    "\n",
    "# Create a pandas DataFrame\n",
    "df = pd.DataFrame({'Area': area_values, \n",
    "                   'HS Area': hs_area_values, \n",
    "                   'HS Ratio': hs_ratio_values})\n"
   ]
  },
  {
   "cell_type": "code",
   "execution_count": 8,
   "metadata": {},
   "outputs": [
    {
     "data": {
      "text/html": [
       "\n",
       "            <style>\n",
       "                .geemap-dark {\n",
       "                    --jp-widgets-color: white;\n",
       "                    --jp-widgets-label-color: white;\n",
       "                    --jp-ui-font-color1: white;\n",
       "                    --jp-layout-color2: #454545;\n",
       "                    background-color: #383838;\n",
       "                }\n",
       "\n",
       "                .geemap-dark .jupyter-button {\n",
       "                    --jp-layout-color3: #383838;\n",
       "                }\n",
       "\n",
       "                .geemap-colab {\n",
       "                    background-color: var(--colab-primary-surface-color, white);\n",
       "                }\n",
       "\n",
       "                .geemap-colab .jupyter-button {\n",
       "                    --jp-layout-color3: var(--colab-primary-surface-color, white);\n",
       "                }\n",
       "            </style>\n",
       "            "
      ],
      "text/plain": [
       "<IPython.core.display.HTML object>"
      ]
     },
     "metadata": {},
     "output_type": "display_data"
    },
    {
     "data": {
      "image/png": "[encoded data removed]",
      "text/plain": [
       "<Figure size 1000x600 with 1 Axes>"
      ]
     },
     "metadata": {},
     "output_type": "display_data"
    }
   ],
   "source": [
    "# Fire Area vs High Severity Area\n",
    "import seaborn as sns\n",
    "import matplotlib.pyplot as plt\n",
    "\n",
    "plt.figure(figsize=(10, 6))\n",
    "sns.scatterplot(data=df, x='Area', y='HS Area', hue=sns.kdeplot(df,x='Area',y='HS Area'), palette='viridis')\n",
    "plt.xlabel('Area (ac)')\n",
    "plt.ylabel('HS Area')\n",
    "plt.title('Scatterplot of Area vs HS Area')\n",
    "plt.show()"
   ]
  },
  {
   "cell_type": "markdown",
   "metadata": {},
   "source": [
    "* can reasonably say that there is some kind of rough linear relationship of fire size to severity area, bigger fires have more high-severity burn area"
   ]
  },
  {
   "cell_type": "code",
   "execution_count": 9,
   "metadata": {},
   "outputs": [
    {
     "data": {
      "text/html": [
       "\n",
       "            <style>\n",
       "                .geemap-dark {\n",
       "                    --jp-widgets-color: white;\n",
       "                    --jp-widgets-label-color: white;\n",
       "                    --jp-ui-font-color1: white;\n",
       "                    --jp-layout-color2: #454545;\n",
       "                    background-color: #383838;\n",
       "                }\n",
       "\n",
       "                .geemap-dark .jupyter-button {\n",
       "                    --jp-layout-color3: #383838;\n",
       "                }\n",
       "\n",
       "                .geemap-colab {\n",
       "                    background-color: var(--colab-primary-surface-color, white);\n",
       "                }\n",
       "\n",
       "                .geemap-colab .jupyter-button {\n",
       "                    --jp-layout-color3: var(--colab-primary-surface-color, white);\n",
       "                }\n",
       "            </style>\n",
       "            "
      ],
      "text/plain": [
       "<IPython.core.display.HTML object>"
      ]
     },
     "metadata": {},
     "output_type": "display_data"
    },
    {
     "data": {
      "image/png": "[encoded data removed]",
      "text/plain": [
       "<Figure size 1000x600 with 1 Axes>"
      ]
     },
     "metadata": {},
     "output_type": "display_data"
    }
   ],
   "source": [
    "import seaborn as sns\n",
    "plt.figure(figsize=(10, 6))\n",
    "sns.scatterplot(data=df, x='Area', y='HS Ratio', hue=sns.kdeplot(df,x='Area',y='HS Ratio'), palette='viridis')\n",
    "plt.xlabel('Area (ac)')\n",
    "plt.ylabel('HS Ratio')\n",
    "plt.title('Scatterplot of Area vs HS Ratio')\n",
    "plt.show()"
   ]
  },
  {
   "cell_type": "markdown",
   "metadata": {},
   "source": [
    "* however, the % of high severity burn within a fire doesnt increase linearly with fire size"
   ]
  },
  {
   "cell_type": "markdown",
   "metadata": {},
   "source": [
    "* now that we've established that, we can keep it simple with the stratification, we'll consider fire size in our train/val/test stratification\n",
    "\n",
    "* we'll bin into small/medium/large using the fire size distribution among our dataset"
   ]
  },
  {
   "cell_type": "code",
   "execution_count": 10,
   "metadata": {},
   "outputs": [
    {
     "data": {
      "text/html": [
       "\n",
       "            <style>\n",
       "                .geemap-dark {\n",
       "                    --jp-widgets-color: white;\n",
       "                    --jp-widgets-label-color: white;\n",
       "                    --jp-ui-font-color1: white;\n",
       "                    --jp-layout-color2: #454545;\n",
       "                    background-color: #383838;\n",
       "                }\n",
       "\n",
       "                .geemap-dark .jupyter-button {\n",
       "                    --jp-layout-color3: #383838;\n",
       "                }\n",
       "\n",
       "                .geemap-colab {\n",
       "                    background-color: var(--colab-primary-surface-color, white);\n",
       "                }\n",
       "\n",
       "                .geemap-colab .jupyter-button {\n",
       "                    --jp-layout-color3: var(--colab-primary-surface-color, white);\n",
       "                }\n",
       "            </style>\n",
       "            "
      ],
      "text/plain": [
       "<IPython.core.display.HTML object>"
      ]
     },
     "metadata": {},
     "output_type": "display_data"
    },
    {
     "name": "stdout",
     "output_type": "stream",
     "text": [
      "[1006, 1057, 1063, 1064, 1102, 1120, 1137, 1168, 1181, 1184, 1204, 1270, 1313, 1316, 1455, 1477, 1672, 1700, 1733, 1805, 1840, 1996, 2121, 2141, 2150, 2289, 2315, 2317, 2448, 2487, 2633, 2706, 2718, 2793, 2828, 2829, 2977, 3003, 3034, 3155, 3508, 4065, 4264, 4346, 4362, 4390, 4415, 4545, 4968, 4980, 5221, 5556, 5743, 5990, 6018, 6163, 6488, 6955, 7016, 7224, 7229, 7713, 8053, 8495, 9011, 9090, 9685, 9717, 12765, 14252, 14416, 14534, 16100, 18485, 18576, 18640, 19408, 23564, 23611, 26437, 27331, 27938, 29150, 29191, 30967, 36151, 36626, 48066, 58747, 70171, 72894, 77858, 83297, 89960, 97307, 97831, 99070, 146369, 153687, 174424, 226583, 257084, 316556, 381441, 979795]\n"
     ]
    }
   ],
   "source": [
    "fire_sizes = sierra_fires.aggregate_array('BurnBndAc').getInfo()\n",
    "fire_sizes.sort()\n",
    "print(fire_sizes)"
   ]
  },
  {
   "cell_type": "code",
   "execution_count": 11,
   "metadata": {},
   "outputs": [
    {
     "data": {
      "text/html": [
       "\n",
       "            <style>\n",
       "                .geemap-dark {\n",
       "                    --jp-widgets-color: white;\n",
       "                    --jp-widgets-label-color: white;\n",
       "                    --jp-ui-font-color1: white;\n",
       "                    --jp-layout-color2: #454545;\n",
       "                    background-color: #383838;\n",
       "                }\n",
       "\n",
       "                .geemap-dark .jupyter-button {\n",
       "                    --jp-layout-color3: #383838;\n",
       "                }\n",
       "\n",
       "                .geemap-colab {\n",
       "                    background-color: var(--colab-primary-surface-color, white);\n",
       "                }\n",
       "\n",
       "                .geemap-colab .jupyter-button {\n",
       "                    --jp-layout-color3: var(--colab-primary-surface-color, white);\n",
       "                }\n",
       "            </style>\n",
       "            "
      ],
      "text/plain": [
       "<IPython.core.display.HTML object>"
      ]
     },
     "metadata": {},
     "output_type": "display_data"
    },
    {
     "name": "stdout",
     "output_type": "stream",
     "text": [
      "bin edges (in acres; 25th, 75th):[2315, 23611]\n",
      "{'large': 27, 'medium': 52, 'small': 26}\n"
     ]
    }
   ],
   "source": [
    "import numpy as np\n",
    "\n",
    "# bin fires into one of 3 size classes based on the fire sizes in this distribution\n",
    "percentile_value = [int(v) for v in np.percentile(fire_sizes, [25,75])]\n",
    "print(f'bin edges (in acres; 25th, 75th):{percentile_value}')\n",
    "\n",
    "small_fires = (sierra_fires.filter(ee.Filter.lt('BurnBndAc',percentile_value[0]))\n",
    ".map(lambda f: f.set('size_class', 'small')))\n",
    "\n",
    "medium_fires = (sierra_fires.filter(ee.Filter.And(ee.Filter.gte('BurnBndAc',percentile_value[0]),\n",
    "                                                 ee.Filter.lt('BurnBndAc',percentile_value[1])))\n",
    ".map(lambda f: f.set('size_class', 'medium')))\n",
    "\n",
    "large_fires = (sierra_fires.filter(ee.Filter.gte('BurnBndAc',percentile_value[1]))\n",
    ".map(lambda f: f.set('size_class', 'large')))\n",
    "\n",
    "final_fires_fc = small_fires.merge(medium_fires).merge(large_fires)\n",
    "\n",
    "print(final_fires_fc.aggregate_histogram('size_class').getInfo())\n"
   ]
  },
  {
   "cell_type": "markdown",
   "metadata": {},
   "source": [
    "* we will do a 70/20/5 train/val/test split\n",
    "* for better model evaluation on the test set, we will withold 5% of the data as entire fires.\n",
    "* the train and val dataset will consist of 75% and 20% of the rest of the 95% of fire data, chipped up and sampled at random"
   ]
  },
  {
   "cell_type": "code",
   "execution_count": 12,
   "metadata": {},
   "outputs": [
    {
     "data": {
      "text/html": [
       "\n",
       "            <style>\n",
       "                .geemap-dark {\n",
       "                    --jp-widgets-color: white;\n",
       "                    --jp-widgets-label-color: white;\n",
       "                    --jp-ui-font-color1: white;\n",
       "                    --jp-layout-color2: #454545;\n",
       "                    background-color: #383838;\n",
       "                }\n",
       "\n",
       "                .geemap-dark .jupyter-button {\n",
       "                    --jp-layout-color3: #383838;\n",
       "                }\n",
       "\n",
       "                .geemap-colab {\n",
       "                    background-color: var(--colab-primary-surface-color, white);\n",
       "                }\n",
       "\n",
       "                .geemap-colab .jupyter-button {\n",
       "                    --jp-layout-color3: var(--colab-primary-surface-color, white);\n",
       "                }\n",
       "            </style>\n",
       "            "
      ],
      "text/plain": [
       "<IPython.core.display.HTML object>"
      ]
     },
     "metadata": {},
     "output_type": "display_data"
    },
    {
     "name": "stdout",
     "output_type": "stream",
     "text": [
      "[1840, 4264, 2828, 7229, 70171]\n",
      "[0.5165802389333164, 0.5135688418886605, 0.27457931293742416, 0.1258181997250689, 0.10782655681531818]\n"
     ]
    }
   ],
   "source": [
    "# 5% of total number of fires\n",
    "# print(int(final_fires_fc.size().multiply(0.05).getInfo())) 5\n",
    "\n",
    "# so we will randomly take 3 medium fires, and 1 small and 1 large fire respectively for our test set\n",
    "test_small = (final_fires_fc\n",
    ".filter(ee.Filter.eq('size_class','small'))\n",
    ".randomColumn()\n",
    ".limit(1,'random'))\n",
    "\n",
    "test_medium = (final_fires_fc\n",
    ".filter(ee.Filter.eq('size_class','medium'))\n",
    ".randomColumn()\n",
    ".limit(3,'random'))\n",
    "\n",
    "test_large = (final_fires_fc\n",
    ".filter(ee.Filter.eq('size_class','large'))\n",
    ".randomColumn()\n",
    ".limit(1,'random'))\n",
    "\n",
    "test_fires = test_small.merge(test_medium).merge(test_large)\n",
    "\n",
    "# curious what the acreage and high-severity to area ratio is for each\n",
    "print(test_fires.aggregate_array('BurnBndAc').getInfo())\n",
    "print(test_fires.aggregate_array('hs_ratio').getInfo())"
   ]
  },
  {
   "cell_type": "code",
   "execution_count": 13,
   "metadata": {},
   "outputs": [
    {
     "data": {
      "text/html": [
       "\n",
       "            <style>\n",
       "                .geemap-dark {\n",
       "                    --jp-widgets-color: white;\n",
       "                    --jp-widgets-label-color: white;\n",
       "                    --jp-ui-font-color1: white;\n",
       "                    --jp-layout-color2: #454545;\n",
       "                    background-color: #383838;\n",
       "                }\n",
       "\n",
       "                .geemap-dark .jupyter-button {\n",
       "                    --jp-layout-color3: #383838;\n",
       "                }\n",
       "\n",
       "                .geemap-colab {\n",
       "                    background-color: var(--colab-primary-surface-color, white);\n",
       "                }\n",
       "\n",
       "                .geemap-colab .jupyter-button {\n",
       "                    --jp-layout-color3: var(--colab-primary-surface-color, white);\n",
       "                }\n",
       "            </style>\n",
       "            "
      ],
      "text/plain": [
       "<IPython.core.display.HTML object>"
      ]
     },
     "metadata": {},
     "output_type": "display_data"
    },
    {
     "name": "stdout",
     "output_type": "stream",
     "text": [
      "['1_1_000200000000000006bc', '1_2_0001000000000000018a', '1_2_00010000000000000230', '1_2_000100000000000003bc', '2_00010000000000000ee3']\n",
      "100\n"
     ]
    }
   ],
   "source": [
    "# now we will remove the test fires from the final set\n",
    "test_small_ids = test_small.aggregate_array('system:index')\n",
    "test_medium_ids = test_medium.aggregate_array('system:index')\n",
    "test_large_ids = test_large.aggregate_array('system:index')\n",
    "\n",
    "remove_ids = test_small_ids.cat(test_medium_ids).cat(test_large_ids)\n",
    "print(remove_ids.getInfo())\n",
    "\n",
    "train_val_fires = final_fires_fc.filter(\n",
    "    ee.Filter.inList('system:index', remove_ids).Not())\n",
    "\n",
    "print(train_val_fires.size().getInfo())"
   ]
  },
  {
   "cell_type": "code",
   "execution_count": 14,
   "metadata": {},
   "outputs": [
    {
     "data": {
      "text/html": [
       "\n",
       "            <style>\n",
       "                .geemap-dark {\n",
       "                    --jp-widgets-color: white;\n",
       "                    --jp-widgets-label-color: white;\n",
       "                    --jp-ui-font-color1: white;\n",
       "                    --jp-layout-color2: #454545;\n",
       "                    background-color: #383838;\n",
       "                }\n",
       "\n",
       "                .geemap-dark .jupyter-button {\n",
       "                    --jp-layout-color3: #383838;\n",
       "                }\n",
       "\n",
       "                .geemap-colab {\n",
       "                    background-color: var(--colab-primary-surface-color, white);\n",
       "                }\n",
       "\n",
       "                .geemap-colab .jupyter-button {\n",
       "                    --jp-layout-color3: var(--colab-primary-surface-color, white);\n",
       "                }\n",
       "            </style>\n",
       "            "
      ],
      "text/plain": [
       "<IPython.core.display.HTML object>"
      ]
     },
     "metadata": {},
     "output_type": "display_data"
    },
    {
     "data": {
      "application/vnd.jupyter.widget-view+json": {
       "model_id": "e147edc74cf744e68d055ed2c9e9f444",
       "version_major": 2,
       "version_minor": 0
      },
      "text/plain": [
       "Map(center=[38.34649102173086, -119.9026752584951], controls=(WidgetControl(options=['position', 'transparent_…"
      ]
     },
     "execution_count": 14,
     "metadata": {},
     "output_type": "execute_result"
    }
   ],
   "source": [
    "# sanity check\n",
    "m = geemap.Map()\n",
    "m.centerObject(region,10)\n",
    "m.addLayer(train_val_fires,{},'train_val_fires')\n",
    "m.addLayer(test_fires.style(**{'color':'red'}),{},'test_fires')\n",
    "m"
   ]
  },
  {
   "cell_type": "code",
   "execution_count": 15,
   "metadata": {},
   "outputs": [
    {
     "data": {
      "text/html": [
       "\n",
       "            <style>\n",
       "                .geemap-dark {\n",
       "                    --jp-widgets-color: white;\n",
       "                    --jp-widgets-label-color: white;\n",
       "                    --jp-ui-font-color1: white;\n",
       "                    --jp-layout-color2: #454545;\n",
       "                    background-color: #383838;\n",
       "                }\n",
       "\n",
       "                .geemap-dark .jupyter-button {\n",
       "                    --jp-layout-color3: #383838;\n",
       "                }\n",
       "\n",
       "                .geemap-colab {\n",
       "                    background-color: var(--colab-primary-surface-color, white);\n",
       "                }\n",
       "\n",
       "                .geemap-colab .jupyter-button {\n",
       "                    --jp-layout-color3: var(--colab-primary-surface-color, white);\n",
       "                }\n",
       "            </style>\n",
       "            "
      ],
      "text/plain": [
       "<IPython.core.display.HTML object>"
      ]
     },
     "metadata": {},
     "output_type": "display_data"
    }
   ],
   "source": [
    "# export\n",
    "# ee.batch.Export.table.toAsset(**{\n",
    "#     'collection': train_val_fires,\n",
    "#     'description': 'baygeo_train_val_fires',\n",
    "#     'assetId': 'projects/pyregence-ee/assets/baygeo_demo/train_val_fires'\n",
    "# }).start()\n",
    "\n",
    "# ee.batch.Export.table.toAsset(**{\n",
    "#     'collection': test_fires,\n",
    "#     'description': 'baygeo_test_fires',\n",
    "#     'assetId': 'projects/pyregence-ee/assets/baygeo_demo/test_fires'\n",
    "# }).start()\n"
   ]
  },
  {
   "cell_type": "markdown",
   "metadata": {},
   "source": [
    "# Image Compositing"
   ]
  },
  {
   "cell_type": "code",
   "execution_count": 16,
   "metadata": {},
   "outputs": [
    {
     "data": {
      "text/html": [
       "\n",
       "            <style>\n",
       "                .geemap-dark {\n",
       "                    --jp-widgets-color: white;\n",
       "                    --jp-widgets-label-color: white;\n",
       "                    --jp-ui-font-color1: white;\n",
       "                    --jp-layout-color2: #454545;\n",
       "                    background-color: #383838;\n",
       "                }\n",
       "\n",
       "                .geemap-dark .jupyter-button {\n",
       "                    --jp-layout-color3: #383838;\n",
       "                }\n",
       "\n",
       "                .geemap-colab {\n",
       "                    background-color: var(--colab-primary-surface-color, white);\n",
       "                }\n",
       "\n",
       "                .geemap-colab .jupyter-button {\n",
       "                    --jp-layout-color3: var(--colab-primary-surface-color, white);\n",
       "                }\n",
       "            </style>\n",
       "            "
      ],
      "text/plain": [
       "<IPython.core.display.HTML object>"
      ]
     },
     "metadata": {},
     "output_type": "display_data"
    }
   ],
   "source": [
    "train_val_fires = ee.FeatureCollection(\"projects/pyregence-ee/assets/baygeo_demo/train_val_fires\")\n",
    "test_fires = ee.FeatureCollection(\"projects/pyregence-ee/assets/baygeo_demo/test_fires\")"
   ]
  },
  {
   "cell_type": "code",
   "execution_count": 17,
   "metadata": {},
   "outputs": [
    {
     "data": {
      "text/html": [
       "\n",
       "            <style>\n",
       "                .geemap-dark {\n",
       "                    --jp-widgets-color: white;\n",
       "                    --jp-widgets-label-color: white;\n",
       "                    --jp-ui-font-color1: white;\n",
       "                    --jp-layout-color2: #454545;\n",
       "                    background-color: #383838;\n",
       "                }\n",
       "\n",
       "                .geemap-dark .jupyter-button {\n",
       "                    --jp-layout-color3: #383838;\n",
       "                }\n",
       "\n",
       "                .geemap-colab {\n",
       "                    background-color: var(--colab-primary-surface-color, white);\n",
       "                }\n",
       "\n",
       "                .geemap-colab .jupyter-button {\n",
       "                    --jp-layout-color3: var(--colab-primary-surface-color, white);\n",
       "                }\n",
       "            </style>\n",
       "            "
      ],
      "text/plain": [
       "<IPython.core.display.HTML object>"
      ]
     },
     "metadata": {},
     "output_type": "display_data"
    }
   ],
   "source": [
    "def set_dates_recent_mode(feat: ee.Feature):\n",
    "    '''construct pre and post start and end dates using recent fire mode'''\n",
    "    date_property = 'Ig_Date'\n",
    "    feature = ee.Feature(feat)\n",
    "    date = ee.Date(feature.get(date_property))\n",
    "    date_readable = ee.String(date.format('YYYYMMdd')) \n",
    "\n",
    "    pre_start = ee.Date(date).advance(-365, 'day') # 1 year prior, same day of discovery# 1 year prior, same day of discovery\n",
    "    pre_start_readable = ee.String(ee.Date(pre_start).format('YYYYMMdd')) \n",
    "    \n",
    "    pre_end = ee.Date(date).advance(-275, 'day')  # 1 year prior, 90 days after discovery\n",
    "    pre_end_readable = ee.String(ee.Date(pre_end).format('YYYYMMdd')) # also wasn't cast as a string before - fixed\n",
    "\n",
    "    \n",
    "    # 1st post fire composite is 1-30 days after ignition\n",
    "    post1_start = ee.Date(date).advance(1, 'day')  \n",
    "    post1_start_readable = ee.String(ee.Date(post1_start).format('YYYYMMdd'))\n",
    "\n",
    "    post1_end = ee.Date(date).advance(30, 'day')   # 30 days after discovery\n",
    "    post1_end_readable = ee.String(ee.Date(post1_end).format('YYYYMMdd'))\n",
    "\n",
    "    # 2nd post fire composite is 30-60 days after ignition\n",
    "    post2_start = ee.Date(date).advance(30, 'day')  \n",
    "    post2_start_readable = ee.String(ee.Date(post2_start).format('YYYYMMdd'))\n",
    "\n",
    "    post2_end = ee.Date(date).advance(60, 'day')   # 60 days after discovery\n",
    "    post2_end_readable = ee.String(ee.Date(post2_end).format('YYYYMMdd'))\n",
    "    \n",
    "    return feature.set(\n",
    "                        'Ig_Date_readable', date_readable,\n",
    "                        'pre_start',pre_start,'pre_start_readable',pre_start_readable,\n",
    "                        'pre_end',pre_end, 'pre_end_readable', pre_end_readable,\n",
    "                        'post1_start',post1_start, 'post1_start_readable', post1_start_readable,\n",
    "                        'post1_end',post1_end, 'post1_end_readable', post1_end_readable,\n",
    "                        'post2_start',post2_start, 'post2_start_readable', post2_start_readable,\n",
    "                        'post2_end',post2_end, 'post2_end_readable', post2_end_readable\n",
    "                        )\n"
   ]
  },
  {
   "cell_type": "code",
   "execution_count": 18,
   "metadata": {},
   "outputs": [
    {
     "data": {
      "text/html": [
       "\n",
       "            <style>\n",
       "                .geemap-dark {\n",
       "                    --jp-widgets-color: white;\n",
       "                    --jp-widgets-label-color: white;\n",
       "                    --jp-ui-font-color1: white;\n",
       "                    --jp-layout-color2: #454545;\n",
       "                    background-color: #383838;\n",
       "                }\n",
       "\n",
       "                .geemap-dark .jupyter-button {\n",
       "                    --jp-layout-color3: #383838;\n",
       "                }\n",
       "\n",
       "                .geemap-colab {\n",
       "                    background-color: var(--colab-primary-surface-color, white);\n",
       "                }\n",
       "\n",
       "                .geemap-colab .jupyter-button {\n",
       "                    --jp-layout-color3: var(--colab-primary-surface-color, white);\n",
       "                }\n",
       "            </style>\n",
       "            "
      ],
      "text/plain": [
       "<IPython.core.display.HTML object>"
      ]
     },
     "metadata": {},
     "output_type": "display_data"
    },
    {
     "name": "stdout",
     "output_type": "stream",
     "text": [
      "{'Asmnt_Type': 'Extended',\n",
      " 'BurnBndAc': 1840,\n",
      " 'BurnBndLat': '35.631',\n",
      " 'BurnBndLon': '-118.142',\n",
      " 'Comment': '',\n",
      " 'Event_ID': 'CA3564211814820140711',\n",
      " 'High_T': 400,\n",
      " 'Ig_Date': 1405062000000,\n",
      " 'Ig_Date_readable': '20140711',\n",
      " 'IncGreen_T': -150,\n",
      " 'Incid_Name': 'NICOLLS',\n",
      " 'Incid_Type': 'Wildfire',\n",
      " 'Low_T': 70,\n",
      " 'Map_ID': 22960,\n",
      " 'Map_Prog': 'MTBS',\n",
      " 'Mod_T': 213,\n",
      " 'NoData_T': -970,\n",
      " 'Perim_ID': '',\n",
      " 'Post_ID': '804103520150620',\n",
      " 'Pre_ID': '804103520130614',\n",
      " 'area': 7449491.483453475,\n",
      " 'dNBR_offst': 51,\n",
      " 'dNBR_stdDv': -9999,\n",
      " 'hs_area': 3848260.0904541016,\n",
      " 'hs_ratio': 0.5165802389333164,\n",
      " 'irwinID': '2CCDA2BF-52B2-4616-9714-A9F85198D7E3',\n",
      " 'post1_end': {'type': 'Date', 'value': 1407654000000},\n",
      " 'post1_end_readable': '20140810',\n",
      " 'post1_start': {'type': 'Date', 'value': 1405148400000},\n",
      " 'post1_start_readable': '20140712',\n",
      " 'post2_end': {'type': 'Date', 'value': 1410246000000},\n",
      " 'post2_end_readable': '20140909',\n",
      " 'post2_start': {'type': 'Date', 'value': 1407654000000},\n",
      " 'post2_start_readable': '20140810',\n",
      " 'pre_end': {'type': 'Date', 'value': 1381302000000},\n",
      " 'pre_end_readable': '20131009',\n",
      " 'pre_start': {'type': 'Date', 'value': 1373526000000},\n",
      " 'pre_start_readable': '20130711',\n",
      " 'random': 0.018778939822429175,\n",
      " 'size_class': 'small',\n",
      " 'year': 2014}\n"
     ]
    }
   ],
   "source": [
    "# test it \n",
    "test_dates = set_dates_recent_mode(test_fires.first())\n",
    "pprint(test_dates.getInfo()['properties'])\n",
    "\n",
    "# map it \n",
    "test_fires_dates = test_fires.map(set_dates_recent_mode)\n",
    "train_val_fires_dates = train_val_fires.map(set_dates_recent_mode)\n"
   ]
  },
  {
   "cell_type": "markdown",
   "metadata": {},
   "source": [
    "* now for the image chipping, it is likely more efficient (and easier for us to QA) if we make a new imageCollection, one image per fire, containing pre-, post-, and label 3-band image, \n",
    "* along with any nice metadata we can set on the image to allow us to say anything about the fire that an image chip was derived from\n",
    "* the imageCollection (and maybe FC we created it from?) is the end result of this notebook"
   ]
  },
  {
   "cell_type": "code",
   "execution_count": 48,
   "metadata": {},
   "outputs": [
    {
     "data": {
      "text/html": [
       "\n",
       "            <style>\n",
       "                .geemap-dark {\n",
       "                    --jp-widgets-color: white;\n",
       "                    --jp-widgets-label-color: white;\n",
       "                    --jp-ui-font-color1: white;\n",
       "                    --jp-layout-color2: #454545;\n",
       "                    background-color: #383838;\n",
       "                }\n",
       "\n",
       "                .geemap-dark .jupyter-button {\n",
       "                    --jp-layout-color3: #383838;\n",
       "                }\n",
       "\n",
       "                .geemap-colab {\n",
       "                    background-color: var(--colab-primary-surface-color, white);\n",
       "                }\n",
       "\n",
       "                .geemap-colab .jupyter-button {\n",
       "                    --jp-layout-color3: var(--colab-primary-surface-color, white);\n",
       "                }\n",
       "            </style>\n",
       "            "
      ],
      "text/plain": [
       "<IPython.core.display.HTML object>"
      ]
     },
     "metadata": {},
     "output_type": "display_data"
    }
   ],
   "source": [
    "def composite_pre_post(feat):\n",
    "    \"\"\"Construct Pre and Post imagery from Harmonized Landsat Sentinel L30 (Landsat only)\n",
    "            for a given fire feature\"\"\"\n",
    "    pre_start = feat.get('pre_start')\n",
    "    pre_end = feat.get('pre_end')\n",
    "    post1_start = feat.get('post1_start')\n",
    "    post1_end = feat.get('post1_end')\n",
    "    post2_start = feat.get('post2_start')\n",
    "    post2_end = feat.get('post2_end')\n",
    "    \n",
    "    region = feat.geometry()\n",
    "  \n",
    "    def qa(img):\n",
    "        \"\"\"mask clouds, shadows, snow\"\"\"\n",
    "        qa_band = img.select(\"Fmask\")\n",
    "        qa_flag = int('11111',2) # 0-4 bits are cirrus, cloud, adjacent to cloud shadow, cloud shadow, snow&ice\n",
    "        mask = qa_band.bitwiseAnd(qa_flag).eq(0)\n",
    "        \n",
    "        return img.updateMask(mask)\n",
    "\n",
    "    hlsl30 = (ee.ImageCollection(\"NASA/HLS/HLSL30/v002\")\n",
    "    .filterBounds(region)\n",
    "    .map(qa) \n",
    "     .select(['B2','B3','B4','B5','B6','B7'],\n",
    "            ['blue','green','red','nir','swir1','swir2']))\n",
    "    \n",
    "    pre_coll = hlsl30.filterDate(pre_start, pre_end)\n",
    "    post1_coll = hlsl30.filterDate(post1_start, post1_end)\n",
    "    post2_coll = hlsl30.filterDate(post2_start, post2_end)\n",
    "\n",
    "    pre_comp = (pre_coll.median().regexpRename('^[^_]*_', '') #remove all up to and including first underscore\n",
    "    # .regexpRename('^(.*)$', 'pre_$1')) # adds pre_ to all bands\n",
    "    )\n",
    "    post1_comp = (post1_coll.median().regexpRename('^[^_]*_', '')\n",
    "    # .regexpRename('^(.*)$', 'pre_$1')) # adds pre_ to all bands\n",
    "    )\n",
    "    post2_comp = (post2_coll.median().regexpRename('^[^_]*_', '')\n",
    "    # .regexpRename('^(.*)$', 'pre_$1')) # adds pre_ to all bands\n",
    "    )\n",
    "    return ee.Image(ee.ImageCollection.fromImages([pre_comp, post1_comp, post2_comp])\n",
    "                    .toBands()\n",
    "                    .set('system:time_start', ee.Date(pre_start).millis(),\n",
    "                         'system:time_end', ee.Date(post2_end).millis())\n",
    "                         .copyProperties(feat))\n",
    "\n",
    "def get_mtbs_label(feat):\n",
    "    \"\"\"Get the MTBS burn severity label for a given fire feature\"\"\"\n",
    "    year = feat.get('year')\n",
    "    severity_img = mtbs_bs.filter(ee.Filter.calendarRange(year, year, 'year')).first()\n",
    "    label_img = (severity_img.eq(3) # label img is binary: high-severity(1), non-high severity (0)\n",
    "        .updateMask(ee.Image().paint(feat.geometry(),1))\n",
    "        .rename('label'))\n",
    "    return ee.Image(label_img).copyProperties(feat)"
   ]
  },
  {
   "cell_type": "code",
   "execution_count": 49,
   "metadata": {},
   "outputs": [
    {
     "data": {
      "text/html": [
       "\n",
       "            <style>\n",
       "                .geemap-dark {\n",
       "                    --jp-widgets-color: white;\n",
       "                    --jp-widgets-label-color: white;\n",
       "                    --jp-ui-font-color1: white;\n",
       "                    --jp-layout-color2: #454545;\n",
       "                    background-color: #383838;\n",
       "                }\n",
       "\n",
       "                .geemap-dark .jupyter-button {\n",
       "                    --jp-layout-color3: #383838;\n",
       "                }\n",
       "\n",
       "                .geemap-colab {\n",
       "                    background-color: var(--colab-primary-surface-color, white);\n",
       "                }\n",
       "\n",
       "                .geemap-colab .jupyter-button {\n",
       "                    --jp-layout-color3: var(--colab-primary-surface-color, white);\n",
       "                }\n",
       "            </style>\n",
       "            "
      ],
      "text/plain": [
       "<IPython.core.display.HTML object>"
      ]
     },
     "metadata": {},
     "output_type": "display_data"
    },
    {
     "name": "stdout",
     "output_type": "stream",
     "text": [
      "['0_blue', '0_green', '0_red', '0_nir', '0_swir1', '0_swir2', '1_blue', '1_green', '1_red', '1_nir', '1_swir1', '1_swir2', '2_blue', '2_green', '2_red', '2_nir', '2_swir1', '2_swir2']\n",
      "100\n",
      "100\n",
      "5\n",
      "5\n"
     ]
    }
   ],
   "source": [
    "# test it\n",
    "test_composite = composite_pre_post(train_val_fires_dates.first())\n",
    "print(test_composite.bandNames().getInfo())\n",
    "# pprint(test_composite.getInfo()['properties'])\n",
    "\n",
    "test_label = get_mtbs_label(test_fires_dates.first())\n",
    "# pprint(test_label.getInfo()['properties'])\n",
    "\n",
    "# map it\n",
    "train_val_composites = train_val_fires_dates.map(composite_pre_post)\n",
    "train_val_labels = train_val_fires_dates.map(get_mtbs_label)\n",
    "\n",
    "print(train_val_composites.size().getInfo())\n",
    "print(train_val_labels.size().getInfo())\n",
    "\n",
    "test_composites = test_fires_dates.map(composite_pre_post)\n",
    "test_labels = test_fires_dates.map(get_mtbs_label)\n",
    "\n",
    "print(test_composites.size().getInfo())\n",
    "print(test_labels.size().getInfo())\n"
   ]
  },
  {
   "cell_type": "code",
   "execution_count": 21,
   "metadata": {},
   "outputs": [
    {
     "data": {
      "text/html": [
       "\n",
       "            <style>\n",
       "                .geemap-dark {\n",
       "                    --jp-widgets-color: white;\n",
       "                    --jp-widgets-label-color: white;\n",
       "                    --jp-ui-font-color1: white;\n",
       "                    --jp-layout-color2: #454545;\n",
       "                    background-color: #383838;\n",
       "                }\n",
       "\n",
       "                .geemap-dark .jupyter-button {\n",
       "                    --jp-layout-color3: #383838;\n",
       "                }\n",
       "\n",
       "                .geemap-colab {\n",
       "                    background-color: var(--colab-primary-surface-color, white);\n",
       "                }\n",
       "\n",
       "                .geemap-colab .jupyter-button {\n",
       "                    --jp-layout-color3: var(--colab-primary-surface-color, white);\n",
       "                }\n",
       "            </style>\n",
       "            "
      ],
      "text/plain": [
       "<IPython.core.display.HTML object>"
      ]
     },
     "metadata": {},
     "output_type": "display_data"
    }
   ],
   "source": [
    "# # sanity check\n",
    "# m = geemap.Map()\n",
    "# m.centerObject(train_val_fires_dates.limit(1,'BurnBndAc',False).first(),10)\n",
    "# m.addLayer(ee.ImageCollection(train_val_composites).limit(1,'BurnBndAc',False).first().select([2,1,0]),{'min':0,'max':0.3},'train_val_composite')\n",
    "# m.addLayer(ee.ImageCollection(train_val_labels).limit(1,'BurnBndAc',False).first(),{'min':0,'max':1,'palette':['red']},'train_val_label')\n",
    "# m.addLayer(train_val_fires_dates.limit(1,'BurnBndAc',False).first(),{},'train_val_fire')\n",
    "# m\n"
   ]
  },
  {
   "cell_type": "code",
   "execution_count": 22,
   "metadata": {},
   "outputs": [
    {
     "data": {
      "text/html": [
       "\n",
       "            <style>\n",
       "                .geemap-dark {\n",
       "                    --jp-widgets-color: white;\n",
       "                    --jp-widgets-label-color: white;\n",
       "                    --jp-ui-font-color1: white;\n",
       "                    --jp-layout-color2: #454545;\n",
       "                    background-color: #383838;\n",
       "                }\n",
       "\n",
       "                .geemap-dark .jupyter-button {\n",
       "                    --jp-layout-color3: #383838;\n",
       "                }\n",
       "\n",
       "                .geemap-colab {\n",
       "                    background-color: var(--colab-primary-surface-color, white);\n",
       "                }\n",
       "\n",
       "                .geemap-colab .jupyter-button {\n",
       "                    --jp-layout-color3: var(--colab-primary-surface-color, white);\n",
       "                }\n",
       "            </style>\n",
       "            "
      ],
      "text/plain": [
       "<IPython.core.display.HTML object>"
      ]
     },
     "metadata": {},
     "output_type": "display_data"
    }
   ],
   "source": [
    "# m = geemap.Map()\n",
    "# m.centerObject(train_val_fires_dates.limit(5,'BurnBndAc',False),10)\n",
    "# m.addLayer(ee.ImageCollection(train_val_composites).limit(5,'BurnBndAc',False).select([2,1,0]),{'min':0,'max':0.3},'train_val_composite')\n",
    "# m.addLayer(ee.ImageCollection(train_val_labels).limit(5,'BurnBndAc',False),{'min':0,'max':1,'palette':['grey','red']},'train_val_label')\n",
    "# m.addLayer(train_val_fires_dates.limit(5,'BurnBndAc',False),{},'train_val_fire')\n",
    "# m"
   ]
  },
  {
   "cell_type": "code",
   "execution_count": 32,
   "metadata": {},
   "outputs": [
    {
     "data": {
      "text/html": [
       "\n",
       "            <style>\n",
       "                .geemap-dark {\n",
       "                    --jp-widgets-color: white;\n",
       "                    --jp-widgets-label-color: white;\n",
       "                    --jp-ui-font-color1: white;\n",
       "                    --jp-layout-color2: #454545;\n",
       "                    background-color: #383838;\n",
       "                }\n",
       "\n",
       "                .geemap-dark .jupyter-button {\n",
       "                    --jp-layout-color3: #383838;\n",
       "                }\n",
       "\n",
       "                .geemap-colab {\n",
       "                    background-color: var(--colab-primary-surface-color, white);\n",
       "                }\n",
       "\n",
       "                .geemap-colab .jupyter-button {\n",
       "                    --jp-layout-color3: var(--colab-primary-surface-color, white);\n",
       "                }\n",
       "            </style>\n",
       "            "
      ],
      "text/plain": [
       "<IPython.core.display.HTML object>"
      ]
     },
     "metadata": {},
     "output_type": "display_data"
    },
    {
     "data": {
      "application/vnd.jupyter.widget-view+json": {
       "model_id": "ce51caeafaad49da8a6aa7b88f5bf92d",
       "version_major": 2,
       "version_minor": 0
      },
      "text/plain": [
       "Map(center=[38.71812748788715, -119.73064845618894], controls=(WidgetControl(options=['position', 'transparent…"
      ]
     },
     "execution_count": 32,
     "metadata": {},
     "output_type": "execute_result"
    }
   ],
   "source": [
    "m = geemap.Map()\n",
    "m.centerObject(test_fires_dates.limit(1,'BurnBndAc',False).first(),10)\n",
    "m.addLayer(ee.ImageCollection(test_composites).limit(1,'BurnBndAc',False).first().select([2,1,0]),{'min':0,'max':0.3},'test_composite_pre')\n",
    "m.addLayer(ee.ImageCollection(test_composites).limit(1,'BurnBndAc',False).first().select([8,7,6]),{'min':0,'max':0.3},'test_composite_post1')\n",
    "m.addLayer(ee.ImageCollection(test_composites).limit(1,'BurnBndAc',False).first().select([14,13,12]),{'min':0,'max':0.3},'test_composite_post2')\n",
    "\n",
    "m.addLayer(ee.ImageCollection(test_labels).limit(1,'BurnBndAc',False).first(),{'min':0,'max':1,'palette':['grey','red']},'train_val_label')\n",
    "m.addLayer(test_fires_dates.limit(1,'BurnBndAc',False).first(),{},'test_fire')\n",
    "m"
   ]
  },
  {
   "cell_type": "code",
   "execution_count": 37,
   "metadata": {},
   "outputs": [
    {
     "data": {
      "text/html": [
       "\n",
       "            <style>\n",
       "                .geemap-dark {\n",
       "                    --jp-widgets-color: white;\n",
       "                    --jp-widgets-label-color: white;\n",
       "                    --jp-ui-font-color1: white;\n",
       "                    --jp-layout-color2: #454545;\n",
       "                    background-color: #383838;\n",
       "                }\n",
       "\n",
       "                .geemap-dark .jupyter-button {\n",
       "                    --jp-layout-color3: #383838;\n",
       "                }\n",
       "\n",
       "                .geemap-colab {\n",
       "                    background-color: var(--colab-primary-surface-color, white);\n",
       "                }\n",
       "\n",
       "                .geemap-colab .jupyter-button {\n",
       "                    --jp-layout-color3: var(--colab-primary-surface-color, white);\n",
       "                }\n",
       "            </style>\n",
       "            "
      ],
      "text/plain": [
       "<IPython.core.display.HTML object>"
      ]
     },
     "metadata": {},
     "output_type": "display_data"
    }
   ],
   "source": [
    "test_composites_export = test_composites.toList(test_composites.size())\n",
    "\n",
    "for i in list(range(test_composites_export.size().getInfo())):\n",
    "    image = ee.Image(test_composites_export.get(i))\n",
    "    ee.batch.Export.image.toAsset(**{\n",
    "    'image': image,\n",
    "    'description': f'baygeo_test_composites_{str(i)}',\n",
    "    'assetId': f'projects/pyregence-ee/assets/baygeo_demo/test_composites/composite_{str(i)}',\n",
    "    'region': region.geometry(),\n",
    "    'scale': 30,\n",
    "    'maxPixels': 1e13\n",
    "}).start()"
   ]
  }
 ],
 "metadata": {
  "kernelspec": {
   "display_name": "mitsui",
   "language": "python",
   "name": "python3"
  },
  "language_info": {
   "codemirror_mode": {
    "name": "ipython",
    "version": 3
   },
   "file_extension": ".py",
   "mimetype": "text/x-python",
   "name": "python",
   "nbconvert_exporter": "python",
   "pygments_lexer": "ipython3",
   "version": "3.12.4"
  }
 },
 "nbformat": 4,
 "nbformat_minor": 2
}
