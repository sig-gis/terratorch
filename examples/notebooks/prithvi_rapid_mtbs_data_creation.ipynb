{
 "cells": [
  {
   "cell_type": "markdown",
   "metadata": {},
   "source": [
    "# Goals\n",
    "* We want to use MTBS as the labels to try to model MTBS severity off of rapid post-fire assessment satellite imagery\n",
    "* For fires, you have to have a separate image per fire to do a proper temporal windowing for pre- and post-fire\n",
    "* So the funadmental sample unit is one fire, inside which we will create a certain number of image chips\n",
    "* We will use some metric to select a representative handful of fires in the Sierra Nevada region to create our 10k image chips\n",
    "* Then we will create the pre- and post- fire imagery for each of those fires, and append the MTBS severity raster as the labels, \n",
    "* So we will be passing to the model a raster dataset of pre-, post-, label"
   ]
  },
  {
   "cell_type": "code",
   "execution_count": 2,
   "metadata": {},
   "outputs": [],
   "source": [
    "import ee\n",
    "from pprint import pprint\n",
    "# import geemap\n",
    "import geemap.foliumap as geemap # can't get ipyleaflet backend to work in vscode - Noah\n",
    "import pandas as pd\n",
    "import seaborn as sns\n",
    "import matplotlib.pyplot as plt\n",
    "import numpy as np\n",
    "import rasterio\n",
    "from tqdm import tqdm\n",
    "import ee\n",
    "ee.Initialize(project='pyregence-ee')"
   ]
  },
  {
   "cell_type": "markdown",
   "metadata": {},
   "source": [
    "## Data Exploration and Sampling Strategy"
   ]
  },
  {
   "cell_type": "code",
   "execution_count": 2,
   "metadata": {},
   "outputs": [
    {
     "name": "stdout",
     "output_type": "stream",
     "text": [
      "39\n",
      "[0, 1, 2, 3, 4, 5, 6]\n",
      "['Background', 'Unburned to Low', 'Low', 'Moderate', 'High', 'Increased Greenness', 'Non-Mapping Area']\n"
     ]
    }
   ],
   "source": [
    "# Sierras \n",
    "region = (ee.FeatureCollection(\"projects/pyregence-ee/assets/conus/landfire/zones\")\n",
    "            .filterMetadata('ZONE_NUM', 'equals', 6))\n",
    "\n",
    "mtbs_bs = (ee.ImageCollection(\"USFS/GTAC/MTBS/annual_burn_severity_mosaics/v1\")\n",
    ".filterMetadata('system:index', 'contains', 'CONUS'))\n",
    "print(mtbs_bs.size().getInfo())\n",
    "# we will re-classify the severity values to \n",
    "# lump unburned and low together, \n",
    "# background and non-mapping area together, \n",
    "# and increased greenness in with .. low?\n",
    "print(mtbs_bs.first().getInfo()['properties']['Severity_class_values'])\n",
    "print(mtbs_bs.first().getInfo()['properties']['Severity_class_names'])\n",
    "\n",
    "def reclass(img):\n",
    "    return img.remap([0,1,2,3,4,5,6],[0,1,1,2,3,1,0])\n",
    "\n",
    "mtbs_bs = mtbs_bs.map(reclass)\n"
   ]
  },
  {
   "cell_type": "code",
   "execution_count": 3,
   "metadata": {},
   "outputs": [
    {
     "name": "stdout",
     "output_type": "stream",
     "text": [
      "{'Extended': 422, 'Initial': 218, 'Initial (SS)': 16}\n"
     ]
    }
   ],
   "source": [
    "mtbs_fires = ee.FeatureCollection(\"USFS/GTAC/MTBS/burned_area_boundaries/v1\")\n",
    "\n",
    "sierra_fires = mtbs_fires.filterBounds(region)\n",
    "# print(sierra_fires.size().getInfo())\n",
    "\n",
    "# how many intiial versus extended fire assessments\n",
    "print(sierra_fires.aggregate_histogram('Asmnt_Type').getInfo())"
   ]
  },
  {
   "cell_type": "code",
   "execution_count": 4,
   "metadata": {},
   "outputs": [
    {
     "name": "stdout",
     "output_type": "stream",
     "text": [
      "86\n",
      "{'2015': 8,\n",
      " '2016': 14,\n",
      " '2017': 15,\n",
      " '2018': 11,\n",
      " '2019': 5,\n",
      " '2020': 15,\n",
      " '2021': 13,\n",
      " '2022': 5}\n"
     ]
    }
   ],
   "source": [
    "from pprint import pprint\n",
    "# we will only use extended assessment fires occurring in or after 2015 \n",
    "# HLS coverage begins in 2013-04 and we need imagery from a year prior to the fire\n",
    "def set_year(f):\n",
    "    return f.set('year', ee.Date(f.get('Ig_Date')).get('year'))\n",
    "\n",
    "sierra_fires = (sierra_fires\n",
    ".filter(ee.Filter.eq('Asmnt_Type', 'Extended'))\n",
    ".map(set_year)\n",
    ".filter(ee.Filter.gte('year',2015))\n",
    "\n",
    ")\n",
    "print(sierra_fires.size().getInfo())\n",
    "pprint(sierra_fires.aggregate_histogram('year').getInfo())"
   ]
  },
  {
   "cell_type": "markdown",
   "metadata": {},
   "source": [
    "* Lets explore the relationship of fire severity to fire size to determine a useful sampling strategy"
   ]
  },
  {
   "cell_type": "code",
   "execution_count": 5,
   "metadata": {},
   "outputs": [
    {
     "name": "stdout",
     "output_type": "stream",
     "text": [
      "{'Asmnt_Type': 'Extended',\n",
      " 'BurnBndAc': 2828,\n",
      " 'BurnBndLat': '40.378',\n",
      " 'BurnBndLon': '-120.749',\n",
      " 'Comment': '',\n",
      " 'Event_ID': 'CA4036812080220160911',\n",
      " 'High_T': 320,\n",
      " 'Ig_Date': 1473577200000,\n",
      " 'IncGreen_T': -150,\n",
      " 'Incid_Name': 'WILLARD',\n",
      " 'Incid_Type': 'Wildfire',\n",
      " 'Low_T': 30,\n",
      " 'Map_ID': 10004874,\n",
      " 'Map_Prog': 'MTBS',\n",
      " 'Mod_T': 155,\n",
      " 'NoData_T': -970,\n",
      " 'Perim_ID': '',\n",
      " 'Post_ID': '804403220170716',\n",
      " 'Pre_ID': '804403220160713',\n",
      " 'area': 11432976.885349168,\n",
      " 'dNBR_offst': -37,\n",
      " 'dNBR_stdDv': 16,\n",
      " 'hs_area': 3139258.938008626,\n",
      " 'hs_ratio': 0.27457931293742416,\n",
      " 'irwinID': '0517B37F-F8E9-4260-ABB2-308BC2FA6A8A',\n",
      " 'year': 2016}\n"
     ]
    }
   ],
   "source": [
    "def ratio(f):\n",
    "    \"\"\"Set the ratio of high severity area to total fire area on a fire (ee.Feature)\"\"\"\n",
    "    area = f.geometry().area()\n",
    "    mtbs_year = mtbs_bs.filter(ee.Filter.calendarRange(f.get('year'), f.get('year'), 'year')).first()\n",
    "    reducer = ee.Reducer.sum()\n",
    "    area_img = ee.Image.pixelArea()\n",
    "    hs = mtbs_year.eq(3).selfMask() # high severity binary img\n",
    "    hs_area = area_img.updateMask(hs).reduceRegion(reducer, f.geometry(), 30)\n",
    "    return f.set('area',area,\n",
    "                 'hs_ratio', ee.Number(hs_area.get('area')).divide(area),\n",
    "                 'hs_area', hs_area.get('area'))\n",
    "\n",
    "# test it\n",
    "r = ratio(sierra_fires.first())\n",
    "pprint(r.getInfo()['properties'])\n",
    "\n",
    "# map it \n",
    "sierra_fires = sierra_fires.map(ratio)"
   ]
  },
  {
   "cell_type": "code",
   "execution_count": 6,
   "metadata": {},
   "outputs": [
    {
     "data": {
      "application/vnd.jupyter.widget-view+json": {
       "model_id": "65232eb7c02341918df30951cbf3598a",
       "version_major": 2,
       "version_minor": 0
      },
      "text/plain": [
       "Map(center=[40.37639896236704, -120.74927438138413], controls=(WidgetControl(options=['position', 'transparent…"
      ]
     },
     "execution_count": 6,
     "metadata": {},
     "output_type": "execute_result"
    }
   ],
   "source": [
    "import geemap\n",
    "Map = geemap.Map()\n",
    "Map.centerObject(r,12)\n",
    "Map.addLayer(mtbs_bs.filter(ee.Filter.calendarRange(2016,2016, 'year')).first(),{'min':0,'max':3,'palette':['black','green','yellow','red']},'burn severity')\n",
    "Map.addLayer(ee.Feature(r),{},'ratio fire')\n",
    "\n",
    "Map"
   ]
  },
  {
   "cell_type": "code",
   "execution_count": 7,
   "metadata": {},
   "outputs": [
    {
     "data": {
      "text/html": [
       "\n",
       "            <style>\n",
       "                .geemap-dark {\n",
       "                    --jp-widgets-color: white;\n",
       "                    --jp-widgets-label-color: white;\n",
       "                    --jp-ui-font-color1: white;\n",
       "                    --jp-layout-color2: #454545;\n",
       "                    background-color: #383838;\n",
       "                }\n",
       "\n",
       "                .geemap-dark .jupyter-button {\n",
       "                    --jp-layout-color3: #383838;\n",
       "                }\n",
       "\n",
       "                .geemap-colab {\n",
       "                    background-color: var(--colab-primary-surface-color, white);\n",
       "                }\n",
       "\n",
       "                .geemap-colab .jupyter-button {\n",
       "                    --jp-layout-color3: var(--colab-primary-surface-color, white);\n",
       "                }\n",
       "            </style>\n",
       "            "
      ],
      "text/plain": [
       "<IPython.core.display.HTML object>"
      ]
     },
     "metadata": {},
     "output_type": "display_data"
    }
   ],
   "source": [
    "import pandas as pd\n",
    "# Get 'area' and 'hs_ratio' values from the ee.FeatureCollection\n",
    "area_values = sierra_fires.aggregate_array('area').getInfo()\n",
    "area_values = [x/4046.86 for x in area_values] # convert to acres\n",
    "hs_area_values = sierra_fires.aggregate_array('hs_area').getInfo()\n",
    "hs_ratio_values = sierra_fires.aggregate_array('hs_ratio').getInfo()\n",
    "\n",
    "# Create a pandas DataFrame\n",
    "df = pd.DataFrame({'Area': area_values, \n",
    "                   'HS Area': hs_area_values, \n",
    "                   'HS Ratio': hs_ratio_values})\n"
   ]
  },
  {
   "cell_type": "code",
   "execution_count": 8,
   "metadata": {},
   "outputs": [
    {
     "data": {
      "text/html": [
       "\n",
       "            <style>\n",
       "                .geemap-dark {\n",
       "                    --jp-widgets-color: white;\n",
       "                    --jp-widgets-label-color: white;\n",
       "                    --jp-ui-font-color1: white;\n",
       "                    --jp-layout-color2: #454545;\n",
       "                    background-color: #383838;\n",
       "                }\n",
       "\n",
       "                .geemap-dark .jupyter-button {\n",
       "                    --jp-layout-color3: #383838;\n",
       "                }\n",
       "\n",
       "                .geemap-colab {\n",
       "                    background-color: var(--colab-primary-surface-color, white);\n",
       "                }\n",
       "\n",
       "                .geemap-colab .jupyter-button {\n",
       "                    --jp-layout-color3: var(--colab-primary-surface-color, white);\n",
       "                }\n",
       "            </style>\n",
       "            "
      ],
      "text/plain": [
       "<IPython.core.display.HTML object>"
      ]
     },
     "metadata": {},
     "output_type": "display_data"
    },
    {
     "data": {
      "image/png": "[encoded data removed]",
      "text/plain": [
       "<Figure size 1000x600 with 1 Axes>"
      ]
     },
     "metadata": {},
     "output_type": "display_data"
    }
   ],
   "source": [
    "# Fire Area vs High Severity Area\n",
    "import seaborn as sns\n",
    "import matplotlib.pyplot as plt\n",
    "\n",
    "plt.figure(figsize=(10, 6))\n",
    "sns.scatterplot(data=df, x='Area', y='HS Area', hue=sns.kdeplot(df,x='Area',y='HS Area'), palette='viridis')\n",
    "plt.xlabel('Area (ac)')\n",
    "plt.ylabel('HS Area')\n",
    "plt.title('Scatterplot of Area vs HS Area')\n",
    "plt.show()"
   ]
  },
  {
   "cell_type": "markdown",
   "metadata": {},
   "source": [
    "* can reasonably say that there is some kind of rough linear relationship of fire size to severity area, bigger fires have more high-severity burn area"
   ]
  },
  {
   "cell_type": "code",
   "execution_count": 9,
   "metadata": {},
   "outputs": [
    {
     "data": {
      "text/html": [
       "\n",
       "            <style>\n",
       "                .geemap-dark {\n",
       "                    --jp-widgets-color: white;\n",
       "                    --jp-widgets-label-color: white;\n",
       "                    --jp-ui-font-color1: white;\n",
       "                    --jp-layout-color2: #454545;\n",
       "                    background-color: #383838;\n",
       "                }\n",
       "\n",
       "                .geemap-dark .jupyter-button {\n",
       "                    --jp-layout-color3: #383838;\n",
       "                }\n",
       "\n",
       "                .geemap-colab {\n",
       "                    background-color: var(--colab-primary-surface-color, white);\n",
       "                }\n",
       "\n",
       "                .geemap-colab .jupyter-button {\n",
       "                    --jp-layout-color3: var(--colab-primary-surface-color, white);\n",
       "                }\n",
       "            </style>\n",
       "            "
      ],
      "text/plain": [
       "<IPython.core.display.HTML object>"
      ]
     },
     "metadata": {},
     "output_type": "display_data"
    },
    {
     "data": {
      "image/png": "[encoded data removed]",
      "text/plain": [
       "<Figure size 1000x600 with 1 Axes>"
      ]
     },
     "metadata": {},
     "output_type": "display_data"
    }
   ],
   "source": [
    "import seaborn as sns\n",
    "plt.figure(figsize=(10, 6))\n",
    "sns.scatterplot(data=df, x='Area', y='HS Ratio', hue=sns.kdeplot(df,x='Area',y='HS Ratio'), palette='viridis')\n",
    "plt.xlabel('Area (ac)')\n",
    "plt.ylabel('HS Ratio')\n",
    "plt.title('Scatterplot of Area vs HS Ratio')\n",
    "plt.show()"
   ]
  },
  {
   "cell_type": "markdown",
   "metadata": {},
   "source": [
    "* however, the % of high severity burn within a fire doesnt increase linearly with fire size"
   ]
  },
  {
   "cell_type": "markdown",
   "metadata": {},
   "source": [
    "* now that we've established that, we can keep it simple with the stratification, we'll consider fire size in our train/val/test stratification\n",
    "\n",
    "* we'll bin into small/medium/large using the fire size distribution among our dataset"
   ]
  },
  {
   "cell_type": "code",
   "execution_count": 10,
   "metadata": {},
   "outputs": [
    {
     "data": {
      "text/html": [
       "\n",
       "            <style>\n",
       "                .geemap-dark {\n",
       "                    --jp-widgets-color: white;\n",
       "                    --jp-widgets-label-color: white;\n",
       "                    --jp-ui-font-color1: white;\n",
       "                    --jp-layout-color2: #454545;\n",
       "                    background-color: #383838;\n",
       "                }\n",
       "\n",
       "                .geemap-dark .jupyter-button {\n",
       "                    --jp-layout-color3: #383838;\n",
       "                }\n",
       "\n",
       "                .geemap-colab {\n",
       "                    background-color: var(--colab-primary-surface-color, white);\n",
       "                }\n",
       "\n",
       "                .geemap-colab .jupyter-button {\n",
       "                    --jp-layout-color3: var(--colab-primary-surface-color, white);\n",
       "                }\n",
       "            </style>\n",
       "            "
      ],
      "text/plain": [
       "<IPython.core.display.HTML object>"
      ]
     },
     "metadata": {},
     "output_type": "display_data"
    },
    {
     "name": "stdout",
     "output_type": "stream",
     "text": [
      "[1006, 1057, 1063, 1064, 1102, 1137, 1168, 1184, 1204, 1270, 1313, 1316, 1477, 1672, 1700, 1805, 1996, 2121, 2150, 2289, 2315, 2317, 2448, 2487, 2633, 2706, 2828, 2829, 2977, 3003, 3034, 3155, 3508, 4065, 4264, 4346, 4390, 4545, 4980, 5221, 5556, 5743, 5990, 6018, 6163, 6488, 6955, 7016, 7224, 7713, 8053, 8495, 9011, 9090, 9685, 9717, 12765, 14252, 14416, 16100, 18485, 18576, 18640, 19408, 26437, 27331, 29150, 29191, 36151, 36626, 48066, 58747, 70171, 72894, 77858, 83297, 89960, 97307, 97831, 146369, 153687, 174424, 226583, 316556, 381441, 979795]\n"
     ]
    }
   ],
   "source": [
    "fire_sizes = sierra_fires.aggregate_array('BurnBndAc').getInfo()\n",
    "fire_sizes.sort()\n",
    "print(fire_sizes)"
   ]
  },
  {
   "cell_type": "code",
   "execution_count": 11,
   "metadata": {},
   "outputs": [
    {
     "data": {
      "text/html": [
       "\n",
       "            <style>\n",
       "                .geemap-dark {\n",
       "                    --jp-widgets-color: white;\n",
       "                    --jp-widgets-label-color: white;\n",
       "                    --jp-ui-font-color1: white;\n",
       "                    --jp-layout-color2: #454545;\n",
       "                    background-color: #383838;\n",
       "                }\n",
       "\n",
       "                .geemap-dark .jupyter-button {\n",
       "                    --jp-layout-color3: #383838;\n",
       "                }\n",
       "\n",
       "                .geemap-colab {\n",
       "                    background-color: var(--colab-primary-surface-color, white);\n",
       "                }\n",
       "\n",
       "                .geemap-colab .jupyter-button {\n",
       "                    --jp-layout-color3: var(--colab-primary-surface-color, white);\n",
       "                }\n",
       "            </style>\n",
       "            "
      ],
      "text/plain": [
       "<IPython.core.display.HTML object>"
      ]
     },
     "metadata": {},
     "output_type": "display_data"
    },
    {
     "name": "stdout",
     "output_type": "stream",
     "text": [
      "bin edges (in acres; 25th, 75th):[2349, 24679]\n",
      "{'large': 22, 'medium': 42, 'small': 22}\n"
     ]
    }
   ],
   "source": [
    "import numpy as np\n",
    "\n",
    "# bin fires into one of 3 size classes based on the fire sizes in this distribution\n",
    "percentile_value = [int(v) for v in np.percentile(fire_sizes, [25,75])]\n",
    "print(f'bin edges (in acres; 25th, 75th):{percentile_value}')\n",
    "\n",
    "small_fires = (sierra_fires.filter(ee.Filter.lt('BurnBndAc',percentile_value[0]))\n",
    ".map(lambda f: f.set('size_class', 'small')))\n",
    "\n",
    "medium_fires = (sierra_fires.filter(ee.Filter.And(ee.Filter.gte('BurnBndAc',percentile_value[0]),\n",
    "                                                 ee.Filter.lt('BurnBndAc',percentile_value[1])))\n",
    ".map(lambda f: f.set('size_class', 'medium')))\n",
    "\n",
    "large_fires = (sierra_fires.filter(ee.Filter.gte('BurnBndAc',percentile_value[1]))\n",
    ".map(lambda f: f.set('size_class', 'large')))\n",
    "\n",
    "final_fires_fc = small_fires.merge(medium_fires).merge(large_fires)\n",
    "\n",
    "print(final_fires_fc.aggregate_histogram('size_class').getInfo())\n"
   ]
  },
  {
   "cell_type": "markdown",
   "metadata": {},
   "source": [
    "* we will do a 70/20/5 train/val/test split\n",
    "* for better model evaluation on the test set, we will withold 5% of the data as entire fires.\n",
    "* the train and val dataset will consist of 75% and 20% of the rest of the 95% of fire data, chipped up and sampled at random"
   ]
  },
  {
   "cell_type": "code",
   "execution_count": 12,
   "metadata": {},
   "outputs": [
    {
     "data": {
      "text/html": [
       "\n",
       "            <style>\n",
       "                .geemap-dark {\n",
       "                    --jp-widgets-color: white;\n",
       "                    --jp-widgets-label-color: white;\n",
       "                    --jp-ui-font-color1: white;\n",
       "                    --jp-layout-color2: #454545;\n",
       "                    background-color: #383838;\n",
       "                }\n",
       "\n",
       "                .geemap-dark .jupyter-button {\n",
       "                    --jp-layout-color3: #383838;\n",
       "                }\n",
       "\n",
       "                .geemap-colab {\n",
       "                    background-color: var(--colab-primary-surface-color, white);\n",
       "                }\n",
       "\n",
       "                .geemap-colab .jupyter-button {\n",
       "                    --jp-layout-color3: var(--colab-primary-surface-color, white);\n",
       "                }\n",
       "            </style>\n",
       "            "
      ],
      "text/plain": [
       "<IPython.core.display.HTML object>"
      ]
     },
     "metadata": {},
     "output_type": "display_data"
    },
    {
     "name": "stdout",
     "output_type": "stream",
     "text": [
      "4\n"
     ]
    }
   ],
   "source": [
    "# 5% of total number of fires\n",
    "test_percent = int(final_fires_fc.size().multiply(0.05).getInfo())\n",
    "print(test_percent) # 4"
   ]
  },
  {
   "cell_type": "code",
   "execution_count": 13,
   "metadata": {},
   "outputs": [
    {
     "data": {
      "text/html": [
       "\n",
       "            <style>\n",
       "                .geemap-dark {\n",
       "                    --jp-widgets-color: white;\n",
       "                    --jp-widgets-label-color: white;\n",
       "                    --jp-ui-font-color1: white;\n",
       "                    --jp-layout-color2: #454545;\n",
       "                    background-color: #383838;\n",
       "                }\n",
       "\n",
       "                .geemap-dark .jupyter-button {\n",
       "                    --jp-layout-color3: #383838;\n",
       "                }\n",
       "\n",
       "                .geemap-colab {\n",
       "                    background-color: var(--colab-primary-surface-color, white);\n",
       "                }\n",
       "\n",
       "                .geemap-colab .jupyter-button {\n",
       "                    --jp-layout-color3: var(--colab-primary-surface-color, white);\n",
       "                }\n",
       "            </style>\n",
       "            "
      ],
      "text/plain": [
       "<IPython.core.display.HTML object>"
      ]
     },
     "metadata": {},
     "output_type": "display_data"
    },
    {
     "name": "stdout",
     "output_type": "stream",
     "text": [
      "[1477, 5990, 5743, 316556]\n",
      "[0.5103517783342654, 0.26504842315697213, 0.2544111052858907, 0.46870123832087635]\n"
     ]
    }
   ],
   "source": [
    "# so we will randomly take 2 medium fires, and 1 small and 1 large fire respectively for our test set\n",
    "# also want to make sure our test fires all have a decent amount of high severity area to test against\n",
    "seed = 5555\n",
    "test_small = (final_fires_fc\n",
    ".filter(ee.Filter.eq('size_class','small'))\n",
    ".randomColumn(seed=seed)\n",
    ".limit(5,'random') # of 5 random small fires\n",
    ".limit(1,'hs_ratio',False) # take the one with highest hs_ratio\n",
    ")\n",
    "\n",
    "test_medium = (final_fires_fc\n",
    ".filter(ee.Filter.eq('size_class','medium'))\n",
    ".randomColumn(seed=seed)\n",
    ".limit(10,'random')\n",
    ".limit(2,'hs_ratio',False)\n",
    ")\n",
    "test_large = (final_fires_fc\n",
    ".filter(ee.Filter.eq('size_class','large'))\n",
    ".randomColumn(seed=seed)\n",
    ".limit(5,'random')\n",
    ".limit(1,'hs_ratio',False)\n",
    ")\n",
    "\n",
    "test_fires = test_small.merge(test_medium).merge(test_large)\n",
    "\n",
    "# curious what the acreage and high-severity to area ratio is for each\n",
    "print(test_fires.aggregate_array('BurnBndAc').getInfo())\n",
    "print(test_fires.aggregate_array('hs_ratio').getInfo())"
   ]
  },
  {
   "cell_type": "code",
   "execution_count": 14,
   "metadata": {},
   "outputs": [
    {
     "data": {
      "text/html": [
       "\n",
       "            <style>\n",
       "                .geemap-dark {\n",
       "                    --jp-widgets-color: white;\n",
       "                    --jp-widgets-label-color: white;\n",
       "                    --jp-ui-font-color1: white;\n",
       "                    --jp-layout-color2: #454545;\n",
       "                    background-color: #383838;\n",
       "                }\n",
       "\n",
       "                .geemap-dark .jupyter-button {\n",
       "                    --jp-layout-color3: #383838;\n",
       "                }\n",
       "\n",
       "                .geemap-colab {\n",
       "                    background-color: var(--colab-primary-surface-color, white);\n",
       "                }\n",
       "\n",
       "                .geemap-colab .jupyter-button {\n",
       "                    --jp-layout-color3: var(--colab-primary-surface-color, white);\n",
       "                }\n",
       "            </style>\n",
       "            "
      ],
      "text/plain": [
       "<IPython.core.display.HTML object>"
      ]
     },
     "metadata": {},
     "output_type": "display_data"
    },
    {
     "name": "stdout",
     "output_type": "stream",
     "text": [
      "['1_1_0002000000000000051d', '1_2_000100000000000002a9', '1_2_0001000000000000024a', '2_00010000000000000f56']\n",
      "82\n"
     ]
    }
   ],
   "source": [
    "# now we will remove the test fires from the final set\n",
    "test_small_ids = test_small.aggregate_array('system:index')\n",
    "test_medium_ids = test_medium.aggregate_array('system:index')\n",
    "test_large_ids = test_large.aggregate_array('system:index')\n",
    "\n",
    "remove_ids = test_small_ids.cat(test_medium_ids).cat(test_large_ids)\n",
    "print(remove_ids.getInfo())\n",
    "\n",
    "train_val_fires = final_fires_fc.filter(\n",
    "    ee.Filter.inList('system:index', remove_ids).Not())\n",
    "\n",
    "print(train_val_fires.size().getInfo())"
   ]
  },
  {
   "cell_type": "code",
   "execution_count": 15,
   "metadata": {},
   "outputs": [
    {
     "data": {
      "text/html": [
       "\n",
       "            <style>\n",
       "                .geemap-dark {\n",
       "                    --jp-widgets-color: white;\n",
       "                    --jp-widgets-label-color: white;\n",
       "                    --jp-ui-font-color1: white;\n",
       "                    --jp-layout-color2: #454545;\n",
       "                    background-color: #383838;\n",
       "                }\n",
       "\n",
       "                .geemap-dark .jupyter-button {\n",
       "                    --jp-layout-color3: #383838;\n",
       "                }\n",
       "\n",
       "                .geemap-colab {\n",
       "                    background-color: var(--colab-primary-surface-color, white);\n",
       "                }\n",
       "\n",
       "                .geemap-colab .jupyter-button {\n",
       "                    --jp-layout-color3: var(--colab-primary-surface-color, white);\n",
       "                }\n",
       "            </style>\n",
       "            "
      ],
      "text/plain": [
       "<IPython.core.display.HTML object>"
      ]
     },
     "metadata": {},
     "output_type": "display_data"
    },
    {
     "data": {
      "application/vnd.jupyter.widget-view+json": {
       "model_id": "18fbe27cae67497ab55f477f1815e9f4",
       "version_major": 2,
       "version_minor": 0
      },
      "text/plain": [
       "Map(center=[38.34649102173086, -119.9026752584951], controls=(WidgetControl(options=['position', 'transparent_…"
      ]
     },
     "execution_count": 15,
     "metadata": {},
     "output_type": "execute_result"
    }
   ],
   "source": [
    "# sanity check\n",
    "m = geemap.Map()\n",
    "m.centerObject(region,8)\n",
    "m.addLayer(train_val_fires,{},'train_val_fires')\n",
    "m.addLayer(test_fires.style(**{'color':'red'}),{},'test_fires')\n",
    "m"
   ]
  },
  {
   "cell_type": "markdown",
   "metadata": {},
   "source": [
    "* Now we need to set pre, post1, and post2 date windows on each fire so that we can create multi-time-step image composites for them"
   ]
  },
  {
   "cell_type": "code",
   "execution_count": 16,
   "metadata": {},
   "outputs": [
    {
     "data": {
      "text/html": [
       "\n",
       "            <style>\n",
       "                .geemap-dark {\n",
       "                    --jp-widgets-color: white;\n",
       "                    --jp-widgets-label-color: white;\n",
       "                    --jp-ui-font-color1: white;\n",
       "                    --jp-layout-color2: #454545;\n",
       "                    background-color: #383838;\n",
       "                }\n",
       "\n",
       "                .geemap-dark .jupyter-button {\n",
       "                    --jp-layout-color3: #383838;\n",
       "                }\n",
       "\n",
       "                .geemap-colab {\n",
       "                    background-color: var(--colab-primary-surface-color, white);\n",
       "                }\n",
       "\n",
       "                .geemap-colab .jupyter-button {\n",
       "                    --jp-layout-color3: var(--colab-primary-surface-color, white);\n",
       "                }\n",
       "            </style>\n",
       "            "
      ],
      "text/plain": [
       "<IPython.core.display.HTML object>"
      ]
     },
     "metadata": {},
     "output_type": "display_data"
    }
   ],
   "source": [
    "def set_dates_recent_mode(feat: ee.Feature):\n",
    "    '''construct pre and post start and end dates using recent fire mode'''\n",
    "    date_property = 'Ig_Date'\n",
    "    feature = ee.Feature(feat)\n",
    "    date = ee.Date(feature.get(date_property))\n",
    "    date_readable = ee.String(date.format('YYYYMMdd')) \n",
    "\n",
    "    pre_start = ee.Date(date).advance(-365, 'day') # 1 year prior, same day of discovery# 1 year prior, same day of discovery\n",
    "    pre_start_readable = ee.String(ee.Date(pre_start).format('YYYYMMdd')) \n",
    "    \n",
    "    pre_end = ee.Date(date).advance(-275, 'day')  # 1 year prior, 90 days after discovery\n",
    "    pre_end_readable = ee.String(ee.Date(pre_end).format('YYYYMMdd')) # also wasn't cast as a string before - fixed\n",
    "\n",
    "    \n",
    "    # 1st post fire composite is 1-30 days after ignition\n",
    "    post1_start = ee.Date(date).advance(1, 'day')  \n",
    "    post1_start_readable = ee.String(ee.Date(post1_start).format('YYYYMMdd'))\n",
    "\n",
    "    post1_end = ee.Date(date).advance(30, 'day')   # 30 days after discovery\n",
    "    post1_end_readable = ee.String(ee.Date(post1_end).format('YYYYMMdd'))\n",
    "\n",
    "    # 2nd post fire composite is 30-60 days after ignition\n",
    "    post2_start = ee.Date(date).advance(30, 'day')  \n",
    "    post2_start_readable = ee.String(ee.Date(post2_start).format('YYYYMMdd'))\n",
    "\n",
    "    post2_end = ee.Date(date).advance(60, 'day')   # 60 days after discovery\n",
    "    post2_end_readable = ee.String(ee.Date(post2_end).format('YYYYMMdd'))\n",
    "    \n",
    "    return feature.set(\n",
    "                        'Ig_Date_readable', date_readable,\n",
    "                        'pre_start',pre_start.millis(),'pre_start_readable',pre_start_readable,\n",
    "                        'pre_end',pre_end.millis(), 'pre_end_readable', pre_end_readable,\n",
    "                        'post1_start',post1_start.millis(), 'post1_start_readable', post1_start_readable,\n",
    "                        'post1_end',post1_end.millis(), 'post1_end_readable', post1_end_readable,\n",
    "                        'post2_start',post2_start.millis(), 'post2_start_readable', post2_start_readable,\n",
    "                        'post2_end',post2_end.millis(), 'post2_end_readable', post2_end_readable\n",
    "                        )"
   ]
  },
  {
   "cell_type": "code",
   "execution_count": 17,
   "metadata": {},
   "outputs": [
    {
     "data": {
      "text/html": [
       "\n",
       "            <style>\n",
       "                .geemap-dark {\n",
       "                    --jp-widgets-color: white;\n",
       "                    --jp-widgets-label-color: white;\n",
       "                    --jp-ui-font-color1: white;\n",
       "                    --jp-layout-color2: #454545;\n",
       "                    background-color: #383838;\n",
       "                }\n",
       "\n",
       "                .geemap-dark .jupyter-button {\n",
       "                    --jp-layout-color3: #383838;\n",
       "                }\n",
       "\n",
       "                .geemap-colab {\n",
       "                    background-color: var(--colab-primary-surface-color, white);\n",
       "                }\n",
       "\n",
       "                .geemap-colab .jupyter-button {\n",
       "                    --jp-layout-color3: var(--colab-primary-surface-color, white);\n",
       "                }\n",
       "            </style>\n",
       "            "
      ],
      "text/plain": [
       "<IPython.core.display.HTML object>"
      ]
     },
     "metadata": {},
     "output_type": "display_data"
    },
    {
     "name": "stdout",
     "output_type": "stream",
     "text": [
      "{'Asmnt_Type': 'Extended',\n",
      " 'BurnBndAc': 1477,\n",
      " 'BurnBndLat': '35.855',\n",
      " 'BurnBndLon': '-118.025',\n",
      " 'Comment': '',\n",
      " 'Event_ID': 'CA3584111804120160601',\n",
      " 'High_T': 250,\n",
      " 'Ig_Date': 1464764400000,\n",
      " 'Ig_Date_readable': '20160601',\n",
      " 'IncGreen_T': -150,\n",
      " 'Incid_Name': 'CHIMNEY',\n",
      " 'Incid_Type': 'Wildfire',\n",
      " 'Low_T': 50,\n",
      " 'Map_ID': 10005152,\n",
      " 'Map_Prog': 'MTBS',\n",
      " 'Mod_T': 125,\n",
      " 'NoData_T': -970,\n",
      " 'Perim_ID': '',\n",
      " 'Post_ID': '804103520170625',\n",
      " 'Pre_ID': '804103520150620',\n",
      " 'area': 5977979.006492523,\n",
      " 'dNBR_offst': -15,\n",
      " 'dNBR_stdDv': 18,\n",
      " 'hs_area': 3050872.216808364,\n",
      " 'hs_ratio': 0.5103517783342654,\n",
      " 'irwinID': 'EC9B6C32-6381-48C9-88E5-2223DD4A2D07',\n",
      " 'post1_end': 1467356400000,\n",
      " 'post1_end_readable': '20160701',\n",
      " 'post1_start': 1464850800000,\n",
      " 'post1_start_readable': '20160602',\n",
      " 'post2_end': 1469948400000,\n",
      " 'post2_end_readable': '20160731',\n",
      " 'post2_start': 1467356400000,\n",
      " 'post2_start_readable': '20160701',\n",
      " 'pre_end': 1441004400000,\n",
      " 'pre_end_readable': '20150831',\n",
      " 'pre_start': 1433228400000,\n",
      " 'pre_start_readable': '20150602',\n",
      " 'random': 0.04446046548226956,\n",
      " 'size_class': 'small',\n",
      " 'year': 2016}\n"
     ]
    }
   ],
   "source": [
    "# test it \n",
    "test_dates = set_dates_recent_mode(test_fires.first())\n",
    "pprint(test_dates.getInfo()['properties'])\n",
    "\n",
    "# map it \n",
    "test_fires = test_fires.map(set_dates_recent_mode)\n",
    "train_val_fires = train_val_fires.map(set_dates_recent_mode)\n"
   ]
  },
  {
   "cell_type": "code",
   "execution_count": 18,
   "metadata": {},
   "outputs": [
    {
     "data": {
      "text/html": [
       "\n",
       "            <style>\n",
       "                .geemap-dark {\n",
       "                    --jp-widgets-color: white;\n",
       "                    --jp-widgets-label-color: white;\n",
       "                    --jp-ui-font-color1: white;\n",
       "                    --jp-layout-color2: #454545;\n",
       "                    background-color: #383838;\n",
       "                }\n",
       "\n",
       "                .geemap-dark .jupyter-button {\n",
       "                    --jp-layout-color3: #383838;\n",
       "                }\n",
       "\n",
       "                .geemap-colab {\n",
       "                    background-color: var(--colab-primary-surface-color, white);\n",
       "                }\n",
       "\n",
       "                .geemap-colab .jupyter-button {\n",
       "                    --jp-layout-color3: var(--colab-primary-surface-color, white);\n",
       "                }\n",
       "            </style>\n",
       "            "
      ],
      "text/plain": [
       "<IPython.core.display.HTML object>"
      ]
     },
     "metadata": {},
     "output_type": "display_data"
    }
   ],
   "source": [
    "# export\n",
    "ee.batch.Export.table.toAsset(**{\n",
    "    'collection': train_val_fires,\n",
    "    'description': 'baygeo_train_val_fires',\n",
    "    'assetId': 'projects/pyregence-ee/assets/baygeo_demo/train_val_fires_newseed'\n",
    "}).start()\n",
    "\n",
    "ee.batch.Export.table.toAsset(**{\n",
    "    'collection': test_fires,\n",
    "    'description': 'baygeo_test_fires',\n",
    "    'assetId': 'projects/pyregence-ee/assets/baygeo_demo/test_fires_newseed'\n",
    "}).start()"
   ]
  },
  {
   "cell_type": "markdown",
   "metadata": {},
   "source": [
    "# Image Compositing"
   ]
  },
  {
   "cell_type": "markdown",
   "metadata": {},
   "source": [
    "* now for the image chipping, it is likely more efficient (and easier for us to QA) if we make a new imageCollection, one image per fire, containing pre-, post-, and label 3-band image, \n",
    "* along with any nice metadata we can set on the image to allow us to say anything about the fire that an image chip was derived from\n",
    "* the imageCollection (and maybe FC we created it from?) is the end result of this notebook"
   ]
  },
  {
   "cell_type": "code",
   "execution_count": 3,
   "metadata": {},
   "outputs": [
    {
     "data": {
      "text/html": [
       "\n",
       "            <style>\n",
       "                .geemap-dark {\n",
       "                    --jp-widgets-color: white;\n",
       "                    --jp-widgets-label-color: white;\n",
       "                    --jp-ui-font-color1: white;\n",
       "                    --jp-layout-color2: #454545;\n",
       "                    background-color: #383838;\n",
       "                }\n",
       "\n",
       "                .geemap-dark .jupyter-button {\n",
       "                    --jp-layout-color3: #383838;\n",
       "                }\n",
       "\n",
       "                .geemap-colab {\n",
       "                    background-color: var(--colab-primary-surface-color, white);\n",
       "                }\n",
       "\n",
       "                .geemap-colab .jupyter-button {\n",
       "                    --jp-layout-color3: var(--colab-primary-surface-color, white);\n",
       "                }\n",
       "            </style>\n",
       "            "
      ],
      "text/plain": [
       "<IPython.core.display.HTML object>"
      ]
     },
     "metadata": {},
     "output_type": "display_data"
    },
    {
     "name": "stdout",
     "output_type": "stream",
     "text": [
      "{'Asmnt_Type': 'Extended',\n",
      " 'BurnBndAc': 5990,\n",
      " 'BurnBndLat': '37.282',\n",
      " 'BurnBndLon': '-119.479',\n",
      " 'Comment': '',\n",
      " 'Event_ID': 'CA3728211950220150725',\n",
      " 'High_T': 450,\n",
      " 'Ig_Date': 1437807600000,\n",
      " 'Ig_Date_readable': '20150725',\n",
      " 'IncGreen_T': -150,\n",
      " 'Incid_Name': 'WILLOW',\n",
      " 'Incid_Type': 'Wildfire',\n",
      " 'Low_T': 70,\n",
      " 'Map_ID': 25458,\n",
      " 'Map_Prog': 'MTBS',\n",
      " 'Mod_T': 240,\n",
      " 'NoData_T': -970,\n",
      " 'Perim_ID': '',\n",
      " 'Post_ID': '804203420160629',\n",
      " 'Pre_ID': '804203420150713',\n",
      " 'area': 24232054.125812028,\n",
      " 'dNBR_offst': -18,\n",
      " 'dNBR_stdDv': 38,\n",
      " 'hs_area': 6422667.735900879,\n",
      " 'hs_ratio': 0.26504842315697213,\n",
      " 'irwinID': 'A6A5E399-E5D4-4033-A6A7-76F0A73A84B9',\n",
      " 'post1_end': 1440399600000,\n",
      " 'post1_end_readable': '20150824',\n",
      " 'post1_start': 1437894000000,\n",
      " 'post1_start_readable': '20150726',\n",
      " 'post2_end': 1442991600000,\n",
      " 'post2_end_readable': '20150923',\n",
      " 'post2_start': 1440399600000,\n",
      " 'post2_start_readable': '20150824',\n",
      " 'pre_end': 1414047600000,\n",
      " 'pre_end_readable': '20141023',\n",
      " 'pre_start': 1406271600000,\n",
      " 'pre_start_readable': '20140725',\n",
      " 'random': 0.01402083683066635,\n",
      " 'size_class': 'medium',\n",
      " 'year': 2015}\n"
     ]
    }
   ],
   "source": [
    "train_val_fires = ee.FeatureCollection(\"projects/pyregence-ee/assets/baygeo_demo/train_val_fires\")\n",
    "test_fires = ee.FeatureCollection(\"projects/pyregence-ee/assets/baygeo_demo/test_fires\")\n",
    "pprint(test_fires.first().getInfo()['properties'])"
   ]
  },
  {
   "cell_type": "markdown",
   "metadata": {},
   "source": [
    "* prep the HLS composites and the MTBS label image, stored as 19-band image: (6HLS bands * 3 composites) + label"
   ]
  },
  {
   "cell_type": "code",
   "execution_count": 20,
   "metadata": {},
   "outputs": [
    {
     "data": {
      "text/html": [
       "\n",
       "            <style>\n",
       "                .geemap-dark {\n",
       "                    --jp-widgets-color: white;\n",
       "                    --jp-widgets-label-color: white;\n",
       "                    --jp-ui-font-color1: white;\n",
       "                    --jp-layout-color2: #454545;\n",
       "                    background-color: #383838;\n",
       "                }\n",
       "\n",
       "                .geemap-dark .jupyter-button {\n",
       "                    --jp-layout-color3: #383838;\n",
       "                }\n",
       "\n",
       "                .geemap-colab {\n",
       "                    background-color: var(--colab-primary-surface-color, white);\n",
       "                }\n",
       "\n",
       "                .geemap-colab .jupyter-button {\n",
       "                    --jp-layout-color3: var(--colab-primary-surface-color, white);\n",
       "                }\n",
       "            </style>\n",
       "            "
      ],
      "text/plain": [
       "<IPython.core.display.HTML object>"
      ]
     },
     "metadata": {},
     "output_type": "display_data"
    }
   ],
   "source": [
    "def composite_pre_post(feat):\n",
    "    \"\"\"Construct Pre and Post imagery from Harmonized Landsat Sentinel L30 (Landsat only)\n",
    "            for a given fire feature\"\"\"\n",
    "    pre_start = feat.get('pre_start')\n",
    "    pre_end = feat.get('pre_end')\n",
    "    post1_start = feat.get('post1_start')\n",
    "    post1_end = feat.get('post1_end')\n",
    "    post2_start = feat.get('post2_start')\n",
    "    post2_end = feat.get('post2_end')\n",
    "    \n",
    "    region = feat.geometry()\n",
    "\n",
    "    bands_in = ['B2','B3','B4','B5','B6','B7']\n",
    "    pre_bands_out = ['blue_pre','green_pre','red_pre','nir_pre','swir1_pre','swir2_pre']\n",
    "    post1_bands_out = ['blue_post1','green_post1','red_post1','nir_post1','swir1_post1','swir2_post1']\n",
    "    post2_bands_out = ['blue_post2','green_post2','red_post2','nir_post2','swir1_post2','swir2_post2']\n",
    "\n",
    "    def qa(img):\n",
    "        \"\"\"mask clouds, shadows, snow\"\"\"\n",
    "        qa_band = img.select(\"Fmask\")\n",
    "        qa_flag = int('11111',2) # 0-4 bits are cirrus, cloud, adjacent to cloud shadow, cloud shadow, snow&ice\n",
    "        mask = qa_band.bitwiseAnd(qa_flag).eq(0)\n",
    "        \n",
    "        return img.updateMask(mask)\n",
    "\n",
    "    hlsl30 = (ee.ImageCollection(\"NASA/HLS/HLSL30/v002\")\n",
    "    .filterBounds(region)\n",
    "    .map(qa)\n",
    "    .select(bands_in))\n",
    "    \n",
    "    pre_coll = hlsl30.filterDate(pre_start, pre_end)\n",
    "    post1_coll = hlsl30.filterDate(post1_start, post1_end)\n",
    "    post2_coll = hlsl30.filterDate(post2_start, post2_end)\n",
    "    \n",
    "    # HERE: want to probably crop to a bbox of fire boundary\n",
    "    pre_comp = pre_coll.median()\n",
    "    post1_comp = post1_coll.median()\n",
    "    post2_comp = post2_coll.median()\n",
    "    \n",
    "    return ee.Image(ee.ImageCollection.fromImages([pre_comp, post1_comp, post2_comp])\n",
    "                    .toBands()\n",
    "                    .rename(pre_bands_out+post1_bands_out+post2_bands_out)\n",
    "                    .set('system:time_start', ee.Date(pre_start).millis(),\n",
    "                         'system:time_end', ee.Date(post2_end).millis())\n",
    "                         .copyProperties(feat))\n",
    "def get_mtbs_label(feat):\n",
    "    \"\"\"Get the MTBS burn severity label for a given fire feature\"\"\"\n",
    "    year = feat.get('year')\n",
    "    severity_img = mtbs_bs.filter(ee.Filter.calendarRange(year, year, 'year')).first()\n",
    "    label_img = (severity_img.eq(3) # label img is binary: high-severity(1), non-high severity (0)\n",
    "        .updateMask(ee.Image().paint(feat.geometry(),1))\n",
    "        .rename('label')) # HERE: unmask(0)\n",
    "    return ee.Image(label_img).copyProperties(feat)\n",
    "\n",
    "def prep_data(feat):\n",
    "    \"\"\"Prepare data for training\"\"\"\n",
    "    composites = ee.Image(composite_pre_post(feat))\n",
    "    labels = ee.Image(get_mtbs_label(feat))\n",
    "    return composites.addBands(labels)\n"
   ]
  },
  {
   "cell_type": "code",
   "execution_count": 21,
   "metadata": {},
   "outputs": [
    {
     "data": {
      "text/html": [
       "\n",
       "            <style>\n",
       "                .geemap-dark {\n",
       "                    --jp-widgets-color: white;\n",
       "                    --jp-widgets-label-color: white;\n",
       "                    --jp-ui-font-color1: white;\n",
       "                    --jp-layout-color2: #454545;\n",
       "                    background-color: #383838;\n",
       "                }\n",
       "\n",
       "                .geemap-dark .jupyter-button {\n",
       "                    --jp-layout-color3: #383838;\n",
       "                }\n",
       "\n",
       "                .geemap-colab {\n",
       "                    background-color: var(--colab-primary-surface-color, white);\n",
       "                }\n",
       "\n",
       "                .geemap-colab .jupyter-button {\n",
       "                    --jp-layout-color3: var(--colab-primary-surface-color, white);\n",
       "                }\n",
       "            </style>\n",
       "            "
      ],
      "text/plain": [
       "<IPython.core.display.HTML object>"
      ]
     },
     "metadata": {},
     "output_type": "display_data"
    },
    {
     "name": "stdout",
     "output_type": "stream",
     "text": [
      "<class 'ee.featurecollection.FeatureCollection'>\n",
      "['blue_pre', 'green_pre', 'red_pre', 'nir_pre', 'swir1_pre', 'swir2_pre', 'blue_post1', 'green_post1', 'red_post1', 'nir_post1', 'swir1_post1', 'swir2_post1', 'blue_post2', 'green_post2', 'red_post2', 'nir_post2', 'swir1_post2', 'swir2_post2', 'label']\n",
      "<class 'ee.featurecollection.FeatureCollection'>\n",
      "['blue_pre', 'green_pre', 'red_pre', 'nir_pre', 'swir1_pre', 'swir2_pre', 'blue_post1', 'green_post1', 'red_post1', 'nir_post1', 'swir1_post1', 'swir2_post1', 'blue_post2', 'green_post2', 'red_post2', 'nir_post2', 'swir1_post2', 'swir2_post2', 'label']\n"
     ]
    }
   ],
   "source": [
    "# combined imagery and labels in one image\n",
    "test_data = test_fires.map(prep_data)\n",
    "print(type(test_data))\n",
    "print(ee.ImageCollection(test_data).first().bandNames().getInfo())\n",
    "\n",
    "train_val_data = train_val_fires.map(prep_data)\n",
    "print(type(train_val_data))\n",
    "print(ee.ImageCollection(train_val_data).first().bandNames().getInfo())\n"
   ]
  },
  {
   "cell_type": "code",
   "execution_count": 22,
   "metadata": {},
   "outputs": [
    {
     "data": {
      "text/html": [
       "\n",
       "            <style>\n",
       "                .geemap-dark {\n",
       "                    --jp-widgets-color: white;\n",
       "                    --jp-widgets-label-color: white;\n",
       "                    --jp-ui-font-color1: white;\n",
       "                    --jp-layout-color2: #454545;\n",
       "                    background-color: #383838;\n",
       "                }\n",
       "\n",
       "                .geemap-dark .jupyter-button {\n",
       "                    --jp-layout-color3: #383838;\n",
       "                }\n",
       "\n",
       "                .geemap-colab {\n",
       "                    background-color: var(--colab-primary-surface-color, white);\n",
       "                }\n",
       "\n",
       "                .geemap-colab .jupyter-button {\n",
       "                    --jp-layout-color3: var(--colab-primary-surface-color, white);\n",
       "                }\n",
       "            </style>\n",
       "            "
      ],
      "text/plain": [
       "<IPython.core.display.HTML object>"
      ]
     },
     "metadata": {},
     "output_type": "display_data"
    },
    {
     "data": {
      "application/vnd.jupyter.widget-view+json": {
       "model_id": "bb1e5aec18e642cb8907e7315de032f1",
       "version_major": 2,
       "version_minor": 0
      },
      "text/plain": [
       "Map(center=[39.729260717620704, -121.19508658594006], controls=(WidgetControl(options=['position', 'transparen…"
      ]
     },
     "execution_count": 22,
     "metadata": {},
     "output_type": "execute_result"
    }
   ],
   "source": [
    "example = ee.ImageCollection(test_data).limit(1,'BurnBndAc',False).first()\n",
    "\n",
    "m = geemap.Map()\n",
    "m.centerObject(test_fires.limit(1,'BurnBndAc',False).first(),10)\n",
    "m.addLayer(example.select([2,1,0]),{'min':0,'max':0.3},'test_composite_pre')\n",
    "m.addLayer(example.select([8,7,6]),{'min':0,'max':0.3},'test_composite_post1')\n",
    "m.addLayer(example.select([14,13,12]),{'min':0,'max':0.3},'test_composite_post2')\n",
    "m.addLayer(example.select('label'),{'min':0,'max':1,'palette':['grey','red']},'train_val_label')\n",
    "m.addLayer(test_fires.limit(1,'BurnBndAc',False).first(),{},'test_fire')\n",
    "m.addLayer(example.geometry(),{},'image_geom')\n",
    "m"
   ]
  },
  {
   "cell_type": "code",
   "execution_count": 34,
   "metadata": {},
   "outputs": [
    {
     "data": {
      "text/html": [
       "\n",
       "            <style>\n",
       "                .geemap-dark {\n",
       "                    --jp-widgets-color: white;\n",
       "                    --jp-widgets-label-color: white;\n",
       "                    --jp-ui-font-color1: white;\n",
       "                    --jp-layout-color2: #454545;\n",
       "                    background-color: #383838;\n",
       "                }\n",
       "\n",
       "                .geemap-dark .jupyter-button {\n",
       "                    --jp-layout-color3: #383838;\n",
       "                }\n",
       "\n",
       "                .geemap-colab {\n",
       "                    background-color: var(--colab-primary-surface-color, white);\n",
       "                }\n",
       "\n",
       "                .geemap-colab .jupyter-button {\n",
       "                    --jp-layout-color3: var(--colab-primary-surface-color, white);\n",
       "                }\n",
       "            </style>\n",
       "            "
      ],
      "text/plain": [
       "<IPython.core.display.HTML object>"
      ]
     },
     "metadata": {},
     "output_type": "display_data"
    }
   ],
   "source": [
    "test_data_export = test_data.toList(test_data.size())\n",
    "train_val_data_export = train_val_data.toList(train_val_data.size())\n",
    "\n",
    "for i in list(range(test_data_export.size().getInfo())): # replace with train_val_data_export to export train_val imgs\n",
    "    image = ee.Image(test_data_export.get(i))\n",
    "    ee.batch.Export.image.toAsset(**{\n",
    "    'image': image,\n",
    "    'description': f'baygeo_test_composites_{str(i)}',\n",
    "    'assetId': f'projects/pyregence-ee/assets/baygeo_demo/test_composites/composite{str(i)}',\n",
    "    'region': region, # sierras\n",
    "    'scale': 30,\n",
    "    'maxPixels': 1e13\n",
    "}).start()\n",
    "\n",
    "    \n"
   ]
  },
  {
   "cell_type": "markdown",
   "metadata": {},
   "source": [
    "# Chipping"
   ]
  },
  {
   "cell_type": "markdown",
   "metadata": {},
   "source": [
    "## Make Grids for Train and Test sets"
   ]
  },
  {
   "cell_type": "code",
   "execution_count": 141,
   "metadata": {},
   "outputs": [
    {
     "data": {
      "text/html": [
       "\n",
       "            <style>\n",
       "                .geemap-dark {\n",
       "                    --jp-widgets-color: white;\n",
       "                    --jp-widgets-label-color: white;\n",
       "                    --jp-ui-font-color1: white;\n",
       "                    --jp-layout-color2: #454545;\n",
       "                    background-color: #383838;\n",
       "                }\n",
       "\n",
       "                .geemap-dark .jupyter-button {\n",
       "                    --jp-layout-color3: #383838;\n",
       "                }\n",
       "\n",
       "                .geemap-colab {\n",
       "                    background-color: var(--colab-primary-surface-color, white);\n",
       "                }\n",
       "\n",
       "                .geemap-colab .jupyter-button {\n",
       "                    --jp-layout-color3: var(--colab-primary-surface-color, white);\n",
       "                }\n",
       "            </style>\n",
       "            "
      ],
      "text/plain": [
       "<IPython.core.display.HTML object>"
      ]
     },
     "metadata": {},
     "output_type": "display_data"
    },
    {
     "data": {
      "text/html": [
       "<iframe srcdoc=\"&lt;!DOCTYPE html&gt;\n",
       "&lt;html&gt;\n",
       "&lt;head&gt;\n",
       "    \n",
       "    &lt;meta http-equiv=&quot;content-type&quot; content=&quot;text/html; charset=UTF-8&quot; /&gt;\n",
       "    \n",
       "        &lt;script&gt;\n",
       "            L_NO_TOUCH = false;\n",
       "            L_DISABLE_3D = false;\n",
       "        &lt;/script&gt;\n",
       "    \n",
       "    &lt;style&gt;html, body {width: 100%;height: 100%;margin: 0;padding: 0;}&lt;/style&gt;\n",
       "    &lt;style&gt;#map {position:absolute;top:0;bottom:0;right:0;left:0;}&lt;/style&gt;\n",
       "    &lt;script src=&quot;https://cdn.jsdelivr.net/npm/leaflet@1.9.3/dist/leaflet.js&quot;&gt;&lt;/script&gt;\n",
       "    &lt;script src=&quot;https://code.jquery.com/jquery-3.7.1.min.js&quot;&gt;&lt;/script&gt;\n",
       "    &lt;script src=&quot;https://cdn.jsdelivr.net/npm/bootstrap@5.2.2/dist/js/bootstrap.bundle.min.js&quot;&gt;&lt;/script&gt;\n",
       "    &lt;script src=&quot;https://cdnjs.cloudflare.com/ajax/libs/Leaflet.awesome-markers/2.0.2/leaflet.awesome-markers.js&quot;&gt;&lt;/script&gt;\n",
       "    &lt;link rel=&quot;stylesheet&quot; href=&quot;https://cdn.jsdelivr.net/npm/leaflet@1.9.3/dist/leaflet.css&quot;/&gt;\n",
       "    &lt;link rel=&quot;stylesheet&quot; href=&quot;https://cdn.jsdelivr.net/npm/bootstrap@5.2.2/dist/css/bootstrap.min.css&quot;/&gt;\n",
       "    &lt;link rel=&quot;stylesheet&quot; href=&quot;https://netdna.bootstrapcdn.com/bootstrap/3.0.0/css/bootstrap-glyphicons.css&quot;/&gt;\n",
       "    &lt;link rel=&quot;stylesheet&quot; href=&quot;https://cdn.jsdelivr.net/npm/@fortawesome/fontawesome-free@6.2.0/css/all.min.css&quot;/&gt;\n",
       "    &lt;link rel=&quot;stylesheet&quot; href=&quot;https://cdnjs.cloudflare.com/ajax/libs/Leaflet.awesome-markers/2.0.2/leaflet.awesome-markers.css&quot;/&gt;\n",
       "    &lt;link rel=&quot;stylesheet&quot; href=&quot;https://cdn.jsdelivr.net/gh/python-visualization/folium/folium/templates/leaflet.awesome.rotate.min.css&quot;/&gt;\n",
       "    \n",
       "            &lt;meta name=&quot;viewport&quot; content=&quot;width=device-width,\n",
       "                initial-scale=1.0, maximum-scale=1.0, user-scalable=no&quot; /&gt;\n",
       "            &lt;style&gt;\n",
       "                #map_a74318b3597fe307cc4586d673badeb3 {\n",
       "                    position: relative;\n",
       "                    width: 100.0%;\n",
       "                    height: 100.0%;\n",
       "                    left: 0.0%;\n",
       "                    top: 0.0%;\n",
       "                }\n",
       "                .leaflet-container { font-size: 1rem; }\n",
       "            &lt;/style&gt;\n",
       "        \n",
       "    &lt;script src=&quot;https://cdn.jsdelivr.net/npm/leaflet.fullscreen@3.0.0/Control.FullScreen.min.js&quot;&gt;&lt;/script&gt;\n",
       "    &lt;link rel=&quot;stylesheet&quot; href=&quot;https://cdn.jsdelivr.net/npm/leaflet.fullscreen@3.0.0/Control.FullScreen.css&quot;/&gt;\n",
       "    &lt;script src=&quot;https://cdnjs.cloudflare.com/ajax/libs/leaflet.draw/1.0.2/leaflet.draw.js&quot;&gt;&lt;/script&gt;\n",
       "    &lt;link rel=&quot;stylesheet&quot; href=&quot;https://cdnjs.cloudflare.com/ajax/libs/leaflet.draw/1.0.2/leaflet.draw.css&quot;/&gt;\n",
       "    &lt;script src=&quot;https://unpkg.com/leaflet-control-geocoder/dist/Control.Geocoder.js&quot;&gt;&lt;/script&gt;\n",
       "    &lt;link rel=&quot;stylesheet&quot; href=&quot;https://unpkg.com/leaflet-control-geocoder/dist/Control.Geocoder.css&quot;/&gt;\n",
       "&lt;/head&gt;\n",
       "&lt;body&gt;\n",
       "    \n",
       "    \n",
       "            &lt;div class=&quot;folium-map&quot; id=&quot;map_a74318b3597fe307cc4586d673badeb3&quot; &gt;&lt;/div&gt;\n",
       "        \n",
       "&lt;/body&gt;\n",
       "&lt;script&gt;\n",
       "    \n",
       "    \n",
       "            var map_a74318b3597fe307cc4586d673badeb3 = L.map(\n",
       "                &quot;map_a74318b3597fe307cc4586d673badeb3&quot;,\n",
       "                {\n",
       "                    center: [20.0, 0.0],\n",
       "                    crs: L.CRS.EPSG3857,\n",
       "                    zoom: 2,\n",
       "                    zoomControl: true,\n",
       "                    preferCanvas: false,\n",
       "                    eeInitialize: true,\n",
       "                    addGoogleMap: false,\n",
       "                    pluginLatlngpopup: false,\n",
       "                    pluginFullscreen: true,\n",
       "                    pluginDraw: true,\n",
       "                    DrawExport: false,\n",
       "                    pluginMinimap: false,\n",
       "                    locateControl: false,\n",
       "                    searchControl: true,\n",
       "                    layersControl: true,\n",
       "                }\n",
       "            );\n",
       "\n",
       "            \n",
       "\n",
       "        \n",
       "    \n",
       "            var tile_layer_fcf39c4ff3ce170b2a145a3fdcf045fc = L.tileLayer(\n",
       "                &quot;https://tile.openstreetmap.org/{z}/{x}/{y}.png&quot;,\n",
       "                {&quot;attribution&quot;: &quot;\\u0026copy; \\u003ca href=\\&quot;https://www.openstreetmap.org/copyright\\&quot;\\u003eOpenStreetMap\\u003c/a\\u003e contributors&quot;, &quot;detectRetina&quot;: false, &quot;maxNativeZoom&quot;: 19, &quot;maxZoom&quot;: 30, &quot;minZoom&quot;: 0, &quot;noWrap&quot;: false, &quot;opacity&quot;: 1, &quot;subdomains&quot;: &quot;abc&quot;, &quot;tms&quot;: false}\n",
       "            );\n",
       "        \n",
       "    \n",
       "            tile_layer_fcf39c4ff3ce170b2a145a3fdcf045fc.addTo(map_a74318b3597fe307cc4586d673badeb3);\n",
       "        \n",
       "    \n",
       "            L.control.fullscreen(\n",
       "                {&quot;forceSeparateButton&quot;: false, &quot;position&quot;: &quot;topleft&quot;, &quot;title&quot;: &quot;Full Screen&quot;, &quot;titleCancel&quot;: &quot;Exit Full Screen&quot;}\n",
       "            ).addTo(map_a74318b3597fe307cc4586d673badeb3);\n",
       "        \n",
       "    \n",
       "            var options = {\n",
       "              position: &quot;topleft&quot;,\n",
       "              draw: {},\n",
       "              edit: {},\n",
       "            }\n",
       "            // FeatureGroup is to store editable layers.\n",
       "            var drawnItems_draw_control_29c88dae8dc7d3cb8ca3fc7d07c5086a = new L.featureGroup().addTo(\n",
       "                map_a74318b3597fe307cc4586d673badeb3\n",
       "            );\n",
       "            options.edit.featureGroup = drawnItems_draw_control_29c88dae8dc7d3cb8ca3fc7d07c5086a;\n",
       "            var draw_control_29c88dae8dc7d3cb8ca3fc7d07c5086a = new L.Control.Draw(\n",
       "                options\n",
       "            ).addTo( map_a74318b3597fe307cc4586d673badeb3 );\n",
       "            map_a74318b3597fe307cc4586d673badeb3.on(L.Draw.Event.CREATED, function(e) {\n",
       "                var layer = e.layer,\n",
       "                    type = e.layerType;\n",
       "                var coords = JSON.stringify(layer.toGeoJSON());\n",
       "                layer.on(&#x27;click&#x27;, function() {\n",
       "                    alert(coords);\n",
       "                    console.log(coords);\n",
       "                });\n",
       "                drawnItems_draw_control_29c88dae8dc7d3cb8ca3fc7d07c5086a.addLayer(layer);\n",
       "             });\n",
       "            map_a74318b3597fe307cc4586d673badeb3.on(&#x27;draw:created&#x27;, function(e) {\n",
       "                drawnItems_draw_control_29c88dae8dc7d3cb8ca3fc7d07c5086a.addLayer(e.layer);\n",
       "            });\n",
       "            \n",
       "        \n",
       "    \n",
       "\n",
       "            var geocoderOpts_geocoder_6779b290c2bc9afdd076afbe10238ca0 = {&quot;collapsed&quot;: true, &quot;defaultMarkGeocode&quot;: true, &quot;position&quot;: &quot;topleft&quot;, &quot;provider&quot;: &quot;nominatim&quot;, &quot;providerOptions&quot;: {}, &quot;zoom&quot;: 11};\n",
       "\n",
       "            // note: geocoder name should start with lowercase\n",
       "            var geocoderName_geocoder_6779b290c2bc9afdd076afbe10238ca0 = geocoderOpts_geocoder_6779b290c2bc9afdd076afbe10238ca0[&quot;provider&quot;];\n",
       "\n",
       "            var customGeocoder_geocoder_6779b290c2bc9afdd076afbe10238ca0 = L.Control.Geocoder[ geocoderName_geocoder_6779b290c2bc9afdd076afbe10238ca0 ](\n",
       "                geocoderOpts_geocoder_6779b290c2bc9afdd076afbe10238ca0[&#x27;providerOptions&#x27;]\n",
       "            );\n",
       "            geocoderOpts_geocoder_6779b290c2bc9afdd076afbe10238ca0[&quot;geocoder&quot;] = customGeocoder_geocoder_6779b290c2bc9afdd076afbe10238ca0;\n",
       "\n",
       "            L.Control.geocoder(\n",
       "                geocoderOpts_geocoder_6779b290c2bc9afdd076afbe10238ca0\n",
       "            ).on(&#x27;markgeocode&#x27;, function(e) {\n",
       "                var zoom = geocoderOpts_geocoder_6779b290c2bc9afdd076afbe10238ca0[&#x27;zoom&#x27;] || map_a74318b3597fe307cc4586d673badeb3.getZoom();\n",
       "                map_a74318b3597fe307cc4586d673badeb3.setView(e.geocode.center, zoom);\n",
       "            }).addTo(map_a74318b3597fe307cc4586d673badeb3);\n",
       "\n",
       "        \n",
       "    \n",
       "            map_a74318b3597fe307cc4586d673badeb3.fitBounds(\n",
       "                [[20, 0], [20, 0]],\n",
       "                {&quot;maxZoom&quot;: 2}\n",
       "            );\n",
       "        \n",
       "    \n",
       "            var tile_layer_a356132c3265cdfb0513682eeaab412b = L.tileLayer(\n",
       "                &quot;https://earthengine.googleapis.com/v1/projects/pyregence-ee/maps/c47cc156c30dd5a6fe8ded123c376eea-f0477e064f1fab31f5f5fcae9e4c9f95/tiles/{z}/{x}/{y}&quot;,\n",
       "                {&quot;attribution&quot;: &quot;Google Earth Engine&quot;, &quot;detectRetina&quot;: false, &quot;maxZoom&quot;: 24, &quot;minZoom&quot;: 0, &quot;noWrap&quot;: false, &quot;opacity&quot;: 1.0, &quot;subdomains&quot;: &quot;abc&quot;, &quot;tms&quot;: false}\n",
       "            );\n",
       "        \n",
       "    \n",
       "            tile_layer_a356132c3265cdfb0513682eeaab412b.addTo(map_a74318b3597fe307cc4586d673badeb3);\n",
       "        \n",
       "    \n",
       "            var tile_layer_8647c700191c064fc059c3b50119e2ea = L.tileLayer(\n",
       "                &quot;https://earthengine.googleapis.com/v1/projects/pyregence-ee/maps/61ac3e57223b7ba3917147dfb17b6719-7a3e646c9c5a7a4e7ba9493906e365b7/tiles/{z}/{x}/{y}&quot;,\n",
       "                {&quot;attribution&quot;: &quot;Google Earth Engine&quot;, &quot;detectRetina&quot;: false, &quot;maxZoom&quot;: 24, &quot;minZoom&quot;: 0, &quot;noWrap&quot;: false, &quot;opacity&quot;: 1.0, &quot;subdomains&quot;: &quot;abc&quot;, &quot;tms&quot;: false}\n",
       "            );\n",
       "        \n",
       "    \n",
       "            tile_layer_8647c700191c064fc059c3b50119e2ea.addTo(map_a74318b3597fe307cc4586d673badeb3);\n",
       "        \n",
       "    \n",
       "            var tile_layer_849bc70543c71c93a55a1795fff8f44a = L.tileLayer(\n",
       "                &quot;https://earthengine.googleapis.com/v1/projects/pyregence-ee/maps/748990d71b073db1f391e41ad699356d-e22260d3034726f4c9891dd9c3badf77/tiles/{z}/{x}/{y}&quot;,\n",
       "                {&quot;attribution&quot;: &quot;Google Earth Engine&quot;, &quot;detectRetina&quot;: false, &quot;maxZoom&quot;: 24, &quot;minZoom&quot;: 0, &quot;noWrap&quot;: false, &quot;opacity&quot;: 1.0, &quot;subdomains&quot;: &quot;abc&quot;, &quot;tms&quot;: false}\n",
       "            );\n",
       "        \n",
       "    \n",
       "            tile_layer_849bc70543c71c93a55a1795fff8f44a.addTo(map_a74318b3597fe307cc4586d673badeb3);\n",
       "        \n",
       "    \n",
       "            var tile_layer_84e96db92c81d8feafbb20db65045427 = L.tileLayer(\n",
       "                &quot;https://earthengine.googleapis.com/v1/projects/pyregence-ee/maps/67d675eecca1cc1728e9068778a674d3-24492883f198efb67337992c8c7a15e7/tiles/{z}/{x}/{y}&quot;,\n",
       "                {&quot;attribution&quot;: &quot;Google Earth Engine&quot;, &quot;detectRetina&quot;: false, &quot;maxZoom&quot;: 24, &quot;minZoom&quot;: 0, &quot;noWrap&quot;: false, &quot;opacity&quot;: 1.0, &quot;subdomains&quot;: &quot;abc&quot;, &quot;tms&quot;: false}\n",
       "            );\n",
       "        \n",
       "    \n",
       "            tile_layer_84e96db92c81d8feafbb20db65045427.addTo(map_a74318b3597fe307cc4586d673badeb3);\n",
       "        \n",
       "    \n",
       "            map_a74318b3597fe307cc4586d673badeb3.fitBounds(\n",
       "                [[37.235086023553336, -119.46736942478339], [37.235086023553336, -119.46736942478339]],\n",
       "                {&quot;maxZoom&quot;: 14}\n",
       "            );\n",
       "        \n",
       "    \n",
       "            var layer_control_d43ee93d628b118c07b286081c773e11_layers = {\n",
       "                base_layers : {\n",
       "                    &quot;openstreetmap&quot; : tile_layer_fcf39c4ff3ce170b2a145a3fdcf045fc,\n",
       "                },\n",
       "                overlays :  {\n",
       "                    &quot;Original Fire Boundary&quot; : tile_layer_a356132c3265cdfb0513682eeaab412b,\n",
       "                    &quot;Shrunk Fire Boundary&quot; : tile_layer_8647c700191c064fc059c3b50119e2ea,\n",
       "                    &quot;original grid&quot; : tile_layer_849bc70543c71c93a55a1795fff8f44a,\n",
       "                    &quot;tiny grid&quot; : tile_layer_84e96db92c81d8feafbb20db65045427,\n",
       "                },\n",
       "            };\n",
       "            let layer_control_d43ee93d628b118c07b286081c773e11 = L.control.layers(\n",
       "                layer_control_d43ee93d628b118c07b286081c773e11_layers.base_layers,\n",
       "                layer_control_d43ee93d628b118c07b286081c773e11_layers.overlays,\n",
       "                {&quot;autoZIndex&quot;: true, &quot;collapsed&quot;: true, &quot;position&quot;: &quot;topright&quot;}\n",
       "            ).addTo(map_a74318b3597fe307cc4586d673badeb3);\n",
       "\n",
       "        \n",
       "&lt;/script&gt;\n",
       "&lt;/html&gt;\" width=\"100%\" height=\"600\"style=\"border:none !important;\" \"allowfullscreen\" \"webkitallowfullscreen\" \"mozallowfullscreen\"></iframe>"
      ],
      "text/plain": [
       "<geemap.foliumap.Map at 0x754fcf66a910>"
      ]
     },
     "execution_count": 141,
     "metadata": {},
     "output_type": "execute_result"
    }
   ],
   "source": [
    "# find a negative buffer size that's small enough for the smallest boundary\n",
    "fire_geo = sierra_fires.sort('BurnBndAc').first().geometry()\n",
    "buffer_distance = -16*30\n",
    "shrunk_fire_geo = fire_geo.buffer(distance=buffer_distance)\n",
    "og_grid = fire_geo.coveringGrid(scale=256*30, proj='EPSG:5070')\n",
    "tiny_grid = shrunk_fire_geo.coveringGrid(scale=256*30, proj='EPSG:5070')  \n",
    "m = geemap.Map()\n",
    "m.addLayer(fire_geo, {'color': 'blue'}, 'Original Fire Boundary')\n",
    "m.addLayer(shrunk_fire_geo, {'color': 'red'}, 'Shrunk Fire Boundary')\n",
    "m.addLayer(og_grid,{'color': 'black'},'original grid')\n",
    "m.addLayer(tiny_grid,{'color': 'black'},'tiny grid') \n",
    "m.centerObject(fire_geo, 12)\n",
    "m"
   ]
  },
  {
   "cell_type": "code",
   "execution_count": 258,
   "metadata": {},
   "outputs": [
    {
     "data": {
      "text/html": [
       "\n",
       "            <style>\n",
       "                .geemap-dark {\n",
       "                    --jp-widgets-color: white;\n",
       "                    --jp-widgets-label-color: white;\n",
       "                    --jp-ui-font-color1: white;\n",
       "                    --jp-layout-color2: #454545;\n",
       "                    background-color: #383838;\n",
       "                }\n",
       "\n",
       "                .geemap-dark .jupyter-button {\n",
       "                    --jp-layout-color3: #383838;\n",
       "                }\n",
       "\n",
       "                .geemap-colab {\n",
       "                    background-color: var(--colab-primary-surface-color, white);\n",
       "                }\n",
       "\n",
       "                .geemap-colab .jupyter-button {\n",
       "                    --jp-layout-color3: var(--colab-primary-surface-color, white);\n",
       "                }\n",
       "            </style>\n",
       "            "
      ],
      "text/plain": [
       "<IPython.core.display.HTML object>"
      ]
     },
     "metadata": {},
     "output_type": "display_data"
    }
   ],
   "source": [
    "# Assuming train_val_fires is already defined\n",
    "def apply_properties(feature):\n",
    "    # Buffer the feature geometry and create a grid\n",
    "    grid = feature.geometry()\\\n",
    "        .buffer(distance=-16*30, proj='EPSG:5070')\\\n",
    "        .coveringGrid(proj='EPSG:5070', scale=256*30)\n",
    "    \n",
    "    # Function to copy properties to each grid cell\n",
    "    def copy_props(grid_feature):\n",
    "        return ee.Feature(grid_feature).copyProperties(feature)\n",
    "    \n",
    "    # Apply the function to each grid cell\n",
    "    grid = ee.FeatureCollection(grid).map(copy_props)\n",
    "    return grid\n",
    "\n",
    "# Map the function over the original FeatureCollection\n",
    "grids_tv = train_val_fires.map(apply_properties).flatten()\n",
    "grids_te = test_fires.map(apply_properties).flatten()\n",
    "\n",
    "# Print or visualize to check results\n",
    "# print(\"Grids with Properties:\", grids_tv.getInfo())\n"
   ]
  },
  {
   "cell_type": "code",
   "execution_count": 259,
   "metadata": {},
   "outputs": [
    {
     "data": {
      "text/html": [
       "\n",
       "            <style>\n",
       "                .geemap-dark {\n",
       "                    --jp-widgets-color: white;\n",
       "                    --jp-widgets-label-color: white;\n",
       "                    --jp-ui-font-color1: white;\n",
       "                    --jp-layout-color2: #454545;\n",
       "                    background-color: #383838;\n",
       "                }\n",
       "\n",
       "                .geemap-dark .jupyter-button {\n",
       "                    --jp-layout-color3: #383838;\n",
       "                }\n",
       "\n",
       "                .geemap-colab {\n",
       "                    background-color: var(--colab-primary-surface-color, white);\n",
       "                }\n",
       "\n",
       "                .geemap-colab .jupyter-button {\n",
       "                    --jp-layout-color3: var(--colab-primary-surface-color, white);\n",
       "                }\n",
       "            </style>\n",
       "            "
      ],
      "text/plain": [
       "<IPython.core.display.HTML object>"
      ]
     },
     "metadata": {},
     "output_type": "display_data"
    },
    {
     "name": "stdout",
     "output_type": "stream",
     "text": [
      "566\n",
      "42\n"
     ]
    }
   ],
   "source": [
    "# get size of grids_tv and grids_te\n",
    "print(grids_tv.size().getInfo())\n",
    "print(grids_te.size().getInfo())"
   ]
  },
  {
   "cell_type": "code",
   "execution_count": 252,
   "metadata": {},
   "outputs": [
    {
     "data": {
      "text/html": [
       "\n",
       "            <style>\n",
       "                .geemap-dark {\n",
       "                    --jp-widgets-color: white;\n",
       "                    --jp-widgets-label-color: white;\n",
       "                    --jp-ui-font-color1: white;\n",
       "                    --jp-layout-color2: #454545;\n",
       "                    background-color: #383838;\n",
       "                }\n",
       "\n",
       "                .geemap-dark .jupyter-button {\n",
       "                    --jp-layout-color3: #383838;\n",
       "                }\n",
       "\n",
       "                .geemap-colab {\n",
       "                    background-color: var(--colab-primary-surface-color, white);\n",
       "                }\n",
       "\n",
       "                .geemap-colab .jupyter-button {\n",
       "                    --jp-layout-color3: var(--colab-primary-surface-color, white);\n",
       "                }\n",
       "            </style>\n",
       "            "
      ],
      "text/plain": [
       "<IPython.core.display.HTML object>"
      ]
     },
     "metadata": {},
     "output_type": "display_data"
    },
    {
     "data": {
      "text/plain": [
       "'CA3716511951320150619'"
      ]
     },
     "execution_count": 252,
     "metadata": {},
     "output_type": "execute_result"
    }
   ],
   "source": [
    "grids_tv.toList(3).get(2).getInfo()['properties']['Event_ID']"
   ]
  },
  {
   "cell_type": "code",
   "execution_count": 253,
   "metadata": {},
   "outputs": [
    {
     "data": {
      "text/html": [
       "\n",
       "            <style>\n",
       "                .geemap-dark {\n",
       "                    --jp-widgets-color: white;\n",
       "                    --jp-widgets-label-color: white;\n",
       "                    --jp-ui-font-color1: white;\n",
       "                    --jp-layout-color2: #454545;\n",
       "                    background-color: #383838;\n",
       "                }\n",
       "\n",
       "                .geemap-dark .jupyter-button {\n",
       "                    --jp-layout-color3: #383838;\n",
       "                }\n",
       "\n",
       "                .geemap-colab {\n",
       "                    background-color: var(--colab-primary-surface-color, white);\n",
       "                }\n",
       "\n",
       "                .geemap-colab .jupyter-button {\n",
       "                    --jp-layout-color3: var(--colab-primary-surface-color, white);\n",
       "                }\n",
       "            </style>\n",
       "            "
      ],
      "text/plain": [
       "<IPython.core.display.HTML object>"
      ]
     },
     "metadata": {},
     "output_type": "display_data"
    }
   ],
   "source": [
    "filter_grid = ee.Feature(grids_tv.toList(3).get(2))\n",
    "filter_data = train_val_data.filterMetadata('Event_ID','equals',filter_grid.getInfo()['properties']['Event_ID'])\n",
    "filter_fireperim = train_val_fires.filterMetadata('Event_ID','equals',filter_grid.getInfo()['properties']['Event_ID'])"
   ]
  },
  {
   "cell_type": "code",
   "execution_count": 255,
   "metadata": {},
   "outputs": [
    {
     "data": {
      "text/html": [
       "\n",
       "            <style>\n",
       "                .geemap-dark {\n",
       "                    --jp-widgets-color: white;\n",
       "                    --jp-widgets-label-color: white;\n",
       "                    --jp-ui-font-color1: white;\n",
       "                    --jp-layout-color2: #454545;\n",
       "                    background-color: #383838;\n",
       "                }\n",
       "\n",
       "                .geemap-dark .jupyter-button {\n",
       "                    --jp-layout-color3: #383838;\n",
       "                }\n",
       "\n",
       "                .geemap-colab {\n",
       "                    background-color: var(--colab-primary-surface-color, white);\n",
       "                }\n",
       "\n",
       "                .geemap-colab .jupyter-button {\n",
       "                    --jp-layout-color3: var(--colab-primary-surface-color, white);\n",
       "                }\n",
       "            </style>\n",
       "            "
      ],
      "text/plain": [
       "<IPython.core.display.HTML object>"
      ]
     },
     "metadata": {},
     "output_type": "display_data"
    },
    {
     "data": {
      "text/html": [
       "<div><style>:root {\n",
       "  --font-color-primary: var(--jp-content-font-color0, rgba(0, 0, 0, 1));\n",
       "  --font-color-secondary: var(--jp-content-font-color2, rgba(0, 0, 0, 0.6));\n",
       "  --font-color-accent: rgba(123, 31, 162, 1);\n",
       "  --border-color: var(--jp-border-color2, #e0e0e0);\n",
       "  --background-color: var(--jp-layout-color0, white);\n",
       "  --background-color-row-even: var(--jp-layout-color1, white);\n",
       "  --background-color-row-odd: var(--jp-layout-color2, #eeeeee);\n",
       "}\n",
       "\n",
       "html[theme=\"dark\"],\n",
       "body[data-theme=\"dark\"],\n",
       "body.vscode-dark {\n",
       "  --font-color-primary: rgba(255, 255, 255, 1);\n",
       "  --font-color-secondary: rgba(255, 255, 255, 0.6);\n",
       "  --font-color-accent: rgb(173, 132, 190);\n",
       "  --border-color: #2e2e2e;\n",
       "  --background-color: #111111;\n",
       "  --background-color-row-even: #111111;\n",
       "  --background-color-row-odd: #313131;\n",
       "}\n",
       "\n",
       ".ee {\n",
       "  padding: 1em;\n",
       "  line-height: 1.5em;\n",
       "  min-width: 300px;\n",
       "  max-width: 1200px;\n",
       "  overflow-y: scroll;\n",
       "  max-height: 600px;\n",
       "  border: 1px solid var(--border-color);\n",
       "  font-family: monospace;\n",
       "}\n",
       "\n",
       ".ee li {\n",
       "  list-style-type: none;\n",
       "}\n",
       "\n",
       ".ee ul {\n",
       "  padding-left: 1.5em !important;\n",
       "  margin: 0;\n",
       "}\n",
       "\n",
       ".ee > ul {\n",
       "  padding-left: 0 !important;\n",
       "}\n",
       "\n",
       ".ee-open,\n",
       ".ee-shut {\n",
       "  color: var(--font-color-secondary);\n",
       "  cursor: pointer;\n",
       "  margin: 0;\n",
       "}\n",
       "\n",
       ".ee-open:hover,\n",
       ".ee-shut:hover {\n",
       "  color: var(--font-color-primary);\n",
       "}\n",
       "\n",
       ".ee-k {\n",
       "  color: var(--font-color-accent);\n",
       "  margin-right: 6px;\n",
       "}\n",
       "\n",
       ".ee-v {\n",
       "  color: var(--font-color-primary);\n",
       "}\n",
       "\n",
       ".ee-toggle {\n",
       "  display: none;\n",
       "}\n",
       "\n",
       ".ee-shut + ul {\n",
       "  display: none;\n",
       "}\n",
       "\n",
       ".ee-open + ul {\n",
       "  display: block;\n",
       "}\n",
       "\n",
       ".ee-shut::before {\n",
       "  display: inline-block;\n",
       "  content: \"▼\";\n",
       "  margin-right: 6px;\n",
       "  transform: rotate(-90deg);\n",
       "  transition: transform 0.2s;\n",
       "}\n",
       "\n",
       ".ee-open::before {\n",
       "  transform: rotate(0deg);\n",
       "  display: inline-block;\n",
       "  content: \"▼\";\n",
       "  margin-right: 6px;\n",
       "  transition: transform 0.2s;\n",
       "}\n",
       "</style><div class='ee'><ul><li><label class='ee-shut'>Image (19 bands)<input type='checkbox' class='ee-toggle'></label><ul><li><span class='ee-k'>type:</span><span class='ee-v'>Image</span></li><li><label class='ee-shut'>bands: List (19 elements)<input type='checkbox' class='ee-toggle'></label><ul><li><label class='ee-shut'>0: \"blue_pre\", double, EPSG:4326, 3x2 px<input type='checkbox' class='ee-toggle'></label><ul><li><span class='ee-k'>id:</span><span class='ee-v'>blue_pre</span></li><li><span class='ee-k'>crs:</span><span class='ee-v'>EPSG:4326</span></li><li><label class='ee-shut'>crs_transform: [1, 0, 0, 0, 1, 0]<input type='checkbox' class='ee-toggle'></label><ul><li><span class='ee-k'>0:</span><span class='ee-v'>1</span></li><li><span class='ee-k'>1:</span><span class='ee-v'>0</span></li><li><span class='ee-k'>2:</span><span class='ee-v'>0</span></li><li><span class='ee-k'>3:</span><span class='ee-v'>0</span></li><li><span class='ee-k'>4:</span><span class='ee-v'>1</span></li><li><span class='ee-k'>5:</span><span class='ee-v'>0</span></li></ul></li><li><label class='ee-shut'>data_type: double<input type='checkbox' class='ee-toggle'></label><ul><li><span class='ee-k'>type:</span><span class='ee-v'>PixelType</span></li><li><span class='ee-k'>max:</span><span class='ee-v'>3.2767</span></li><li><span class='ee-k'>min:</span><span class='ee-v'>-3.2768</span></li><li><span class='ee-k'>precision:</span><span class='ee-v'>double</span></li></ul></li><li><label class='ee-shut'>dimensions: [3, 2]<input type='checkbox' class='ee-toggle'></label><ul><li><span class='ee-k'>0:</span><span class='ee-v'>3</span></li><li><span class='ee-k'>1:</span><span class='ee-v'>2</span></li></ul></li><li><label class='ee-shut'>origin: [-121, 36]<input type='checkbox' class='ee-toggle'></label><ul><li><span class='ee-k'>0:</span><span class='ee-v'>-121</span></li><li><span class='ee-k'>1:</span><span class='ee-v'>36</span></li></ul></li></ul></li><li><label class='ee-shut'>1: \"green_pre\", double, EPSG:4326, 3x2 px<input type='checkbox' class='ee-toggle'></label><ul><li><span class='ee-k'>id:</span><span class='ee-v'>green_pre</span></li><li><span class='ee-k'>crs:</span><span class='ee-v'>EPSG:4326</span></li><li><label class='ee-shut'>crs_transform: [1, 0, 0, 0, 1, 0]<input type='checkbox' class='ee-toggle'></label><ul><li><span class='ee-k'>0:</span><span class='ee-v'>1</span></li><li><span class='ee-k'>1:</span><span class='ee-v'>0</span></li><li><span class='ee-k'>2:</span><span class='ee-v'>0</span></li><li><span class='ee-k'>3:</span><span class='ee-v'>0</span></li><li><span class='ee-k'>4:</span><span class='ee-v'>1</span></li><li><span class='ee-k'>5:</span><span class='ee-v'>0</span></li></ul></li><li><label class='ee-shut'>data_type: double<input type='checkbox' class='ee-toggle'></label><ul><li><span class='ee-k'>type:</span><span class='ee-v'>PixelType</span></li><li><span class='ee-k'>max:</span><span class='ee-v'>3.2767</span></li><li><span class='ee-k'>min:</span><span class='ee-v'>-3.2768</span></li><li><span class='ee-k'>precision:</span><span class='ee-v'>double</span></li></ul></li><li><label class='ee-shut'>dimensions: [3, 2]<input type='checkbox' class='ee-toggle'></label><ul><li><span class='ee-k'>0:</span><span class='ee-v'>3</span></li><li><span class='ee-k'>1:</span><span class='ee-v'>2</span></li></ul></li><li><label class='ee-shut'>origin: [-121, 36]<input type='checkbox' class='ee-toggle'></label><ul><li><span class='ee-k'>0:</span><span class='ee-v'>-121</span></li><li><span class='ee-k'>1:</span><span class='ee-v'>36</span></li></ul></li></ul></li><li><label class='ee-shut'>2: \"red_pre\", double, EPSG:4326, 3x2 px<input type='checkbox' class='ee-toggle'></label><ul><li><span class='ee-k'>id:</span><span class='ee-v'>red_pre</span></li><li><span class='ee-k'>crs:</span><span class='ee-v'>EPSG:4326</span></li><li><label class='ee-shut'>crs_transform: [1, 0, 0, 0, 1, 0]<input type='checkbox' class='ee-toggle'></label><ul><li><span class='ee-k'>0:</span><span class='ee-v'>1</span></li><li><span class='ee-k'>1:</span><span class='ee-v'>0</span></li><li><span class='ee-k'>2:</span><span class='ee-v'>0</span></li><li><span class='ee-k'>3:</span><span class='ee-v'>0</span></li><li><span class='ee-k'>4:</span><span class='ee-v'>1</span></li><li><span class='ee-k'>5:</span><span class='ee-v'>0</span></li></ul></li><li><label class='ee-shut'>data_type: double<input type='checkbox' class='ee-toggle'></label><ul><li><span class='ee-k'>type:</span><span class='ee-v'>PixelType</span></li><li><span class='ee-k'>max:</span><span class='ee-v'>3.2767</span></li><li><span class='ee-k'>min:</span><span class='ee-v'>-3.2768</span></li><li><span class='ee-k'>precision:</span><span class='ee-v'>double</span></li></ul></li><li><label class='ee-shut'>dimensions: [3, 2]<input type='checkbox' class='ee-toggle'></label><ul><li><span class='ee-k'>0:</span><span class='ee-v'>3</span></li><li><span class='ee-k'>1:</span><span class='ee-v'>2</span></li></ul></li><li><label class='ee-shut'>origin: [-121, 36]<input type='checkbox' class='ee-toggle'></label><ul><li><span class='ee-k'>0:</span><span class='ee-v'>-121</span></li><li><span class='ee-k'>1:</span><span class='ee-v'>36</span></li></ul></li></ul></li><li><label class='ee-shut'>3: \"nir_pre\", double, EPSG:4326, 3x2 px<input type='checkbox' class='ee-toggle'></label><ul><li><span class='ee-k'>id:</span><span class='ee-v'>nir_pre</span></li><li><span class='ee-k'>crs:</span><span class='ee-v'>EPSG:4326</span></li><li><label class='ee-shut'>crs_transform: [1, 0, 0, 0, 1, 0]<input type='checkbox' class='ee-toggle'></label><ul><li><span class='ee-k'>0:</span><span class='ee-v'>1</span></li><li><span class='ee-k'>1:</span><span class='ee-v'>0</span></li><li><span class='ee-k'>2:</span><span class='ee-v'>0</span></li><li><span class='ee-k'>3:</span><span class='ee-v'>0</span></li><li><span class='ee-k'>4:</span><span class='ee-v'>1</span></li><li><span class='ee-k'>5:</span><span class='ee-v'>0</span></li></ul></li><li><label class='ee-shut'>data_type: double<input type='checkbox' class='ee-toggle'></label><ul><li><span class='ee-k'>type:</span><span class='ee-v'>PixelType</span></li><li><span class='ee-k'>max:</span><span class='ee-v'>3.2767</span></li><li><span class='ee-k'>min:</span><span class='ee-v'>-3.2768</span></li><li><span class='ee-k'>precision:</span><span class='ee-v'>double</span></li></ul></li><li><label class='ee-shut'>dimensions: [3, 2]<input type='checkbox' class='ee-toggle'></label><ul><li><span class='ee-k'>0:</span><span class='ee-v'>3</span></li><li><span class='ee-k'>1:</span><span class='ee-v'>2</span></li></ul></li><li><label class='ee-shut'>origin: [-121, 36]<input type='checkbox' class='ee-toggle'></label><ul><li><span class='ee-k'>0:</span><span class='ee-v'>-121</span></li><li><span class='ee-k'>1:</span><span class='ee-v'>36</span></li></ul></li></ul></li><li><label class='ee-shut'>4: \"swir1_pre\", double, EPSG:4326, 3x2 px<input type='checkbox' class='ee-toggle'></label><ul><li><span class='ee-k'>id:</span><span class='ee-v'>swir1_pre</span></li><li><span class='ee-k'>crs:</span><span class='ee-v'>EPSG:4326</span></li><li><label class='ee-shut'>crs_transform: [1, 0, 0, 0, 1, 0]<input type='checkbox' class='ee-toggle'></label><ul><li><span class='ee-k'>0:</span><span class='ee-v'>1</span></li><li><span class='ee-k'>1:</span><span class='ee-v'>0</span></li><li><span class='ee-k'>2:</span><span class='ee-v'>0</span></li><li><span class='ee-k'>3:</span><span class='ee-v'>0</span></li><li><span class='ee-k'>4:</span><span class='ee-v'>1</span></li><li><span class='ee-k'>5:</span><span class='ee-v'>0</span></li></ul></li><li><label class='ee-shut'>data_type: double<input type='checkbox' class='ee-toggle'></label><ul><li><span class='ee-k'>type:</span><span class='ee-v'>PixelType</span></li><li><span class='ee-k'>max:</span><span class='ee-v'>3.2767</span></li><li><span class='ee-k'>min:</span><span class='ee-v'>-3.2768</span></li><li><span class='ee-k'>precision:</span><span class='ee-v'>double</span></li></ul></li><li><label class='ee-shut'>dimensions: [3, 2]<input type='checkbox' class='ee-toggle'></label><ul><li><span class='ee-k'>0:</span><span class='ee-v'>3</span></li><li><span class='ee-k'>1:</span><span class='ee-v'>2</span></li></ul></li><li><label class='ee-shut'>origin: [-121, 36]<input type='checkbox' class='ee-toggle'></label><ul><li><span class='ee-k'>0:</span><span class='ee-v'>-121</span></li><li><span class='ee-k'>1:</span><span class='ee-v'>36</span></li></ul></li></ul></li><li><label class='ee-shut'>5: \"swir2_pre\", double, EPSG:4326, 3x2 px<input type='checkbox' class='ee-toggle'></label><ul><li><span class='ee-k'>id:</span><span class='ee-v'>swir2_pre</span></li><li><span class='ee-k'>crs:</span><span class='ee-v'>EPSG:4326</span></li><li><label class='ee-shut'>crs_transform: [1, 0, 0, 0, 1, 0]<input type='checkbox' class='ee-toggle'></label><ul><li><span class='ee-k'>0:</span><span class='ee-v'>1</span></li><li><span class='ee-k'>1:</span><span class='ee-v'>0</span></li><li><span class='ee-k'>2:</span><span class='ee-v'>0</span></li><li><span class='ee-k'>3:</span><span class='ee-v'>0</span></li><li><span class='ee-k'>4:</span><span class='ee-v'>1</span></li><li><span class='ee-k'>5:</span><span class='ee-v'>0</span></li></ul></li><li><label class='ee-shut'>data_type: double<input type='checkbox' class='ee-toggle'></label><ul><li><span class='ee-k'>type:</span><span class='ee-v'>PixelType</span></li><li><span class='ee-k'>max:</span><span class='ee-v'>3.2767</span></li><li><span class='ee-k'>min:</span><span class='ee-v'>-3.2768</span></li><li><span class='ee-k'>precision:</span><span class='ee-v'>double</span></li></ul></li><li><label class='ee-shut'>dimensions: [3, 2]<input type='checkbox' class='ee-toggle'></label><ul><li><span class='ee-k'>0:</span><span class='ee-v'>3</span></li><li><span class='ee-k'>1:</span><span class='ee-v'>2</span></li></ul></li><li><label class='ee-shut'>origin: [-121, 36]<input type='checkbox' class='ee-toggle'></label><ul><li><span class='ee-k'>0:</span><span class='ee-v'>-121</span></li><li><span class='ee-k'>1:</span><span class='ee-v'>36</span></li></ul></li></ul></li><li><label class='ee-shut'>6: \"blue_post1\", double, EPSG:4326, 3x2 px<input type='checkbox' class='ee-toggle'></label><ul><li><span class='ee-k'>id:</span><span class='ee-v'>blue_post1</span></li><li><span class='ee-k'>crs:</span><span class='ee-v'>EPSG:4326</span></li><li><label class='ee-shut'>crs_transform: [1, 0, 0, 0, 1, 0]<input type='checkbox' class='ee-toggle'></label><ul><li><span class='ee-k'>0:</span><span class='ee-v'>1</span></li><li><span class='ee-k'>1:</span><span class='ee-v'>0</span></li><li><span class='ee-k'>2:</span><span class='ee-v'>0</span></li><li><span class='ee-k'>3:</span><span class='ee-v'>0</span></li><li><span class='ee-k'>4:</span><span class='ee-v'>1</span></li><li><span class='ee-k'>5:</span><span class='ee-v'>0</span></li></ul></li><li><label class='ee-shut'>data_type: double<input type='checkbox' class='ee-toggle'></label><ul><li><span class='ee-k'>type:</span><span class='ee-v'>PixelType</span></li><li><span class='ee-k'>max:</span><span class='ee-v'>3.2767</span></li><li><span class='ee-k'>min:</span><span class='ee-v'>-3.2768</span></li><li><span class='ee-k'>precision:</span><span class='ee-v'>double</span></li></ul></li><li><label class='ee-shut'>dimensions: [3, 2]<input type='checkbox' class='ee-toggle'></label><ul><li><span class='ee-k'>0:</span><span class='ee-v'>3</span></li><li><span class='ee-k'>1:</span><span class='ee-v'>2</span></li></ul></li><li><label class='ee-shut'>origin: [-121, 36]<input type='checkbox' class='ee-toggle'></label><ul><li><span class='ee-k'>0:</span><span class='ee-v'>-121</span></li><li><span class='ee-k'>1:</span><span class='ee-v'>36</span></li></ul></li></ul></li><li><label class='ee-shut'>7: \"green_post1\", double, EPSG:4326, 3x2 px<input type='checkbox' class='ee-toggle'></label><ul><li><span class='ee-k'>id:</span><span class='ee-v'>green_post1</span></li><li><span class='ee-k'>crs:</span><span class='ee-v'>EPSG:4326</span></li><li><label class='ee-shut'>crs_transform: [1, 0, 0, 0, 1, 0]<input type='checkbox' class='ee-toggle'></label><ul><li><span class='ee-k'>0:</span><span class='ee-v'>1</span></li><li><span class='ee-k'>1:</span><span class='ee-v'>0</span></li><li><span class='ee-k'>2:</span><span class='ee-v'>0</span></li><li><span class='ee-k'>3:</span><span class='ee-v'>0</span></li><li><span class='ee-k'>4:</span><span class='ee-v'>1</span></li><li><span class='ee-k'>5:</span><span class='ee-v'>0</span></li></ul></li><li><label class='ee-shut'>data_type: double<input type='checkbox' class='ee-toggle'></label><ul><li><span class='ee-k'>type:</span><span class='ee-v'>PixelType</span></li><li><span class='ee-k'>max:</span><span class='ee-v'>3.2767</span></li><li><span class='ee-k'>min:</span><span class='ee-v'>-3.2768</span></li><li><span class='ee-k'>precision:</span><span class='ee-v'>double</span></li></ul></li><li><label class='ee-shut'>dimensions: [3, 2]<input type='checkbox' class='ee-toggle'></label><ul><li><span class='ee-k'>0:</span><span class='ee-v'>3</span></li><li><span class='ee-k'>1:</span><span class='ee-v'>2</span></li></ul></li><li><label class='ee-shut'>origin: [-121, 36]<input type='checkbox' class='ee-toggle'></label><ul><li><span class='ee-k'>0:</span><span class='ee-v'>-121</span></li><li><span class='ee-k'>1:</span><span class='ee-v'>36</span></li></ul></li></ul></li><li><label class='ee-shut'>8: \"red_post1\", double, EPSG:4326, 3x2 px<input type='checkbox' class='ee-toggle'></label><ul><li><span class='ee-k'>id:</span><span class='ee-v'>red_post1</span></li><li><span class='ee-k'>crs:</span><span class='ee-v'>EPSG:4326</span></li><li><label class='ee-shut'>crs_transform: [1, 0, 0, 0, 1, 0]<input type='checkbox' class='ee-toggle'></label><ul><li><span class='ee-k'>0:</span><span class='ee-v'>1</span></li><li><span class='ee-k'>1:</span><span class='ee-v'>0</span></li><li><span class='ee-k'>2:</span><span class='ee-v'>0</span></li><li><span class='ee-k'>3:</span><span class='ee-v'>0</span></li><li><span class='ee-k'>4:</span><span class='ee-v'>1</span></li><li><span class='ee-k'>5:</span><span class='ee-v'>0</span></li></ul></li><li><label class='ee-shut'>data_type: double<input type='checkbox' class='ee-toggle'></label><ul><li><span class='ee-k'>type:</span><span class='ee-v'>PixelType</span></li><li><span class='ee-k'>max:</span><span class='ee-v'>3.2767</span></li><li><span class='ee-k'>min:</span><span class='ee-v'>-3.2768</span></li><li><span class='ee-k'>precision:</span><span class='ee-v'>double</span></li></ul></li><li><label class='ee-shut'>dimensions: [3, 2]<input type='checkbox' class='ee-toggle'></label><ul><li><span class='ee-k'>0:</span><span class='ee-v'>3</span></li><li><span class='ee-k'>1:</span><span class='ee-v'>2</span></li></ul></li><li><label class='ee-shut'>origin: [-121, 36]<input type='checkbox' class='ee-toggle'></label><ul><li><span class='ee-k'>0:</span><span class='ee-v'>-121</span></li><li><span class='ee-k'>1:</span><span class='ee-v'>36</span></li></ul></li></ul></li><li><label class='ee-shut'>9: \"nir_post1\", double, EPSG:4326, 3x2 px<input type='checkbox' class='ee-toggle'></label><ul><li><span class='ee-k'>id:</span><span class='ee-v'>nir_post1</span></li><li><span class='ee-k'>crs:</span><span class='ee-v'>EPSG:4326</span></li><li><label class='ee-shut'>crs_transform: [1, 0, 0, 0, 1, 0]<input type='checkbox' class='ee-toggle'></label><ul><li><span class='ee-k'>0:</span><span class='ee-v'>1</span></li><li><span class='ee-k'>1:</span><span class='ee-v'>0</span></li><li><span class='ee-k'>2:</span><span class='ee-v'>0</span></li><li><span class='ee-k'>3:</span><span class='ee-v'>0</span></li><li><span class='ee-k'>4:</span><span class='ee-v'>1</span></li><li><span class='ee-k'>5:</span><span class='ee-v'>0</span></li></ul></li><li><label class='ee-shut'>data_type: double<input type='checkbox' class='ee-toggle'></label><ul><li><span class='ee-k'>type:</span><span class='ee-v'>PixelType</span></li><li><span class='ee-k'>max:</span><span class='ee-v'>3.2767</span></li><li><span class='ee-k'>min:</span><span class='ee-v'>-3.2768</span></li><li><span class='ee-k'>precision:</span><span class='ee-v'>double</span></li></ul></li><li><label class='ee-shut'>dimensions: [3, 2]<input type='checkbox' class='ee-toggle'></label><ul><li><span class='ee-k'>0:</span><span class='ee-v'>3</span></li><li><span class='ee-k'>1:</span><span class='ee-v'>2</span></li></ul></li><li><label class='ee-shut'>origin: [-121, 36]<input type='checkbox' class='ee-toggle'></label><ul><li><span class='ee-k'>0:</span><span class='ee-v'>-121</span></li><li><span class='ee-k'>1:</span><span class='ee-v'>36</span></li></ul></li></ul></li><li><label class='ee-shut'>10: \"swir1_post1\", double, EPSG:4326, 3x2 px<input type='checkbox' class='ee-toggle'></label><ul><li><span class='ee-k'>id:</span><span class='ee-v'>swir1_post1</span></li><li><span class='ee-k'>crs:</span><span class='ee-v'>EPSG:4326</span></li><li><label class='ee-shut'>crs_transform: [1, 0, 0, 0, 1, 0]<input type='checkbox' class='ee-toggle'></label><ul><li><span class='ee-k'>0:</span><span class='ee-v'>1</span></li><li><span class='ee-k'>1:</span><span class='ee-v'>0</span></li><li><span class='ee-k'>2:</span><span class='ee-v'>0</span></li><li><span class='ee-k'>3:</span><span class='ee-v'>0</span></li><li><span class='ee-k'>4:</span><span class='ee-v'>1</span></li><li><span class='ee-k'>5:</span><span class='ee-v'>0</span></li></ul></li><li><label class='ee-shut'>data_type: double<input type='checkbox' class='ee-toggle'></label><ul><li><span class='ee-k'>type:</span><span class='ee-v'>PixelType</span></li><li><span class='ee-k'>max:</span><span class='ee-v'>3.2767</span></li><li><span class='ee-k'>min:</span><span class='ee-v'>-3.2768</span></li><li><span class='ee-k'>precision:</span><span class='ee-v'>double</span></li></ul></li><li><label class='ee-shut'>dimensions: [3, 2]<input type='checkbox' class='ee-toggle'></label><ul><li><span class='ee-k'>0:</span><span class='ee-v'>3</span></li><li><span class='ee-k'>1:</span><span class='ee-v'>2</span></li></ul></li><li><label class='ee-shut'>origin: [-121, 36]<input type='checkbox' class='ee-toggle'></label><ul><li><span class='ee-k'>0:</span><span class='ee-v'>-121</span></li><li><span class='ee-k'>1:</span><span class='ee-v'>36</span></li></ul></li></ul></li><li><label class='ee-shut'>11: \"swir2_post1\", double, EPSG:4326, 3x2 px<input type='checkbox' class='ee-toggle'></label><ul><li><span class='ee-k'>id:</span><span class='ee-v'>swir2_post1</span></li><li><span class='ee-k'>crs:</span><span class='ee-v'>EPSG:4326</span></li><li><label class='ee-shut'>crs_transform: [1, 0, 0, 0, 1, 0]<input type='checkbox' class='ee-toggle'></label><ul><li><span class='ee-k'>0:</span><span class='ee-v'>1</span></li><li><span class='ee-k'>1:</span><span class='ee-v'>0</span></li><li><span class='ee-k'>2:</span><span class='ee-v'>0</span></li><li><span class='ee-k'>3:</span><span class='ee-v'>0</span></li><li><span class='ee-k'>4:</span><span class='ee-v'>1</span></li><li><span class='ee-k'>5:</span><span class='ee-v'>0</span></li></ul></li><li><label class='ee-shut'>data_type: double<input type='checkbox' class='ee-toggle'></label><ul><li><span class='ee-k'>type:</span><span class='ee-v'>PixelType</span></li><li><span class='ee-k'>max:</span><span class='ee-v'>3.2767</span></li><li><span class='ee-k'>min:</span><span class='ee-v'>-3.2768</span></li><li><span class='ee-k'>precision:</span><span class='ee-v'>double</span></li></ul></li><li><label class='ee-shut'>dimensions: [3, 2]<input type='checkbox' class='ee-toggle'></label><ul><li><span class='ee-k'>0:</span><span class='ee-v'>3</span></li><li><span class='ee-k'>1:</span><span class='ee-v'>2</span></li></ul></li><li><label class='ee-shut'>origin: [-121, 36]<input type='checkbox' class='ee-toggle'></label><ul><li><span class='ee-k'>0:</span><span class='ee-v'>-121</span></li><li><span class='ee-k'>1:</span><span class='ee-v'>36</span></li></ul></li></ul></li><li><label class='ee-shut'>12: \"blue_post2\", double, EPSG:4326, 3x2 px<input type='checkbox' class='ee-toggle'></label><ul><li><span class='ee-k'>id:</span><span class='ee-v'>blue_post2</span></li><li><span class='ee-k'>crs:</span><span class='ee-v'>EPSG:4326</span></li><li><label class='ee-shut'>crs_transform: [1, 0, 0, 0, 1, 0]<input type='checkbox' class='ee-toggle'></label><ul><li><span class='ee-k'>0:</span><span class='ee-v'>1</span></li><li><span class='ee-k'>1:</span><span class='ee-v'>0</span></li><li><span class='ee-k'>2:</span><span class='ee-v'>0</span></li><li><span class='ee-k'>3:</span><span class='ee-v'>0</span></li><li><span class='ee-k'>4:</span><span class='ee-v'>1</span></li><li><span class='ee-k'>5:</span><span class='ee-v'>0</span></li></ul></li><li><label class='ee-shut'>data_type: double<input type='checkbox' class='ee-toggle'></label><ul><li><span class='ee-k'>type:</span><span class='ee-v'>PixelType</span></li><li><span class='ee-k'>max:</span><span class='ee-v'>3.2767</span></li><li><span class='ee-k'>min:</span><span class='ee-v'>-3.2768</span></li><li><span class='ee-k'>precision:</span><span class='ee-v'>double</span></li></ul></li><li><label class='ee-shut'>dimensions: [3, 2]<input type='checkbox' class='ee-toggle'></label><ul><li><span class='ee-k'>0:</span><span class='ee-v'>3</span></li><li><span class='ee-k'>1:</span><span class='ee-v'>2</span></li></ul></li><li><label class='ee-shut'>origin: [-121, 36]<input type='checkbox' class='ee-toggle'></label><ul><li><span class='ee-k'>0:</span><span class='ee-v'>-121</span></li><li><span class='ee-k'>1:</span><span class='ee-v'>36</span></li></ul></li></ul></li><li><label class='ee-shut'>13: \"green_post2\", double, EPSG:4326, 3x2 px<input type='checkbox' class='ee-toggle'></label><ul><li><span class='ee-k'>id:</span><span class='ee-v'>green_post2</span></li><li><span class='ee-k'>crs:</span><span class='ee-v'>EPSG:4326</span></li><li><label class='ee-shut'>crs_transform: [1, 0, 0, 0, 1, 0]<input type='checkbox' class='ee-toggle'></label><ul><li><span class='ee-k'>0:</span><span class='ee-v'>1</span></li><li><span class='ee-k'>1:</span><span class='ee-v'>0</span></li><li><span class='ee-k'>2:</span><span class='ee-v'>0</span></li><li><span class='ee-k'>3:</span><span class='ee-v'>0</span></li><li><span class='ee-k'>4:</span><span class='ee-v'>1</span></li><li><span class='ee-k'>5:</span><span class='ee-v'>0</span></li></ul></li><li><label class='ee-shut'>data_type: double<input type='checkbox' class='ee-toggle'></label><ul><li><span class='ee-k'>type:</span><span class='ee-v'>PixelType</span></li><li><span class='ee-k'>max:</span><span class='ee-v'>3.2767</span></li><li><span class='ee-k'>min:</span><span class='ee-v'>-3.2768</span></li><li><span class='ee-k'>precision:</span><span class='ee-v'>double</span></li></ul></li><li><label class='ee-shut'>dimensions: [3, 2]<input type='checkbox' class='ee-toggle'></label><ul><li><span class='ee-k'>0:</span><span class='ee-v'>3</span></li><li><span class='ee-k'>1:</span><span class='ee-v'>2</span></li></ul></li><li><label class='ee-shut'>origin: [-121, 36]<input type='checkbox' class='ee-toggle'></label><ul><li><span class='ee-k'>0:</span><span class='ee-v'>-121</span></li><li><span class='ee-k'>1:</span><span class='ee-v'>36</span></li></ul></li></ul></li><li><label class='ee-shut'>14: \"red_post2\", double, EPSG:4326, 3x2 px<input type='checkbox' class='ee-toggle'></label><ul><li><span class='ee-k'>id:</span><span class='ee-v'>red_post2</span></li><li><span class='ee-k'>crs:</span><span class='ee-v'>EPSG:4326</span></li><li><label class='ee-shut'>crs_transform: [1, 0, 0, 0, 1, 0]<input type='checkbox' class='ee-toggle'></label><ul><li><span class='ee-k'>0:</span><span class='ee-v'>1</span></li><li><span class='ee-k'>1:</span><span class='ee-v'>0</span></li><li><span class='ee-k'>2:</span><span class='ee-v'>0</span></li><li><span class='ee-k'>3:</span><span class='ee-v'>0</span></li><li><span class='ee-k'>4:</span><span class='ee-v'>1</span></li><li><span class='ee-k'>5:</span><span class='ee-v'>0</span></li></ul></li><li><label class='ee-shut'>data_type: double<input type='checkbox' class='ee-toggle'></label><ul><li><span class='ee-k'>type:</span><span class='ee-v'>PixelType</span></li><li><span class='ee-k'>max:</span><span class='ee-v'>3.2767</span></li><li><span class='ee-k'>min:</span><span class='ee-v'>-3.2768</span></li><li><span class='ee-k'>precision:</span><span class='ee-v'>double</span></li></ul></li><li><label class='ee-shut'>dimensions: [3, 2]<input type='checkbox' class='ee-toggle'></label><ul><li><span class='ee-k'>0:</span><span class='ee-v'>3</span></li><li><span class='ee-k'>1:</span><span class='ee-v'>2</span></li></ul></li><li><label class='ee-shut'>origin: [-121, 36]<input type='checkbox' class='ee-toggle'></label><ul><li><span class='ee-k'>0:</span><span class='ee-v'>-121</span></li><li><span class='ee-k'>1:</span><span class='ee-v'>36</span></li></ul></li></ul></li><li><label class='ee-shut'>15: \"nir_post2\", double, EPSG:4326, 3x2 px<input type='checkbox' class='ee-toggle'></label><ul><li><span class='ee-k'>id:</span><span class='ee-v'>nir_post2</span></li><li><span class='ee-k'>crs:</span><span class='ee-v'>EPSG:4326</span></li><li><label class='ee-shut'>crs_transform: [1, 0, 0, 0, 1, 0]<input type='checkbox' class='ee-toggle'></label><ul><li><span class='ee-k'>0:</span><span class='ee-v'>1</span></li><li><span class='ee-k'>1:</span><span class='ee-v'>0</span></li><li><span class='ee-k'>2:</span><span class='ee-v'>0</span></li><li><span class='ee-k'>3:</span><span class='ee-v'>0</span></li><li><span class='ee-k'>4:</span><span class='ee-v'>1</span></li><li><span class='ee-k'>5:</span><span class='ee-v'>0</span></li></ul></li><li><label class='ee-shut'>data_type: double<input type='checkbox' class='ee-toggle'></label><ul><li><span class='ee-k'>type:</span><span class='ee-v'>PixelType</span></li><li><span class='ee-k'>max:</span><span class='ee-v'>3.2767</span></li><li><span class='ee-k'>min:</span><span class='ee-v'>-3.2768</span></li><li><span class='ee-k'>precision:</span><span class='ee-v'>double</span></li></ul></li><li><label class='ee-shut'>dimensions: [3, 2]<input type='checkbox' class='ee-toggle'></label><ul><li><span class='ee-k'>0:</span><span class='ee-v'>3</span></li><li><span class='ee-k'>1:</span><span class='ee-v'>2</span></li></ul></li><li><label class='ee-shut'>origin: [-121, 36]<input type='checkbox' class='ee-toggle'></label><ul><li><span class='ee-k'>0:</span><span class='ee-v'>-121</span></li><li><span class='ee-k'>1:</span><span class='ee-v'>36</span></li></ul></li></ul></li><li><label class='ee-shut'>16: \"swir1_post2\", double, EPSG:4326, 3x2 px<input type='checkbox' class='ee-toggle'></label><ul><li><span class='ee-k'>id:</span><span class='ee-v'>swir1_post2</span></li><li><span class='ee-k'>crs:</span><span class='ee-v'>EPSG:4326</span></li><li><label class='ee-shut'>crs_transform: [1, 0, 0, 0, 1, 0]<input type='checkbox' class='ee-toggle'></label><ul><li><span class='ee-k'>0:</span><span class='ee-v'>1</span></li><li><span class='ee-k'>1:</span><span class='ee-v'>0</span></li><li><span class='ee-k'>2:</span><span class='ee-v'>0</span></li><li><span class='ee-k'>3:</span><span class='ee-v'>0</span></li><li><span class='ee-k'>4:</span><span class='ee-v'>1</span></li><li><span class='ee-k'>5:</span><span class='ee-v'>0</span></li></ul></li><li><label class='ee-shut'>data_type: double<input type='checkbox' class='ee-toggle'></label><ul><li><span class='ee-k'>type:</span><span class='ee-v'>PixelType</span></li><li><span class='ee-k'>max:</span><span class='ee-v'>3.2767</span></li><li><span class='ee-k'>min:</span><span class='ee-v'>-3.2768</span></li><li><span class='ee-k'>precision:</span><span class='ee-v'>double</span></li></ul></li><li><label class='ee-shut'>dimensions: [3, 2]<input type='checkbox' class='ee-toggle'></label><ul><li><span class='ee-k'>0:</span><span class='ee-v'>3</span></li><li><span class='ee-k'>1:</span><span class='ee-v'>2</span></li></ul></li><li><label class='ee-shut'>origin: [-121, 36]<input type='checkbox' class='ee-toggle'></label><ul><li><span class='ee-k'>0:</span><span class='ee-v'>-121</span></li><li><span class='ee-k'>1:</span><span class='ee-v'>36</span></li></ul></li></ul></li><li><label class='ee-shut'>17: \"swir2_post2\", double, EPSG:4326, 3x2 px<input type='checkbox' class='ee-toggle'></label><ul><li><span class='ee-k'>id:</span><span class='ee-v'>swir2_post2</span></li><li><span class='ee-k'>crs:</span><span class='ee-v'>EPSG:4326</span></li><li><label class='ee-shut'>crs_transform: [1, 0, 0, 0, 1, 0]<input type='checkbox' class='ee-toggle'></label><ul><li><span class='ee-k'>0:</span><span class='ee-v'>1</span></li><li><span class='ee-k'>1:</span><span class='ee-v'>0</span></li><li><span class='ee-k'>2:</span><span class='ee-v'>0</span></li><li><span class='ee-k'>3:</span><span class='ee-v'>0</span></li><li><span class='ee-k'>4:</span><span class='ee-v'>1</span></li><li><span class='ee-k'>5:</span><span class='ee-v'>0</span></li></ul></li><li><label class='ee-shut'>data_type: double<input type='checkbox' class='ee-toggle'></label><ul><li><span class='ee-k'>type:</span><span class='ee-v'>PixelType</span></li><li><span class='ee-k'>max:</span><span class='ee-v'>3.2767</span></li><li><span class='ee-k'>min:</span><span class='ee-v'>-3.2768</span></li><li><span class='ee-k'>precision:</span><span class='ee-v'>double</span></li></ul></li><li><label class='ee-shut'>dimensions: [3, 2]<input type='checkbox' class='ee-toggle'></label><ul><li><span class='ee-k'>0:</span><span class='ee-v'>3</span></li><li><span class='ee-k'>1:</span><span class='ee-v'>2</span></li></ul></li><li><label class='ee-shut'>origin: [-121, 36]<input type='checkbox' class='ee-toggle'></label><ul><li><span class='ee-k'>0:</span><span class='ee-v'>-121</span></li><li><span class='ee-k'>1:</span><span class='ee-v'>36</span></li></ul></li></ul></li><li><label class='ee-shut'>18: \"label\", int ∈ [0, 1], PROJCS[\"USA_Contiguous_Albers_Equal_Area_Conic_USGS_version\", \n",
       "  GEOGCS[\"NAD83\", \n",
       "    DATUM[\"North_American_Datum_1983\", \n",
       "      SPHEROID[\"GRS 1980\", 6378137.0, 298.257222101, AUTHORITY[\"EPSG\",\"7019\"]], \n",
       "      AUTHORITY[\"EPSG\",\"6269\"]], \n",
       "    PRIMEM[\"Greenwich\", 0.0], \n",
       "    UNIT[\"degree\", 0.017453292519943295], \n",
       "    AXIS[\"Longitude\", EAST], \n",
       "    AXIS[\"Latitude\", NORTH]], \n",
       "  PROJECTION[\"Albers_Conic_Equal_Area\"], \n",
       "  PARAMETER[\"central_meridian\", -96.0], \n",
       "  PARAMETER[\"latitude_of_origin\", 23.0], \n",
       "  PARAMETER[\"standard_parallel_1\", 29.5], \n",
       "  PARAMETER[\"false_easting\", 0.0], \n",
       "  PARAMETER[\"false_northing\", 0.0], \n",
       "  PARAMETER[\"standard_parallel_2\", 45.5], \n",
       "  UNIT[\"m\", 1.0], \n",
       "  AXIS[\"Easting\", EAST], \n",
       "  AXIS[\"Northing\", NORTH]], 635x664 px<input type='checkbox' class='ee-toggle'></label><ul><li><span class='ee-k'>id:</span><span class='ee-v'>label</span></li><li><span class='ee-k'>crs:</span><span class='ee-v'>PROJCS[\"USA_Contiguous_Albers_Equal_Area_Conic_USGS_version\", \n",
       "  GEOGCS[\"NAD83\", \n",
       "    DATUM[\"North_American_Datum_1983\", \n",
       "      SPHEROID[\"GRS 1980\", 6378137.0, 298.257222101, AUTHORITY[\"EPSG\",\"7019\"]], \n",
       "      AUTHORITY[\"EPSG\",\"6269\"]], \n",
       "    PRIMEM[\"Greenwich\", 0.0], \n",
       "    UNIT[\"degree\", 0.017453292519943295], \n",
       "    AXIS[\"Longitude\", EAST], \n",
       "    AXIS[\"Latitude\", NORTH]], \n",
       "  PROJECTION[\"Albers_Conic_Equal_Area\"], \n",
       "  PARAMETER[\"central_meridian\", -96.0], \n",
       "  PARAMETER[\"latitude_of_origin\", 23.0], \n",
       "  PARAMETER[\"standard_parallel_1\", 29.5], \n",
       "  PARAMETER[\"false_easting\", 0.0], \n",
       "  PARAMETER[\"false_northing\", 0.0], \n",
       "  PARAMETER[\"standard_parallel_2\", 45.5], \n",
       "  UNIT[\"m\", 1.0], \n",
       "  AXIS[\"Easting\", EAST], \n",
       "  AXIS[\"Northing\", NORTH]]</span></li><li><label class='ee-shut'>crs_transform: [30, 0, -2304375, 0, -30, 3114165]<input type='checkbox' class='ee-toggle'></label><ul><li><span class='ee-k'>0:</span><span class='ee-v'>30</span></li><li><span class='ee-k'>1:</span><span class='ee-v'>0</span></li><li><span class='ee-k'>2:</span><span class='ee-v'>-2304375</span></li><li><span class='ee-k'>3:</span><span class='ee-v'>0</span></li><li><span class='ee-k'>4:</span><span class='ee-v'>-30</span></li><li><span class='ee-k'>5:</span><span class='ee-v'>3114165</span></li></ul></li><li><label class='ee-shut'>data_type: int ∈ [0, 1]<input type='checkbox' class='ee-toggle'></label><ul><li><span class='ee-k'>type:</span><span class='ee-v'>PixelType</span></li><li><span class='ee-k'>max:</span><span class='ee-v'>1</span></li><li><span class='ee-k'>min:</span><span class='ee-v'>0</span></li><li><span class='ee-k'>precision:</span><span class='ee-v'>int</span></li></ul></li><li><label class='ee-shut'>dimensions: [635, 664]<input type='checkbox' class='ee-toggle'></label><ul><li><span class='ee-k'>0:</span><span class='ee-v'>635</span></li><li><span class='ee-k'>1:</span><span class='ee-v'>664</span></li></ul></li><li><label class='ee-shut'>origin: [8302, 42640]<input type='checkbox' class='ee-toggle'></label><ul><li><span class='ee-k'>0:</span><span class='ee-v'>8302</span></li><li><span class='ee-k'>1:</span><span class='ee-v'>42640</span></li></ul></li></ul></li></ul></li><li><label class='ee-shut'>properties: Object (44 properties)<input type='checkbox' class='ee-toggle'></label><ul><li><span class='ee-k'>Asmnt_Type:</span><span class='ee-v'>Extended</span></li><li><span class='ee-k'>BurnBndAc:</span><span class='ee-v'>1064</span></li><li><span class='ee-k'>BurnBndLat:</span><span class='ee-v'>37.179</span></li><li><span class='ee-k'>BurnBndLon:</span><span class='ee-v'>-119.5</span></li><li><span class='ee-k'>Comment:</span><span class='ee-v'></span></li><li><span class='ee-k'>Event_ID:</span><span class='ee-v'>CA3716511951320150619</span></li><li><span class='ee-k'>High_T:</span><span class='ee-v'>460</span></li><li><span class='ee-k'>Ig_Date:</span><span class='ee-v'>1434697200000</span></li><li><span class='ee-k'>Ig_Date_readable:</span><span class='ee-v'>20150619</span></li><li><span class='ee-k'>IncGreen_T:</span><span class='ee-v'>-150</span></li><li><span class='ee-k'>Incid_Name:</span><span class='ee-v'>CORRINE</span></li><li><span class='ee-k'>Incid_Type:</span><span class='ee-v'>Wildfire</span></li><li><span class='ee-k'>Low_T:</span><span class='ee-v'>40</span></li><li><span class='ee-k'>Map_ID:</span><span class='ee-v'>25454</span></li><li><span class='ee-k'>Map_Prog:</span><span class='ee-v'>MTBS</span></li><li><span class='ee-k'>Mod_T:</span><span class='ee-v'>238</span></li><li><span class='ee-k'>NoData_T:</span><span class='ee-v'>-970</span></li><li><span class='ee-k'>Perim_ID:</span><span class='ee-v'></span></li><li><span class='ee-k'>Post_ID:</span><span class='ee-v'>804203420160629</span></li><li><span class='ee-k'>Pre_ID:</span><span class='ee-v'>804203420140726</span></li><li><span class='ee-k'>area:</span><span class='ee-v'>4304997.717714171</span></li><li><span class='ee-k'>dNBR_offst:</span><span class='ee-v'>22</span></li><li><span class='ee-k'>dNBR_stdDv:</span><span class='ee-v'>44</span></li><li><span class='ee-k'>hs_area:</span><span class='ee-v'>7873.334716796875</span></li><li><span class='ee-k'>hs_ratio:</span><span class='ee-v'>0.0018288824368941565</span></li><li><span class='ee-k'>irwinID:</span><span class='ee-v'>229ED2E8-FCCB-423C-8845-0DD32568F0ED</span></li><li><span class='ee-k'>post1_end:</span><span class='ee-v'>1437289200000</span></li><li><span class='ee-k'>post1_end_readable:</span><span class='ee-v'>20150719</span></li><li><span class='ee-k'>post1_start:</span><span class='ee-v'>1434783600000</span></li><li><span class='ee-k'>post1_start_readable:</span><span class='ee-v'>20150620</span></li><li><span class='ee-k'>post2_end:</span><span class='ee-v'>1439881200000</span></li><li><span class='ee-k'>post2_end_readable:</span><span class='ee-v'>20150818</span></li><li><span class='ee-k'>post2_start:</span><span class='ee-v'>1437289200000</span></li><li><span class='ee-k'>post2_start_readable:</span><span class='ee-v'>20150719</span></li><li><span class='ee-k'>pre_end:</span><span class='ee-v'>1410937200000</span></li><li><span class='ee-k'>pre_end_readable:</span><span class='ee-v'>20140917</span></li><li><span class='ee-k'>pre_start:</span><span class='ee-v'>1403161200000</span></li><li><span class='ee-k'>pre_start_readable:</span><span class='ee-v'>20140619</span></li><li><span class='ee-k'>size_class:</span><span class='ee-v'>small</span></li><li><label class='ee-shut'>system:footprint: Polygon (97 vertices)<input type='checkbox' class='ee-toggle'></label><ul><li><span class='ee-k'>type:</span><span class='ee-v'>Polygon</span></li><li><label class='ee-shut'>coordinates: List (1 element)<input type='checkbox' class='ee-toggle'></label><ul><li><label class='ee-shut'>0: List (97 elements)<input type='checkbox' class='ee-toggle'></label><ul><li><label class='ee-shut'>0: [-119.60196035268298, 37.15700180167584]<input type='checkbox' class='ee-toggle'></label><ul><li><span class='ee-k'>0:</span><span class='ee-v'>-119.60196035268298</span></li><li><span class='ee-k'>1:</span><span class='ee-v'>37.15700180167584</span></li></ul></li><li><label class='ee-shut'>1: [-119.60203136742633, 37.15257384877204]<input type='checkbox' class='ee-toggle'></label><ul><li><span class='ee-k'>0:</span><span class='ee-v'>-119.60203136742633</span></li><li><span class='ee-k'>1:</span><span class='ee-v'>37.15257384877204</span></li></ul></li><li><label class='ee-shut'>2: [-119.60023259776077, 37.147399230819396]<input type='checkbox' class='ee-toggle'></label><ul><li><span class='ee-k'>0:</span><span class='ee-v'>-119.60023259776077</span></li><li><span class='ee-k'>1:</span><span class='ee-v'>37.147399230819396</span></li></ul></li><li><label class='ee-shut'>3: [-119.59927644430789, 37.142084031804735]<input type='checkbox' class='ee-toggle'></label><ul><li><span class='ee-k'>0:</span><span class='ee-v'>-119.59927644430789</span></li><li><span class='ee-k'>1:</span><span class='ee-v'>37.142084031804735</span></li></ul></li><li><label class='ee-shut'>4: [-119.59698351307283, 37.13805054935099]<input type='checkbox' class='ee-toggle'></label><ul><li><span class='ee-k'>0:</span><span class='ee-v'>-119.59698351307283</span></li><li><span class='ee-k'>1:</span><span class='ee-v'>37.13805054935099</span></li></ul></li><li><label class='ee-shut'>5: [-119.59550060806828, 37.13378294811813]<input type='checkbox' class='ee-toggle'></label><ul><li><span class='ee-k'>0:</span><span class='ee-v'>-119.59550060806828</span></li><li><span class='ee-k'>1:</span><span class='ee-v'>37.13378294811813</span></li></ul></li><li><label class='ee-shut'>6: [-119.59196139767023, 37.12921451721536]<input type='checkbox' class='ee-toggle'></label><ul><li><span class='ee-k'>0:</span><span class='ee-v'>-119.59196139767023</span></li><li><span class='ee-k'>1:</span><span class='ee-v'>37.12921451721536</span></li></ul></li><li><label class='ee-shut'>7: [-119.58918207456789, 37.12432353028653]<input type='checkbox' class='ee-toggle'></label><ul><li><span class='ee-k'>0:</span><span class='ee-v'>-119.58918207456789</span></li><li><span class='ee-k'>1:</span><span class='ee-v'>37.12432353028653</span></li></ul></li><li><label class='ee-shut'>8: [-119.58556844227873, 37.12096079279626]<input type='checkbox' class='ee-toggle'></label><ul><li><span class='ee-k'>0:</span><span class='ee-v'>-119.58556844227873</span></li><li><span class='ee-k'>1:</span><span class='ee-v'>37.12096079279626</span></li></ul></li><li><label class='ee-shut'>9: [-119.5826505908699, 37.117192942967556]<input type='checkbox' class='ee-toggle'></label><ul><li><span class='ee-k'>0:</span><span class='ee-v'>-119.5826505908699</span></li><li><span class='ee-k'>1:</span><span class='ee-v'>37.117192942967556</span></li></ul></li><li><label class='ee-shut'>10: [-119.57765342373573, 37.113593887485926]<input type='checkbox' class='ee-toggle'></label><ul><li><span class='ee-k'>0:</span><span class='ee-v'>-119.57765342373573</span></li><li><span class='ee-k'>1:</span><span class='ee-v'>37.113593887485926</span></li></ul></li><li><label class='ee-shut'>11: [-119.57327298691361, 37.109515952432886]<input type='checkbox' class='ee-toggle'></label><ul><li><span class='ee-k'>0:</span><span class='ee-v'>-119.57327298691361</span></li><li><span class='ee-k'>1:</span><span class='ee-v'>37.109515952432886</span></li></ul></li><li><label class='ee-shut'>12: [-119.56862660314259, 37.10709119947243]<input type='checkbox' class='ee-toggle'></label><ul><li><span class='ee-k'>0:</span><span class='ee-v'>-119.56862660314259</span></li><li><span class='ee-k'>1:</span><span class='ee-v'>37.10709119947243</span></li></ul></li><li><label class='ee-shut'>13: [-119.56450647267887, 37.10412256542822]<input type='checkbox' class='ee-toggle'></label><ul><li><span class='ee-k'>0:</span><span class='ee-v'>-119.56450647267887</span></li><li><span class='ee-k'>1:</span><span class='ee-v'>37.10412256542822</span></li></ul></li><li><label class='ee-shut'>14: [-119.55844912343524, 37.10177882329197]<input type='checkbox' class='ee-toggle'></label><ul><li><span class='ee-k'>0:</span><span class='ee-v'>-119.55844912343524</span></li><li><span class='ee-k'>1:</span><span class='ee-v'>37.10177882329197</span></li></ul></li><li><label class='ee-shut'>15: [-119.55281632700304, 37.09883795772039]<input type='checkbox' class='ee-toggle'></label><ul><li><span class='ee-k'>0:</span><span class='ee-v'>-119.55281632700304</span></li><li><span class='ee-k'>1:</span><span class='ee-v'>37.09883795772039</span></li></ul></li><li><label class='ee-shut'>16: [-119.54750669359318, 37.09754377077509]<input type='checkbox' class='ee-toggle'></label><ul><li><span class='ee-k'>0:</span><span class='ee-v'>-119.54750669359318</span></li><li><span class='ee-k'>1:</span><span class='ee-v'>37.09754377077509</span></li></ul></li><li><label class='ee-shut'>17: [-119.54251199967294, 37.09561018099695]<input type='checkbox' class='ee-toggle'></label><ul><li><span class='ee-k'>0:</span><span class='ee-v'>-119.54251199967294</span></li><li><span class='ee-k'>1:</span><span class='ee-v'>37.09561018099695</span></li></ul></li><li><label class='ee-shut'>18: [-119.53587587198069, 37.09470785553645]<input type='checkbox' class='ee-toggle'></label><ul><li><span class='ee-k'>0:</span><span class='ee-v'>-119.53587587198069</span></li><li><span class='ee-k'>1:</span><span class='ee-v'>37.09470785553645</span></li></ul></li><li><label class='ee-shut'>19: [-119.52943838640769, 37.09313763931236]<input type='checkbox' class='ee-toggle'></label><ul><li><span class='ee-k'>0:</span><span class='ee-v'>-119.52943838640769</span></li><li><span class='ee-k'>1:</span><span class='ee-v'>37.09313763931236</span></li></ul></li><li><label class='ee-shut'>20: [-119.5238872549883, 37.093076751170116]<input type='checkbox' class='ee-toggle'></label><ul><li><span class='ee-k'>0:</span><span class='ee-v'>-119.5238872549883</span></li><li><span class='ee-k'>1:</span><span class='ee-v'>37.093076751170116</span></li></ul></li><li><label class='ee-shut'>21: [-119.51841475289086, 37.092331768538685]<input type='checkbox' class='ee-toggle'></label><ul><li><span class='ee-k'>0:</span><span class='ee-v'>-119.51841475289086</span></li><li><span class='ee-k'>1:</span><span class='ee-v'>37.092331768538685</span></li></ul></li><li><label class='ee-shut'>22: [-119.51601297074981, 37.092305567290055]<input type='checkbox' class='ee-toggle'></label><ul><li><span class='ee-k'>0:</span><span class='ee-v'>-119.51601297074981</span></li><li><span class='ee-k'>1:</span><span class='ee-v'>37.092305567290055</span></li></ul></li><li><label class='ee-shut'>23: [-119.48299679488422, 37.092305567290055]<input type='checkbox' class='ee-toggle'></label><ul><li><span class='ee-k'>0:</span><span class='ee-v'>-119.48299679488422</span></li><li><span class='ee-k'>1:</span><span class='ee-v'>37.092305567290055</span></li></ul></li><li><label class='ee-shut'>24: [-119.47750053181433, 37.09292936765649]<input type='checkbox' class='ee-toggle'></label><ul><li><span class='ee-k'>0:</span><span class='ee-v'>-119.47750053181433</span></li><li><span class='ee-k'>1:</span><span class='ee-v'>37.09292936765649</span></li></ul></li><li><label class='ee-shut'>25: [-119.4719494309734, 37.092867598998644]<input type='checkbox' class='ee-toggle'></label><ul><li><span class='ee-k'>0:</span><span class='ee-v'>-119.4719494309734</span></li><li><span class='ee-k'>1:</span><span class='ee-v'>37.092867598998644</span></li></ul></li><li><label class='ee-shut'>26: [-119.46545992307117, 37.094294998571236]<input type='checkbox' class='ee-toggle'></label><ul><li><span class='ee-k'>0:</span><span class='ee-v'>-119.46545992307117</span></li><li><span class='ee-k'>1:</span><span class='ee-v'>37.094294998571236</span></li></ul></li><li><label class='ee-shut'>27: [-119.45879505236607, 37.095050375401605]<input type='checkbox' class='ee-toggle'></label><ul><li><span class='ee-k'>0:</span><span class='ee-v'>-119.45879505236607</span></li><li><span class='ee-k'>1:</span><span class='ee-v'>37.095050375401605</span></li></ul></li><li><label class='ee-shut'>28: [-119.45373517300374, 37.09687288286135]<input type='checkbox' class='ee-toggle'></label><ul><li><span class='ee-k'>0:</span><span class='ee-v'>-119.45373517300374</span></li><li><span class='ee-k'>1:</span><span class='ee-v'>37.09687288286135</span></li></ul></li><li><label class='ee-shut'>29: [-119.44838268649104, 37.098049275355685]<input type='checkbox' class='ee-toggle'></label><ul><li><span class='ee-k'>0:</span><span class='ee-v'>-119.44838268649104</span></li><li><span class='ee-k'>1:</span><span class='ee-v'>37.098049275355685</span></li></ul></li><li><label class='ee-shut'>30: [-119.442649986067, 37.10086457561396]<input type='checkbox' class='ee-toggle'></label><ul><li><span class='ee-k'>0:</span><span class='ee-v'>-119.442649986067</span></li><li><span class='ee-k'>1:</span><span class='ee-v'>37.10086457561396</span></li></ul></li><li><label class='ee-shut'>31: [-119.43651364209316, 37.10307360258434]<input type='checkbox' class='ee-toggle'></label><ul><li><span class='ee-k'>0:</span><span class='ee-v'>-119.43651364209316</span></li><li><span class='ee-k'>1:</span><span class='ee-v'>37.10307360258434</span></li></ul></li><li><label class='ee-shut'>32: [-119.43229204551723, 37.10595007774785]<input type='checkbox' class='ee-toggle'></label><ul><li><span class='ee-k'>0:</span><span class='ee-v'>-119.43229204551723</span></li><li><span class='ee-k'>1:</span><span class='ee-v'>37.10595007774785</span></li></ul></li><li><label class='ee-shut'>33: [-119.42756329556168, 37.1082712548234]<input type='checkbox' class='ee-toggle'></label><ul><li><span class='ee-k'>0:</span><span class='ee-v'>-119.42756329556168</span></li><li><span class='ee-k'>1:</span><span class='ee-v'>37.1082712548234</span></li></ul></li><li><label class='ee-shut'>34: [-119.42304295812049, 37.11225085468539]<input type='checkbox' class='ee-toggle'></label><ul><li><span class='ee-k'>0:</span><span class='ee-v'>-119.42304295812049</span></li><li><span class='ee-k'>1:</span><span class='ee-v'>37.11225085468539</span></li></ul></li><li><label class='ee-shut'>35: [-119.41792276731404, 37.11573813424775]<input type='checkbox' class='ee-toggle'></label><ul><li><span class='ee-k'>0:</span><span class='ee-v'>-119.41792276731404</span></li><li><span class='ee-k'>1:</span><span class='ee-v'>37.11573813424775</span></li></ul></li><li><label class='ee-shut'>36: [-119.41487518275133, 37.11944007832183]<input type='checkbox' class='ee-toggle'></label><ul><li><span class='ee-k'>0:</span><span class='ee-v'>-119.41487518275133</span></li><li><span class='ee-k'>1:</span><span class='ee-v'>37.11944007832183</span></li></ul></li><li><label class='ee-shut'>37: [-119.4111461661327, 37.12272169470624]<input type='checkbox' class='ee-toggle'></label><ul><li><span class='ee-k'>0:</span><span class='ee-v'>-119.4111461661327</span></li><li><span class='ee-k'>1:</span><span class='ee-v'>37.12272169470624</span></li></ul></li><li><label class='ee-shut'>38: [-119.40819800316527, 37.127549404736854]<input type='checkbox' class='ee-toggle'></label><ul><li><span class='ee-k'>0:</span><span class='ee-v'>-119.40819800316527</span></li><li><span class='ee-k'>1:</span><span class='ee-v'>37.127549404736854</span></li></ul></li><li><label class='ee-shut'>39: [-119.40450145412206, 37.13203789544492]<input type='checkbox' class='ee-toggle'></label><ul><li><span class='ee-k'>0:</span><span class='ee-v'>-119.40450145412206</span></li><li><span class='ee-k'>1:</span><span class='ee-v'>37.13203789544492</span></li></ul></li><li><label class='ee-shut'>40: [-119.40287081406557, 37.13627109842777]<input type='checkbox' class='ee-toggle'></label><ul><li><span class='ee-k'>0:</span><span class='ee-v'>-119.40287081406557</span></li><li><span class='ee-k'>1:</span><span class='ee-v'>37.13627109842777</span></li></ul></li><li><label class='ee-shut'>41: [-119.40043860168413, 37.14025237780446]<input type='checkbox' class='ee-toggle'></label><ul><li><span class='ee-k'>0:</span><span class='ee-v'>-119.40043860168413</span></li><li><span class='ee-k'>1:</span><span class='ee-v'>37.14025237780446</span></li></ul></li><li><label class='ee-shut'>42: [-119.39929804313698, 37.14554441246636]<input type='checkbox' class='ee-toggle'></label><ul><li><span class='ee-k'>0:</span><span class='ee-v'>-119.39929804313698</span></li><li><span class='ee-k'>1:</span><span class='ee-v'>37.14554441246636</span></li></ul></li><li><label class='ee-shut'>43: [-119.39732007624649, 37.15067730527346]<input type='checkbox' class='ee-toggle'></label><ul><li><span class='ee-k'>0:</span><span class='ee-v'>-119.39732007624649</span></li><li><span class='ee-k'>1:</span><span class='ee-v'>37.15067730527346</span></li></ul></li><li><label class='ee-shut'>44: [-119.39723707277953, 37.15510512570537]<input type='checkbox' class='ee-toggle'></label><ul><li><span class='ee-k'>0:</span><span class='ee-v'>-119.39723707277953</span></li><li><span class='ee-k'>1:</span><span class='ee-v'>37.15510512570537</span></li></ul></li><li><label class='ee-shut'>45: [-119.39629608887286, 37.15946947580329]<input type='checkbox' class='ee-toggle'></label><ul><li><span class='ee-k'>0:</span><span class='ee-v'>-119.39629608887286</span></li><li><span class='ee-k'>1:</span><span class='ee-v'>37.15946947580329</span></li></ul></li><li><label class='ee-shut'>46: [-119.39626056564798, 37.161385262848796]<input type='checkbox' class='ee-toggle'></label><ul><li><span class='ee-k'>0:</span><span class='ee-v'>-119.39626056564798</span></li><li><span class='ee-k'>1:</span><span class='ee-v'>37.161385262848796</span></li></ul></li><li><label class='ee-shut'>47: [-119.39622103346717, 37.19581395926983]<input type='checkbox' class='ee-toggle'></label><ul><li><span class='ee-k'>0:</span><span class='ee-v'>-119.39622103346717</span></li><li><span class='ee-k'>1:</span><span class='ee-v'>37.19581395926983</span></li></ul></li><li><label class='ee-shut'>48: [-119.3969981503313, 37.200186680783794]<input type='checkbox' class='ee-toggle'></label><ul><li><span class='ee-k'>0:</span><span class='ee-v'>-119.3969981503313</span></li><li><span class='ee-k'>1:</span><span class='ee-v'>37.200186680783794</span></li></ul></li><li><label class='ee-shut'>49: [-119.3969152938904, 37.20460250634711]<input type='checkbox' class='ee-toggle'></label><ul><li><span class='ee-k'>0:</span><span class='ee-v'>-119.3969152938904</span></li><li><span class='ee-k'>1:</span><span class='ee-v'>37.20460250634711</span></li></ul></li><li><label class='ee-shut'>50: [-119.39870547221965, 37.20979173147166]<input type='checkbox' class='ee-toggle'></label><ul><li><span class='ee-k'>0:</span><span class='ee-v'>-119.39870547221965</span></li><li><span class='ee-k'>1:</span><span class='ee-v'>37.20979173147166</span></li></ul></li><li><label class='ee-shut'>51: [-119.3996527965316, 37.21512012302066]<input type='checkbox' class='ee-toggle'></label><ul><li><span class='ee-k'>0:</span><span class='ee-v'>-119.3996527965316</span></li><li><span class='ee-k'>1:</span><span class='ee-v'>37.21512012302066</span></li></ul></li><li><label class='ee-shut'>52: [-119.40193309426522, 37.21914583174052]<input type='checkbox' class='ee-toggle'></label><ul><li><span class='ee-k'>0:</span><span class='ee-v'>-119.40193309426522</span></li><li><span class='ee-k'>1:</span><span class='ee-v'>37.21914583174052</span></li></ul></li><li><label class='ee-shut'>53: [-119.40340273910076, 37.223404270579444]<input type='checkbox' class='ee-toggle'></label><ul><li><span class='ee-k'>0:</span><span class='ee-v'>-119.40340273910076</span></li><li><span class='ee-k'>1:</span><span class='ee-v'>37.223404270579444</span></li></ul></li><li><label class='ee-shut'>54: [-119.40694282400261, 37.227988502542466]<input type='checkbox' class='ee-toggle'></label><ul><li><span class='ee-k'>0:</span><span class='ee-v'>-119.40694282400261</span></li><li><span class='ee-k'>1:</span><span class='ee-v'>37.227988502542466</span></li></ul></li><li><label class='ee-shut'>55: [-119.40972247840348, 37.23289388338892]<input type='checkbox' class='ee-toggle'></label><ul><li><span class='ee-k'>0:</span><span class='ee-v'>-119.40972247840348</span></li><li><span class='ee-k'>1:</span><span class='ee-v'>37.23289388338892</span></li></ul></li><li><label class='ee-shut'>56: [-119.41332531694728, 37.23625183570583]<input type='checkbox' class='ee-toggle'></label><ul><li><span class='ee-k'>0:</span><span class='ee-v'>-119.41332531694728</span></li><li><span class='ee-k'>1:</span><span class='ee-v'>37.23625183570583</span></li></ul></li><li><label class='ee-shut'>57: [-119.41623141971165, 37.24001361676267]<input type='checkbox' class='ee-toggle'></label><ul><li><span class='ee-k'>0:</span><span class='ee-v'>-119.41623141971165</span></li><li><span class='ee-k'>1:</span><span class='ee-v'>37.24001361676267</span></li></ul></li><li><label class='ee-shut'>58: [-119.42124039657315, 37.24362749092737]<input type='checkbox' class='ee-toggle'></label><ul><li><span class='ee-k'>0:</span><span class='ee-v'>-119.42124039657315</span></li><li><span class='ee-k'>1:</span><span class='ee-v'>37.24362749092737</span></li></ul></li><li><label class='ee-shut'>59: [-119.42563195530566, 37.24771890864381]<input type='checkbox' class='ee-toggle'></label><ul><li><span class='ee-k'>0:</span><span class='ee-v'>-119.42563195530566</span></li><li><span class='ee-k'>1:</span><span class='ee-v'>37.24771890864381</span></li></ul></li><li><label class='ee-shut'>60: [-119.43027086043072, 37.25014137702086]<input type='checkbox' class='ee-toggle'></label><ul><li><span class='ee-k'>0:</span><span class='ee-v'>-119.43027086043072</span></li><li><span class='ee-k'>1:</span><span class='ee-v'>37.25014137702086</span></li></ul></li><li><label class='ee-shut'>61: [-119.43438250953794, 37.25310660602364]<input type='checkbox' class='ee-toggle'></label><ul><li><span class='ee-k'>0:</span><span class='ee-v'>-119.43438250953794</span></li><li><span class='ee-k'>1:</span><span class='ee-v'>37.25310660602364</span></li></ul></li><li><label class='ee-shut'>62: [-119.44046167197814, 37.25546190708837]<input type='checkbox' class='ee-toggle'></label><ul><li><span class='ee-k'>0:</span><span class='ee-v'>-119.44046167197814</span></li><li><span class='ee-k'>1:</span><span class='ee-v'>37.25546190708837</span></li></ul></li><li><label class='ee-shut'>63: [-119.44611564570413, 37.258413094606624]<input type='checkbox' class='ee-toggle'></label><ul><li><span class='ee-k'>0:</span><span class='ee-v'>-119.44611564570413</span></li><li><span class='ee-k'>1:</span><span class='ee-v'>37.258413094606624</span></li></ul></li><li><label class='ee-shut'>64: [-119.4514210137058, 37.25970681992648]<input type='checkbox' class='ee-toggle'></label><ul><li><span class='ee-k'>0:</span><span class='ee-v'>-119.4514210137058</span></li><li><span class='ee-k'>1:</span><span class='ee-v'>37.25970681992648</span></li></ul></li><li><label class='ee-shut'>65: [-119.4564106792474, 37.26163898809346]<input type='checkbox' class='ee-toggle'></label><ul><li><span class='ee-k'>0:</span><span class='ee-v'>-119.4564106792474</span></li><li><span class='ee-k'>1:</span><span class='ee-v'>37.26163898809346</span></li></ul></li><li><label class='ee-shut'>66: [-119.4630753622671, 37.262547770587375]<input type='checkbox' class='ee-toggle'></label><ul><li><span class='ee-k'>0:</span><span class='ee-v'>-119.4630753622671</span></li><li><span class='ee-k'>1:</span><span class='ee-v'>37.262547770587375</span></li></ul></li><li><label class='ee-shut'>67: [-119.46954099155604, 37.264123295393105]<input type='checkbox' class='ee-toggle'></label><ul><li><span class='ee-k'>0:</span><span class='ee-v'>-119.46954099155604</span></li><li><span class='ee-k'>1:</span><span class='ee-v'>37.264123295393105</span></li></ul></li><li><label class='ee-shut'>68: [-119.47508961739327, 37.26418501069123]<input type='checkbox' class='ee-toggle'></label><ul><li><span class='ee-k'>0:</span><span class='ee-v'>-119.47508961739327</span></li><li><span class='ee-k'>1:</span><span class='ee-v'>37.26418501069123</span></li></ul></li><li><label class='ee-shut'>69: [-119.48055929764465, 37.26492996450367]<input type='checkbox' class='ee-toggle'></label><ul><li><span class='ee-k'>0:</span><span class='ee-v'>-119.48055929764465</span></li><li><span class='ee-k'>1:</span><span class='ee-v'>37.26492996450367</span></li></ul></li><li><label class='ee-shut'>70: [-119.48296656195609, 37.264956882081144]<input type='checkbox' class='ee-toggle'></label><ul><li><span class='ee-k'>0:</span><span class='ee-v'>-119.48296656195609</span></li><li><span class='ee-k'>1:</span><span class='ee-v'>37.264956882081144</span></li></ul></li><li><label class='ee-shut'>71: [-119.51604320367791, 37.264956882081144]<input type='checkbox' class='ee-toggle'></label><ul><li><span class='ee-k'>0:</span><span class='ee-v'>-119.51604320367791</span></li><li><span class='ee-k'>1:</span><span class='ee-v'>37.264956882081144</span></li></ul></li><li><label class='ee-shut'>72: [-119.52153675613864, 37.264332994265025]<input type='checkbox' class='ee-toggle'></label><ul><li><span class='ee-k'>0:</span><span class='ee-v'>-119.52153675613864</span></li><li><span class='ee-k'>1:</span><span class='ee-v'>37.264332994265025</span></li></ul></li><li><label class='ee-shut'>73: [-119.52708541281129, 37.26439382526179]<input type='checkbox' class='ee-toggle'></label><ul><li><span class='ee-k'>0:</span><span class='ee-v'>-119.52708541281129</span></li><li><span class='ee-k'>1:</span><span class='ee-v'>37.26439382526179</span></li></ul></li><li><label class='ee-shut'>74: [-119.53360350902403, 37.26296167856673]<input type='checkbox' class='ee-toggle'></label><ul><li><span class='ee-k'>0:</span><span class='ee-v'>-119.53360350902403</span></li><li><span class='ee-k'>1:</span><span class='ee-v'>37.26296167856673</span></li></ul></li><li><label class='ee-shut'>75: [-119.54029735093663, 37.262200413054124]<input type='checkbox' class='ee-toggle'></label><ul><li><span class='ee-k'>0:</span><span class='ee-v'>-119.54029735093663</span></li><li><span class='ee-k'>1:</span><span class='ee-v'>37.262200413054124</span></li></ul></li><li><label class='ee-shut'>76: [-119.54535249230833, 37.26037916877293]<input type='checkbox' class='ee-toggle'></label><ul><li><span class='ee-k'>0:</span><span class='ee-v'>-119.54535249230833</span></li><li><span class='ee-k'>1:</span><span class='ee-v'>37.26037916877293</span></li></ul></li><li><label class='ee-shut'>77: [-119.55070096724137, 37.25920309286272]<input type='checkbox' class='ee-toggle'></label><ul><li><span class='ee-k'>0:</span><span class='ee-v'>-119.55070096724137</span></li><li><span class='ee-k'>1:</span><span class='ee-v'>37.25920309286272</span></li></ul></li><li><label class='ee-shut'>78: [-119.55645569792051, 37.256377890607986]<input type='checkbox' class='ee-toggle'></label><ul><li><span class='ee-k'>0:</span><span class='ee-v'>-119.55645569792051</span></li><li><span class='ee-k'>1:</span><span class='ee-v'>37.256377890607986</span></li></ul></li><li><label class='ee-shut'>79: [-119.56261469281432, 37.25415773436842]<input type='checkbox' class='ee-toggle'></label><ul><li><span class='ee-k'>0:</span><span class='ee-v'>-119.56261469281432</span></li><li><span class='ee-k'>1:</span><span class='ee-v'>37.25415773436842</span></li></ul></li><li><label class='ee-shut'>80: [-119.5668281639655, 37.25128443887725]<input type='checkbox' class='ee-toggle'></label><ul><li><span class='ee-k'>0:</span><span class='ee-v'>-119.5668281639655</span></li><li><span class='ee-k'>1:</span><span class='ee-v'>37.25128443887725</span></li></ul></li><li><label class='ee-shut'>81: [-119.5715497797577, 37.24896533783689]<input type='checkbox' class='ee-toggle'></label><ul><li><span class='ee-k'>0:</span><span class='ee-v'>-119.5715497797577</span></li><li><span class='ee-k'>1:</span><span class='ee-v'>37.24896533783689</span></li></ul></li><li><label class='ee-shut'>82: [-119.5760822968303, 37.2449724678205]<input type='checkbox' class='ee-toggle'></label><ul><li><span class='ee-k'>0:</span><span class='ee-v'>-119.5760822968303</span></li><li><span class='ee-k'>1:</span><span class='ee-v'>37.2449724678205</span></li></ul></li><li><label class='ee-shut'>83: [-119.58121535875459, 37.24147059119391]<input type='checkbox' class='ee-toggle'></label><ul><li><span class='ee-k'>0:</span><span class='ee-v'>-119.58121535875459</span></li><li><span class='ee-k'>1:</span><span class='ee-v'>37.24147059119391</span></li></ul></li><li><label class='ee-shut'>84: [-119.5842514611089, 37.23777442931193]<input type='checkbox' class='ee-toggle'></label><ul><li><span class='ee-k'>0:</span><span class='ee-v'>-119.5842514611089</span></li><li><span class='ee-k'>1:</span><span class='ee-v'>37.23777442931193</span></li></ul></li><li><label class='ee-shut'>85: [-119.58796996831545, 37.23449732587933]<input type='checkbox' class='ee-toggle'></label><ul><li><span class='ee-k'>0:</span><span class='ee-v'>-119.58796996831545</span></li><li><span class='ee-k'>1:</span><span class='ee-v'>37.23449732587933</span></li></ul></li><li><label class='ee-shut'>86: [-119.59091948256801, 37.22965521165056]<input type='checkbox' class='ee-toggle'></label><ul><li><span class='ee-k'>0:</span><span class='ee-v'>-119.59091948256801</span></li><li><span class='ee-k'>1:</span><span class='ee-v'>37.22965521165056</span></li></ul></li><li><label class='ee-shut'>87: [-119.59461794838698, 37.2251509142545]<input type='checkbox' class='ee-toggle'></label><ul><li><span class='ee-k'>0:</span><span class='ee-v'>-119.59461794838698</span></li><li><span class='ee-k'>1:</span><span class='ee-v'>37.2251509142545</span></li></ul></li><li><label class='ee-shut'>88: [-119.59623536062601, 37.22092656545444]<input type='checkbox' class='ee-toggle'></label><ul><li><span class='ee-k'>0:</span><span class='ee-v'>-119.59623536062601</span></li><li><span class='ee-k'>1:</span><span class='ee-v'>37.22092656545444</span></li></ul></li><li><label class='ee-shut'>89: [-119.59865501435162, 37.21695275780001]<input type='checkbox' class='ee-toggle'></label><ul><li><span class='ee-k'>0:</span><span class='ee-v'>-119.59865501435162</span></li><li><span class='ee-k'>1:</span><span class='ee-v'>37.21695275780001</span></li></ul></li><li><label class='ee-shut'>90: [-119.59978751333175, 37.211647333500906]<input type='checkbox' class='ee-toggle'></label><ul><li><span class='ee-k'>0:</span><span class='ee-v'>-119.59978751333175</span></li><li><span class='ee-k'>1:</span><span class='ee-v'>37.211647333500906</span></li></ul></li><li><label class='ee-shut'>91: [-119.60175769336962, 37.20649963360065]<input type='checkbox' class='ee-toggle'></label><ul><li><span class='ee-k'>0:</span><span class='ee-v'>-119.60175769336962</span></li><li><span class='ee-k'>1:</span><span class='ee-v'>37.20649963360065</span></li></ul></li><li><label class='ee-shut'>92: [-119.60182856927877, 37.202083675716224]<input type='checkbox' class='ee-toggle'></label><ul><li><span class='ee-k'>0:</span><span class='ee-v'>-119.60182856927877</span></li><li><span class='ee-k'>1:</span><span class='ee-v'>37.202083675716224</span></li></ul></li><li><label class='ee-shut'>93: [-119.60275759165798, 37.19772979489936]<input type='checkbox' class='ee-toggle'></label><ul><li><span class='ee-k'>0:</span><span class='ee-v'>-119.60275759165798</span></li><li><span class='ee-k'>1:</span><span class='ee-v'>37.19772979489936</span></li></ul></li><li><label class='ee-shut'>94: [-119.60278873216681, 37.19581395926983]<input type='checkbox' class='ee-toggle'></label><ul><li><span class='ee-k'>0:</span><span class='ee-v'>-119.60278873216681</span></li><li><span class='ee-k'>1:</span><span class='ee-v'>37.19581395926983</span></li></ul></li><li><label class='ee-shut'>95: [-119.602749199986, 37.161385262848796]<input type='checkbox' class='ee-toggle'></label><ul><li><span class='ee-k'>0:</span><span class='ee-v'>-119.602749199986</span></li><li><span class='ee-k'>1:</span><span class='ee-v'>37.161385262848796</span></li></ul></li><li><label class='ee-shut'>96: [-119.60196035268298, 37.15700180167584]<input type='checkbox' class='ee-toggle'></label><ul><li><span class='ee-k'>0:</span><span class='ee-v'>-119.60196035268298</span></li><li><span class='ee-k'>1:</span><span class='ee-v'>37.15700180167584</span></li></ul></li></ul></li></ul></li></ul></li><li><span class='ee-k'>system:index:</span><span class='ee-v'>1_1_000100000000000002a8</span></li><li><span class='ee-k'>system:time_end:</span><span class='ee-v'>1439881200000</span></li><li><span class='ee-k'>system:time_start:</span><span class='ee-v'>1403161200000</span></li><li><span class='ee-k'>year:</span><span class='ee-v'>2015</span></li></ul></li></ul></li></ul></div><script>function toggleHeader() {\n",
       "    const parent = this.parentElement;\n",
       "    parent.className = parent.className === \"ee-open\" ? \"ee-shut\" : \"ee-open\";\n",
       "}\n",
       "\n",
       "for (let c of document.getElementsByClassName(\"ee-toggle\")) {\n",
       "    c.onclick = toggleHeader;\n",
       "}</script></div>"
      ],
      "text/plain": [
       "<ee.image.Image at 0x754fcf2fd2d0>"
      ]
     },
     "execution_count": 255,
     "metadata": {},
     "output_type": "execute_result"
    }
   ],
   "source": [
    "filter_image = ee.Image(filter_data.first())\n",
    "filter_image"
   ]
  },
  {
   "cell_type": "code",
   "execution_count": 256,
   "metadata": {},
   "outputs": [
    {
     "data": {
      "text/html": [
       "\n",
       "            <style>\n",
       "                .geemap-dark {\n",
       "                    --jp-widgets-color: white;\n",
       "                    --jp-widgets-label-color: white;\n",
       "                    --jp-ui-font-color1: white;\n",
       "                    --jp-layout-color2: #454545;\n",
       "                    background-color: #383838;\n",
       "                }\n",
       "\n",
       "                .geemap-dark .jupyter-button {\n",
       "                    --jp-layout-color3: #383838;\n",
       "                }\n",
       "\n",
       "                .geemap-colab {\n",
       "                    background-color: var(--colab-primary-surface-color, white);\n",
       "                }\n",
       "\n",
       "                .geemap-colab .jupyter-button {\n",
       "                    --jp-layout-color3: var(--colab-primary-surface-color, white);\n",
       "                }\n",
       "            </style>\n",
       "            "
      ],
      "text/plain": [
       "<IPython.core.display.HTML object>"
      ]
     },
     "metadata": {},
     "output_type": "display_data"
    },
    {
     "data": {
      "text/html": [
       "<iframe srcdoc=\"&lt;!DOCTYPE html&gt;\n",
       "&lt;html&gt;\n",
       "&lt;head&gt;\n",
       "    \n",
       "    &lt;meta http-equiv=&quot;content-type&quot; content=&quot;text/html; charset=UTF-8&quot; /&gt;\n",
       "    \n",
       "        &lt;script&gt;\n",
       "            L_NO_TOUCH = false;\n",
       "            L_DISABLE_3D = false;\n",
       "        &lt;/script&gt;\n",
       "    \n",
       "    &lt;style&gt;html, body {width: 100%;height: 100%;margin: 0;padding: 0;}&lt;/style&gt;\n",
       "    &lt;style&gt;#map {position:absolute;top:0;bottom:0;right:0;left:0;}&lt;/style&gt;\n",
       "    &lt;script src=&quot;https://cdn.jsdelivr.net/npm/leaflet@1.9.3/dist/leaflet.js&quot;&gt;&lt;/script&gt;\n",
       "    &lt;script src=&quot;https://code.jquery.com/jquery-3.7.1.min.js&quot;&gt;&lt;/script&gt;\n",
       "    &lt;script src=&quot;https://cdn.jsdelivr.net/npm/bootstrap@5.2.2/dist/js/bootstrap.bundle.min.js&quot;&gt;&lt;/script&gt;\n",
       "    &lt;script src=&quot;https://cdnjs.cloudflare.com/ajax/libs/Leaflet.awesome-markers/2.0.2/leaflet.awesome-markers.js&quot;&gt;&lt;/script&gt;\n",
       "    &lt;link rel=&quot;stylesheet&quot; href=&quot;https://cdn.jsdelivr.net/npm/leaflet@1.9.3/dist/leaflet.css&quot;/&gt;\n",
       "    &lt;link rel=&quot;stylesheet&quot; href=&quot;https://cdn.jsdelivr.net/npm/bootstrap@5.2.2/dist/css/bootstrap.min.css&quot;/&gt;\n",
       "    &lt;link rel=&quot;stylesheet&quot; href=&quot;https://netdna.bootstrapcdn.com/bootstrap/3.0.0/css/bootstrap-glyphicons.css&quot;/&gt;\n",
       "    &lt;link rel=&quot;stylesheet&quot; href=&quot;https://cdn.jsdelivr.net/npm/@fortawesome/fontawesome-free@6.2.0/css/all.min.css&quot;/&gt;\n",
       "    &lt;link rel=&quot;stylesheet&quot; href=&quot;https://cdnjs.cloudflare.com/ajax/libs/Leaflet.awesome-markers/2.0.2/leaflet.awesome-markers.css&quot;/&gt;\n",
       "    &lt;link rel=&quot;stylesheet&quot; href=&quot;https://cdn.jsdelivr.net/gh/python-visualization/folium/folium/templates/leaflet.awesome.rotate.min.css&quot;/&gt;\n",
       "    \n",
       "            &lt;meta name=&quot;viewport&quot; content=&quot;width=device-width,\n",
       "                initial-scale=1.0, maximum-scale=1.0, user-scalable=no&quot; /&gt;\n",
       "            &lt;style&gt;\n",
       "                #map_8e0a9a0f9410261cab316688b4c47378 {\n",
       "                    position: relative;\n",
       "                    width: 100.0%;\n",
       "                    height: 100.0%;\n",
       "                    left: 0.0%;\n",
       "                    top: 0.0%;\n",
       "                }\n",
       "                .leaflet-container { font-size: 1rem; }\n",
       "            &lt;/style&gt;\n",
       "        \n",
       "    &lt;script src=&quot;https://cdn.jsdelivr.net/npm/leaflet.fullscreen@3.0.0/Control.FullScreen.min.js&quot;&gt;&lt;/script&gt;\n",
       "    &lt;link rel=&quot;stylesheet&quot; href=&quot;https://cdn.jsdelivr.net/npm/leaflet.fullscreen@3.0.0/Control.FullScreen.css&quot;/&gt;\n",
       "    &lt;script src=&quot;https://cdnjs.cloudflare.com/ajax/libs/leaflet.draw/1.0.2/leaflet.draw.js&quot;&gt;&lt;/script&gt;\n",
       "    &lt;link rel=&quot;stylesheet&quot; href=&quot;https://cdnjs.cloudflare.com/ajax/libs/leaflet.draw/1.0.2/leaflet.draw.css&quot;/&gt;\n",
       "    &lt;script src=&quot;https://unpkg.com/leaflet-control-geocoder/dist/Control.Geocoder.js&quot;&gt;&lt;/script&gt;\n",
       "    &lt;link rel=&quot;stylesheet&quot; href=&quot;https://unpkg.com/leaflet-control-geocoder/dist/Control.Geocoder.css&quot;/&gt;\n",
       "&lt;/head&gt;\n",
       "&lt;body&gt;\n",
       "    \n",
       "    \n",
       "            &lt;div class=&quot;folium-map&quot; id=&quot;map_8e0a9a0f9410261cab316688b4c47378&quot; &gt;&lt;/div&gt;\n",
       "        \n",
       "&lt;/body&gt;\n",
       "&lt;script&gt;\n",
       "    \n",
       "    \n",
       "            var map_8e0a9a0f9410261cab316688b4c47378 = L.map(\n",
       "                &quot;map_8e0a9a0f9410261cab316688b4c47378&quot;,\n",
       "                {\n",
       "                    center: [20.0, 0.0],\n",
       "                    crs: L.CRS.EPSG3857,\n",
       "                    zoom: 2,\n",
       "                    zoomControl: true,\n",
       "                    preferCanvas: false,\n",
       "                    eeInitialize: true,\n",
       "                    addGoogleMap: false,\n",
       "                    pluginLatlngpopup: false,\n",
       "                    pluginFullscreen: true,\n",
       "                    pluginDraw: true,\n",
       "                    DrawExport: false,\n",
       "                    pluginMinimap: false,\n",
       "                    locateControl: false,\n",
       "                    searchControl: true,\n",
       "                    layersControl: true,\n",
       "                }\n",
       "            );\n",
       "\n",
       "            \n",
       "\n",
       "        \n",
       "    \n",
       "            var tile_layer_02547ba94b44604927290fe4c763f577 = L.tileLayer(\n",
       "                &quot;https://tile.openstreetmap.org/{z}/{x}/{y}.png&quot;,\n",
       "                {&quot;attribution&quot;: &quot;\\u0026copy; \\u003ca href=\\&quot;https://www.openstreetmap.org/copyright\\&quot;\\u003eOpenStreetMap\\u003c/a\\u003e contributors&quot;, &quot;detectRetina&quot;: false, &quot;maxNativeZoom&quot;: 19, &quot;maxZoom&quot;: 30, &quot;minZoom&quot;: 0, &quot;noWrap&quot;: false, &quot;opacity&quot;: 1, &quot;subdomains&quot;: &quot;abc&quot;, &quot;tms&quot;: false}\n",
       "            );\n",
       "        \n",
       "    \n",
       "            tile_layer_02547ba94b44604927290fe4c763f577.addTo(map_8e0a9a0f9410261cab316688b4c47378);\n",
       "        \n",
       "    \n",
       "            L.control.fullscreen(\n",
       "                {&quot;forceSeparateButton&quot;: false, &quot;position&quot;: &quot;topleft&quot;, &quot;title&quot;: &quot;Full Screen&quot;, &quot;titleCancel&quot;: &quot;Exit Full Screen&quot;}\n",
       "            ).addTo(map_8e0a9a0f9410261cab316688b4c47378);\n",
       "        \n",
       "    \n",
       "            var options = {\n",
       "              position: &quot;topleft&quot;,\n",
       "              draw: {},\n",
       "              edit: {},\n",
       "            }\n",
       "            // FeatureGroup is to store editable layers.\n",
       "            var drawnItems_draw_control_2c25ca36722f934beff428e1606c97b9 = new L.featureGroup().addTo(\n",
       "                map_8e0a9a0f9410261cab316688b4c47378\n",
       "            );\n",
       "            options.edit.featureGroup = drawnItems_draw_control_2c25ca36722f934beff428e1606c97b9;\n",
       "            var draw_control_2c25ca36722f934beff428e1606c97b9 = new L.Control.Draw(\n",
       "                options\n",
       "            ).addTo( map_8e0a9a0f9410261cab316688b4c47378 );\n",
       "            map_8e0a9a0f9410261cab316688b4c47378.on(L.Draw.Event.CREATED, function(e) {\n",
       "                var layer = e.layer,\n",
       "                    type = e.layerType;\n",
       "                var coords = JSON.stringify(layer.toGeoJSON());\n",
       "                layer.on(&#x27;click&#x27;, function() {\n",
       "                    alert(coords);\n",
       "                    console.log(coords);\n",
       "                });\n",
       "                drawnItems_draw_control_2c25ca36722f934beff428e1606c97b9.addLayer(layer);\n",
       "             });\n",
       "            map_8e0a9a0f9410261cab316688b4c47378.on(&#x27;draw:created&#x27;, function(e) {\n",
       "                drawnItems_draw_control_2c25ca36722f934beff428e1606c97b9.addLayer(e.layer);\n",
       "            });\n",
       "            \n",
       "        \n",
       "    \n",
       "\n",
       "            var geocoderOpts_geocoder_de7bd7746bf28c5d1604387e64b05cf8 = {&quot;collapsed&quot;: true, &quot;defaultMarkGeocode&quot;: true, &quot;position&quot;: &quot;topleft&quot;, &quot;provider&quot;: &quot;nominatim&quot;, &quot;providerOptions&quot;: {}, &quot;zoom&quot;: 11};\n",
       "\n",
       "            // note: geocoder name should start with lowercase\n",
       "            var geocoderName_geocoder_de7bd7746bf28c5d1604387e64b05cf8 = geocoderOpts_geocoder_de7bd7746bf28c5d1604387e64b05cf8[&quot;provider&quot;];\n",
       "\n",
       "            var customGeocoder_geocoder_de7bd7746bf28c5d1604387e64b05cf8 = L.Control.Geocoder[ geocoderName_geocoder_de7bd7746bf28c5d1604387e64b05cf8 ](\n",
       "                geocoderOpts_geocoder_de7bd7746bf28c5d1604387e64b05cf8[&#x27;providerOptions&#x27;]\n",
       "            );\n",
       "            geocoderOpts_geocoder_de7bd7746bf28c5d1604387e64b05cf8[&quot;geocoder&quot;] = customGeocoder_geocoder_de7bd7746bf28c5d1604387e64b05cf8;\n",
       "\n",
       "            L.Control.geocoder(\n",
       "                geocoderOpts_geocoder_de7bd7746bf28c5d1604387e64b05cf8\n",
       "            ).on(&#x27;markgeocode&#x27;, function(e) {\n",
       "                var zoom = geocoderOpts_geocoder_de7bd7746bf28c5d1604387e64b05cf8[&#x27;zoom&#x27;] || map_8e0a9a0f9410261cab316688b4c47378.getZoom();\n",
       "                map_8e0a9a0f9410261cab316688b4c47378.setView(e.geocode.center, zoom);\n",
       "            }).addTo(map_8e0a9a0f9410261cab316688b4c47378);\n",
       "\n",
       "        \n",
       "    \n",
       "            map_8e0a9a0f9410261cab316688b4c47378.fitBounds(\n",
       "                [[20, 0], [20, 0]],\n",
       "                {&quot;maxZoom&quot;: 2}\n",
       "            );\n",
       "        \n",
       "    \n",
       "            map_8e0a9a0f9410261cab316688b4c47378.fitBounds(\n",
       "                [[37.17863053698804, -119.49950488309227], [37.17863053698804, -119.49950488309227]],\n",
       "                {&quot;maxZoom&quot;: 8}\n",
       "            );\n",
       "        \n",
       "    \n",
       "            var tile_layer_7181cc5f7333b28e44d3618264e34893 = L.tileLayer(\n",
       "                &quot;https://earthengine.googleapis.com/v1/projects/pyregence-ee/maps/a30fe202a4947f07c50558ebb87040e4-863abb7ecde359efe999e48707871a70/tiles/{z}/{x}/{y}&quot;,\n",
       "                {&quot;attribution&quot;: &quot;Google Earth Engine&quot;, &quot;detectRetina&quot;: false, &quot;maxZoom&quot;: 24, &quot;minZoom&quot;: 0, &quot;noWrap&quot;: false, &quot;opacity&quot;: 1.0, &quot;subdomains&quot;: &quot;abc&quot;, &quot;tms&quot;: false}\n",
       "            );\n",
       "        \n",
       "    \n",
       "            tile_layer_7181cc5f7333b28e44d3618264e34893.addTo(map_8e0a9a0f9410261cab316688b4c47378);\n",
       "        \n",
       "    \n",
       "            var tile_layer_f7717663d381def50752e7f920381e5d = L.tileLayer(\n",
       "                &quot;https://earthengine.googleapis.com/v1/projects/pyregence-ee/maps/2fb14ba61fc32fec0373ab193f5d9301-f74db6d5ebf0afac712a3c09aac760f4/tiles/{z}/{x}/{y}&quot;,\n",
       "                {&quot;attribution&quot;: &quot;Google Earth Engine&quot;, &quot;detectRetina&quot;: false, &quot;maxZoom&quot;: 24, &quot;minZoom&quot;: 0, &quot;noWrap&quot;: false, &quot;opacity&quot;: 1.0, &quot;subdomains&quot;: &quot;abc&quot;, &quot;tms&quot;: false}\n",
       "            );\n",
       "        \n",
       "    \n",
       "            tile_layer_f7717663d381def50752e7f920381e5d.addTo(map_8e0a9a0f9410261cab316688b4c47378);\n",
       "        \n",
       "    \n",
       "            var tile_layer_2ee753bb9df05db3174d55552108daf5 = L.tileLayer(\n",
       "                &quot;https://earthengine.googleapis.com/v1/projects/pyregence-ee/maps/93e06b9dd4385d2466c7cd4d44079610-c7a7ee984201e171534ac8abcb8ee92e/tiles/{z}/{x}/{y}&quot;,\n",
       "                {&quot;attribution&quot;: &quot;Google Earth Engine&quot;, &quot;detectRetina&quot;: false, &quot;maxZoom&quot;: 24, &quot;minZoom&quot;: 0, &quot;noWrap&quot;: false, &quot;opacity&quot;: 1.0, &quot;subdomains&quot;: &quot;abc&quot;, &quot;tms&quot;: false}\n",
       "            );\n",
       "        \n",
       "    \n",
       "            tile_layer_2ee753bb9df05db3174d55552108daf5.addTo(map_8e0a9a0f9410261cab316688b4c47378);\n",
       "        \n",
       "    \n",
       "            var tile_layer_8ab5509617dbc220763df5c78c7b2432 = L.tileLayer(\n",
       "                &quot;https://earthengine.googleapis.com/v1/projects/pyregence-ee/maps/15c80c49b6041a5803a90c6bcbf80b12-5c23429da6c05f41fa9019505d34a4c0/tiles/{z}/{x}/{y}&quot;,\n",
       "                {&quot;attribution&quot;: &quot;Google Earth Engine&quot;, &quot;detectRetina&quot;: false, &quot;maxZoom&quot;: 24, &quot;minZoom&quot;: 0, &quot;noWrap&quot;: false, &quot;opacity&quot;: 1.0, &quot;subdomains&quot;: &quot;abc&quot;, &quot;tms&quot;: false}\n",
       "            );\n",
       "        \n",
       "    \n",
       "            tile_layer_8ab5509617dbc220763df5c78c7b2432.addTo(map_8e0a9a0f9410261cab316688b4c47378);\n",
       "        \n",
       "    \n",
       "            var tile_layer_6abf930d423bf463ff803635933c83b1 = L.tileLayer(\n",
       "                &quot;https://earthengine.googleapis.com/v1/projects/pyregence-ee/maps/0fa3653a98aedfc414977fa936da5a00-60c67a1c37ac1d96a641914c79e23479/tiles/{z}/{x}/{y}&quot;,\n",
       "                {&quot;attribution&quot;: &quot;Google Earth Engine&quot;, &quot;detectRetina&quot;: false, &quot;maxZoom&quot;: 24, &quot;minZoom&quot;: 0, &quot;noWrap&quot;: false, &quot;opacity&quot;: 1.0, &quot;subdomains&quot;: &quot;abc&quot;, &quot;tms&quot;: false}\n",
       "            );\n",
       "        \n",
       "    \n",
       "            tile_layer_6abf930d423bf463ff803635933c83b1.addTo(map_8e0a9a0f9410261cab316688b4c47378);\n",
       "        \n",
       "    \n",
       "            var tile_layer_5906002d587a7326ab658f9d73a38b86 = L.tileLayer(\n",
       "                &quot;https://earthengine.googleapis.com/v1/projects/pyregence-ee/maps/a2675d2785d8d1ebc51fe67cfd759fa3-bfaf82fddc46829ea1cb3c4f68955163/tiles/{z}/{x}/{y}&quot;,\n",
       "                {&quot;attribution&quot;: &quot;Google Earth Engine&quot;, &quot;detectRetina&quot;: false, &quot;maxZoom&quot;: 24, &quot;minZoom&quot;: 0, &quot;noWrap&quot;: false, &quot;opacity&quot;: 1.0, &quot;subdomains&quot;: &quot;abc&quot;, &quot;tms&quot;: false}\n",
       "            );\n",
       "        \n",
       "    \n",
       "            tile_layer_5906002d587a7326ab658f9d73a38b86.addTo(map_8e0a9a0f9410261cab316688b4c47378);\n",
       "        \n",
       "    \n",
       "            var layer_control_6147df17aead223c317b88163e024c1e_layers = {\n",
       "                base_layers : {\n",
       "                    &quot;openstreetmap&quot; : tile_layer_02547ba94b44604927290fe4c763f577,\n",
       "                },\n",
       "                overlays :  {\n",
       "                    &quot;test_composite_pre&quot; : tile_layer_7181cc5f7333b28e44d3618264e34893,\n",
       "                    &quot;test_composite_post1&quot; : tile_layer_f7717663d381def50752e7f920381e5d,\n",
       "                    &quot;test_composite_post2&quot; : tile_layer_2ee753bb9df05db3174d55552108daf5,\n",
       "                    &quot;train_val_label&quot; : tile_layer_8ab5509617dbc220763df5c78c7b2432,\n",
       "                    &quot;fire perimeter&quot; : tile_layer_6abf930d423bf463ff803635933c83b1,\n",
       "                    &quot;grid&quot; : tile_layer_5906002d587a7326ab658f9d73a38b86,\n",
       "                },\n",
       "            };\n",
       "            let layer_control_6147df17aead223c317b88163e024c1e = L.control.layers(\n",
       "                layer_control_6147df17aead223c317b88163e024c1e_layers.base_layers,\n",
       "                layer_control_6147df17aead223c317b88163e024c1e_layers.overlays,\n",
       "                {&quot;autoZIndex&quot;: true, &quot;collapsed&quot;: true, &quot;position&quot;: &quot;topright&quot;}\n",
       "            ).addTo(map_8e0a9a0f9410261cab316688b4c47378);\n",
       "\n",
       "        \n",
       "&lt;/script&gt;\n",
       "&lt;/html&gt;\" width=\"100%\" height=\"600\"style=\"border:none !important;\" \"allowfullscreen\" \"webkitallowfullscreen\" \"mozallowfullscreen\"></iframe>"
      ],
      "text/plain": [
       "<geemap.foliumap.Map at 0x754fcf000b10>"
      ]
     },
     "execution_count": 256,
     "metadata": {},
     "output_type": "execute_result"
    }
   ],
   "source": [
    "m = geemap.Map()\n",
    "m.centerObject(filter_image, 8)  \n",
    "filter_image = ee.Image(filter_data.first())\n",
    "m.addLayer(filter_image.select(['blue_pre', 'green_pre', 'red_pre']), {'min': 0, 'max': 0.3}, 'test_composite_pre')\n",
    "m.addLayer(filter_image.select(['blue_post1', 'green_post1', 'red_post1']), {'min': 0, 'max': 0.3}, 'test_composite_post1')\n",
    "m.addLayer(filter_image.select(['blue_post2', 'green_post2', 'red_post2']), {'min': 0, 'max': 0.3}, 'test_composite_post2')\n",
    "m.addLayer(filter_image.select('label'), {'min': 0, 'max': 1, 'palette': ['grey', 'red']}, 'train_val_label')\n",
    "m.addLayer(filter_fireperim,{},'fire perimeter')\n",
    "m.addLayer(filter_grid,{},'grid')\n",
    "m"
   ]
  },
  {
   "cell_type": "code",
   "execution_count": 260,
   "metadata": {},
   "outputs": [
    {
     "data": {
      "text/html": [
       "\n",
       "            <style>\n",
       "                .geemap-dark {\n",
       "                    --jp-widgets-color: white;\n",
       "                    --jp-widgets-label-color: white;\n",
       "                    --jp-ui-font-color1: white;\n",
       "                    --jp-layout-color2: #454545;\n",
       "                    background-color: #383838;\n",
       "                }\n",
       "\n",
       "                .geemap-dark .jupyter-button {\n",
       "                    --jp-layout-color3: #383838;\n",
       "                }\n",
       "\n",
       "                .geemap-colab {\n",
       "                    background-color: var(--colab-primary-surface-color, white);\n",
       "                }\n",
       "\n",
       "                .geemap-colab .jupyter-button {\n",
       "                    --jp-layout-color3: var(--colab-primary-surface-color, white);\n",
       "                }\n",
       "            </style>\n",
       "            "
      ],
      "text/plain": [
       "<IPython.core.display.HTML object>"
      ]
     },
     "metadata": {},
     "output_type": "display_data"
    }
   ],
   "source": [
    "# export the grids feature collection\n",
    "ee.batch.Export.table.toAsset(**{\n",
    "    'collection': grids_te,\n",
    "    'description': 'baygeo_demo_test_grids',\n",
    "    'assetId': 'projects/pyregence-ee/assets/baygeo_demo_test_grids'\n",
    "}).start()\n",
    "# export the grids feature collection\n",
    "ee.batch.Export.table.toAsset(**{\n",
    "    'collection': grids_tv,\n",
    "    'description': 'baygeo_demo_train_val_grids',\n",
    "    'assetId': 'projects/pyregence-ee/assets/baygeo_demo_train_val_grids'\n",
    "}).start()"
   ]
  },
  {
   "cell_type": "code",
   "execution_count": 261,
   "metadata": {},
   "outputs": [
    {
     "data": {
      "text/html": [
       "\n",
       "            <style>\n",
       "                .geemap-dark {\n",
       "                    --jp-widgets-color: white;\n",
       "                    --jp-widgets-label-color: white;\n",
       "                    --jp-ui-font-color1: white;\n",
       "                    --jp-layout-color2: #454545;\n",
       "                    background-color: #383838;\n",
       "                }\n",
       "\n",
       "                .geemap-dark .jupyter-button {\n",
       "                    --jp-layout-color3: #383838;\n",
       "                }\n",
       "\n",
       "                .geemap-colab {\n",
       "                    background-color: var(--colab-primary-surface-color, white);\n",
       "                }\n",
       "\n",
       "                .geemap-colab .jupyter-button {\n",
       "                    --jp-layout-color3: var(--colab-primary-surface-color, white);\n",
       "                }\n",
       "            </style>\n",
       "            "
      ],
      "text/plain": [
       "<IPython.core.display.HTML object>"
      ]
     },
     "metadata": {},
     "output_type": "display_data"
    },
    {
     "ename": "EEException",
     "evalue": "Collection.first: Error in map(ID=1_1_1_1_0002000000000000051d_-255,214):\nFeature.centroid: Unable to perform this geometry operation. Please specify a non-zero error margin.",
     "output_type": "error",
     "traceback": [
      "\u001b[0;31m---------------------------------------------------------------------------\u001b[0m",
      "\u001b[0;31mHttpError\u001b[0m                                 Traceback (most recent call last)",
      "File \u001b[0;32m~/miniconda3/envs/eofm-benchmark/lib/python3.11/site-packages/ee/data.py:406\u001b[0m, in \u001b[0;36m_execute_cloud_call\u001b[0;34m(call, num_retries)\u001b[0m\n\u001b[1;32m    405\u001b[0m \u001b[38;5;28;01mtry\u001b[39;00m:\n\u001b[0;32m--> 406\u001b[0m   \u001b[38;5;28;01mreturn\u001b[39;00m \u001b[43mcall\u001b[49m\u001b[38;5;241;43m.\u001b[39;49m\u001b[43mexecute\u001b[49m\u001b[43m(\u001b[49m\u001b[43mnum_retries\u001b[49m\u001b[38;5;241;43m=\u001b[39;49m\u001b[43mnum_retries\u001b[49m\u001b[43m)\u001b[49m\n\u001b[1;32m    407\u001b[0m \u001b[38;5;28;01mexcept\u001b[39;00m googleapiclient\u001b[38;5;241m.\u001b[39merrors\u001b[38;5;241m.\u001b[39mHttpError \u001b[38;5;28;01mas\u001b[39;00m e:\n",
      "File \u001b[0;32m~/miniconda3/envs/eofm-benchmark/lib/python3.11/site-packages/googleapiclient/_helpers.py:130\u001b[0m, in \u001b[0;36mpositional.<locals>.positional_decorator.<locals>.positional_wrapper\u001b[0;34m(*args, **kwargs)\u001b[0m\n\u001b[1;32m    129\u001b[0m         logger\u001b[38;5;241m.\u001b[39mwarning(message)\n\u001b[0;32m--> 130\u001b[0m \u001b[38;5;28;01mreturn\u001b[39;00m \u001b[43mwrapped\u001b[49m\u001b[43m(\u001b[49m\u001b[38;5;241;43m*\u001b[39;49m\u001b[43margs\u001b[49m\u001b[43m,\u001b[49m\u001b[43m \u001b[49m\u001b[38;5;241;43m*\u001b[39;49m\u001b[38;5;241;43m*\u001b[39;49m\u001b[43mkwargs\u001b[49m\u001b[43m)\u001b[49m\n",
      "File \u001b[0;32m~/miniconda3/envs/eofm-benchmark/lib/python3.11/site-packages/googleapiclient/http.py:938\u001b[0m, in \u001b[0;36mHttpRequest.execute\u001b[0;34m(self, http, num_retries)\u001b[0m\n\u001b[1;32m    937\u001b[0m \u001b[38;5;28;01mif\u001b[39;00m resp\u001b[38;5;241m.\u001b[39mstatus \u001b[38;5;241m>\u001b[39m\u001b[38;5;241m=\u001b[39m \u001b[38;5;241m300\u001b[39m:\n\u001b[0;32m--> 938\u001b[0m     \u001b[38;5;28;01mraise\u001b[39;00m HttpError(resp, content, uri\u001b[38;5;241m=\u001b[39m\u001b[38;5;28mself\u001b[39m\u001b[38;5;241m.\u001b[39muri)\n\u001b[1;32m    939\u001b[0m \u001b[38;5;28;01mreturn\u001b[39;00m \u001b[38;5;28mself\u001b[39m\u001b[38;5;241m.\u001b[39mpostproc(resp, content)\n",
      "\u001b[0;31mHttpError\u001b[0m: <HttpError 400 when requesting https://earthengine.googleapis.com/v1/projects/pyregence-ee/value:compute?prettyPrint=false&alt=json returned \"Collection.first: Error in map(ID=1_1_1_1_0002000000000000051d_-255,214):\nFeature.centroid: Unable to perform this geometry operation. Please specify a non-zero error margin.\". Details: \"Collection.first: Error in map(ID=1_1_1_1_0002000000000000051d_-255,214):\nFeature.centroid: Unable to perform this geometry operation. Please specify a non-zero error margin.\">",
      "\nDuring handling of the above exception, another exception occurred:\n",
      "\u001b[0;31mEEException\u001b[0m                               Traceback (most recent call last)",
      "Cell \u001b[0;32mIn[261], line 5\u001b[0m\n\u001b[1;32m      2\u001b[0m test_centroid \u001b[38;5;241m=\u001b[39m ee\u001b[38;5;241m.\u001b[39mFeatureCollection(centroids_te)\u001b[38;5;241m.\u001b[39mfirst()\n\u001b[1;32m      4\u001b[0m m \u001b[38;5;241m=\u001b[39m geemap\u001b[38;5;241m.\u001b[39mMap()\n\u001b[0;32m----> 5\u001b[0m \u001b[43mm\u001b[49m\u001b[38;5;241;43m.\u001b[39;49m\u001b[43mcenterObject\u001b[49m\u001b[43m(\u001b[49m\u001b[43mtest_centroid\u001b[49m\u001b[43m,\u001b[49m\u001b[38;5;241;43m8\u001b[39;49m\u001b[43m)\u001b[49m\n\u001b[1;32m      6\u001b[0m m\u001b[38;5;241m.\u001b[39maddLayer(grids_te,{},\u001b[38;5;124m'\u001b[39m\u001b[38;5;124mgrid\u001b[39m\u001b[38;5;124m'\u001b[39m)\n\u001b[1;32m      7\u001b[0m m\u001b[38;5;241m.\u001b[39maddLayer(ee\u001b[38;5;241m.\u001b[39mFeature(test_centroid),{},\u001b[38;5;124m'\u001b[39m\u001b[38;5;124mcentroids\u001b[39m\u001b[38;5;124m'\u001b[39m)\n",
      "File \u001b[0;32m~/miniconda3/envs/eofm-benchmark/lib/python3.11/site-packages/geemap/foliumap.py:349\u001b[0m, in \u001b[0;36mMap.center_object\u001b[0;34m(self, ee_object, zoom)\u001b[0m\n\u001b[1;32m    347\u001b[0m     \u001b[38;5;28;01mraise\u001b[39;00m \u001b[38;5;167;01mException\u001b[39;00m(\u001b[38;5;124m\"\u001b[39m\u001b[38;5;124mZoom must be an integer.\u001b[39m\u001b[38;5;124m\"\u001b[39m)\n\u001b[1;32m    348\u001b[0m \u001b[38;5;28;01melse\u001b[39;00m:\n\u001b[0;32m--> 349\u001b[0m     centroid \u001b[38;5;241m=\u001b[39m \u001b[43mgeometry\u001b[49m\u001b[38;5;241;43m.\u001b[39;49m\u001b[43mcentroid\u001b[49m\u001b[43m(\u001b[49m\u001b[43mmaxError\u001b[49m\u001b[38;5;241;43m=\u001b[39;49m\u001b[43mmaxError\u001b[49m\u001b[43m)\u001b[49m\u001b[38;5;241;43m.\u001b[39;49m\u001b[43mgetInfo\u001b[49m\u001b[43m(\u001b[49m\u001b[43m)\u001b[49m[\u001b[38;5;124m\"\u001b[39m\u001b[38;5;124mcoordinates\u001b[39m\u001b[38;5;124m\"\u001b[39m]\n\u001b[1;32m    350\u001b[0m     lat \u001b[38;5;241m=\u001b[39m centroid[\u001b[38;5;241m1\u001b[39m]\n\u001b[1;32m    351\u001b[0m     lon \u001b[38;5;241m=\u001b[39m centroid[\u001b[38;5;241m0\u001b[39m]\n",
      "File \u001b[0;32m~/miniconda3/envs/eofm-benchmark/lib/python3.11/site-packages/ee/computedobject.py:107\u001b[0m, in \u001b[0;36mComputedObject.getInfo\u001b[0;34m(self)\u001b[0m\n\u001b[1;32m    101\u001b[0m \u001b[38;5;28;01mdef\u001b[39;00m \u001b[38;5;21mgetInfo\u001b[39m(\u001b[38;5;28mself\u001b[39m) \u001b[38;5;241m-\u001b[39m\u001b[38;5;241m>\u001b[39m Optional[Any]:\n\u001b[1;32m    102\u001b[0m \u001b[38;5;250m  \u001b[39m\u001b[38;5;124;03m\"\"\"Fetch and return information about this object.\u001b[39;00m\n\u001b[1;32m    103\u001b[0m \n\u001b[1;32m    104\u001b[0m \u001b[38;5;124;03m  Returns:\u001b[39;00m\n\u001b[1;32m    105\u001b[0m \u001b[38;5;124;03m    The object can evaluate to anything.\u001b[39;00m\n\u001b[1;32m    106\u001b[0m \u001b[38;5;124;03m  \"\"\"\u001b[39;00m\n\u001b[0;32m--> 107\u001b[0m   \u001b[38;5;28;01mreturn\u001b[39;00m \u001b[43mdata\u001b[49m\u001b[38;5;241;43m.\u001b[39;49m\u001b[43mcomputeValue\u001b[49m\u001b[43m(\u001b[49m\u001b[38;5;28;43mself\u001b[39;49m\u001b[43m)\u001b[49m\n",
      "File \u001b[0;32m~/miniconda3/envs/eofm-benchmark/lib/python3.11/site-packages/ee/data.py:1126\u001b[0m, in \u001b[0;36mcomputeValue\u001b[0;34m(obj)\u001b[0m\n\u001b[1;32m   1123\u001b[0m body \u001b[38;5;241m=\u001b[39m {\u001b[38;5;124m'\u001b[39m\u001b[38;5;124mexpression\u001b[39m\u001b[38;5;124m'\u001b[39m: serializer\u001b[38;5;241m.\u001b[39mencode(obj, for_cloud_api\u001b[38;5;241m=\u001b[39m\u001b[38;5;28;01mTrue\u001b[39;00m)}\n\u001b[1;32m   1124\u001b[0m _maybe_populate_workload_tag(body)\n\u001b[0;32m-> 1126\u001b[0m \u001b[38;5;28;01mreturn\u001b[39;00m \u001b[43m_execute_cloud_call\u001b[49m\u001b[43m(\u001b[49m\n\u001b[1;32m   1127\u001b[0m \u001b[43m    \u001b[49m\u001b[43m_get_cloud_projects\u001b[49m\u001b[43m(\u001b[49m\u001b[43m)\u001b[49m\n\u001b[1;32m   1128\u001b[0m \u001b[43m    \u001b[49m\u001b[38;5;241;43m.\u001b[39;49m\u001b[43mvalue\u001b[49m\u001b[43m(\u001b[49m\u001b[43m)\u001b[49m\n\u001b[1;32m   1129\u001b[0m \u001b[43m    \u001b[49m\u001b[38;5;241;43m.\u001b[39;49m\u001b[43mcompute\u001b[49m\u001b[43m(\u001b[49m\u001b[43mbody\u001b[49m\u001b[38;5;241;43m=\u001b[39;49m\u001b[43mbody\u001b[49m\u001b[43m,\u001b[49m\u001b[43m \u001b[49m\u001b[43mproject\u001b[49m\u001b[38;5;241;43m=\u001b[39;49m\u001b[43m_get_projects_path\u001b[49m\u001b[43m(\u001b[49m\u001b[43m)\u001b[49m\u001b[43m,\u001b[49m\u001b[43m \u001b[49m\u001b[43mprettyPrint\u001b[49m\u001b[38;5;241;43m=\u001b[39;49m\u001b[38;5;28;43;01mFalse\u001b[39;49;00m\u001b[43m)\u001b[49m\n\u001b[1;32m   1130\u001b[0m \u001b[43m\u001b[49m\u001b[43m)\u001b[49m[\u001b[38;5;124m'\u001b[39m\u001b[38;5;124mresult\u001b[39m\u001b[38;5;124m'\u001b[39m]\n",
      "File \u001b[0;32m~/miniconda3/envs/eofm-benchmark/lib/python3.11/site-packages/ee/data.py:408\u001b[0m, in \u001b[0;36m_execute_cloud_call\u001b[0;34m(call, num_retries)\u001b[0m\n\u001b[1;32m    406\u001b[0m   \u001b[38;5;28;01mreturn\u001b[39;00m call\u001b[38;5;241m.\u001b[39mexecute(num_retries\u001b[38;5;241m=\u001b[39mnum_retries)\n\u001b[1;32m    407\u001b[0m \u001b[38;5;28;01mexcept\u001b[39;00m googleapiclient\u001b[38;5;241m.\u001b[39merrors\u001b[38;5;241m.\u001b[39mHttpError \u001b[38;5;28;01mas\u001b[39;00m e:\n\u001b[0;32m--> 408\u001b[0m   \u001b[38;5;28;01mraise\u001b[39;00m _translate_cloud_exception(e)\n",
      "\u001b[0;31mEEException\u001b[0m: Collection.first: Error in map(ID=1_1_1_1_0002000000000000051d_-255,214):\nFeature.centroid: Unable to perform this geometry operation. Please specify a non-zero error margin."
     ]
    }
   ],
   "source": [
    "centroids_te = grids_te.map(lambda f: f.centroid().geometry())\n",
    "test_centroid = ee.FeatureCollection(centroids_te).first()\n",
    "\n",
    "m = geemap.Map()\n",
    "m.centerObject(test_centroid,8)\n",
    "m.addLayer(grids_te,{},'grid')\n",
    "m.addLayer(ee.Feature(test_centroid),{},'centroids')\n",
    "m\n"
   ]
  },
  {
   "cell_type": "code",
   "execution_count": null,
   "metadata": {},
   "outputs": [],
   "source": [
    "function gridMatch(grid){\n",
    "  var eventId = grid.get('Event_ID')\n",
    "  var imageMatch = test_composites.filterMetadata('Event_ID','equals',eventId).first()\n",
    "  var imageId = imageMatch.get('system:id')\n",
    "  return grid.set('source',imageId)"
   ]
  },
  {
   "cell_type": "code",
   "execution_count": null,
   "metadata": {},
   "outputs": [],
   "source": [
    "var test = gridMatch(test_grids.first())\n",
    "print(test)\n",
    "\n",
    "var test_grid_images = test_grids.map(gridMatch)\n",
    "print(test_grid_images)\n",
    "print(test_grid_images.aggregate_array('source'))\n",
    "\n",
    "function toCentroids(feat){\n",
    "  var centroid = feat.geometry().centroid()\n",
    "  var lat = centroid.coordinates().get(1)\n",
    "  var lon = centroid.coordinates().get(0)\n",
    "  return ee.Feature(centroid).set('lat',lat,'lon',lon)\n",
    "}\n",
    "\n",
    "var test_centroid_images = toCentroids(test_grid_images.first())\n",
    "print(test_centroid_images)\n",
    "\n",
    "var centroids_images = test_grid_images.map(toCentroids)\n",
    "\n",
    "Export.table.toDrive(centroids_images, \n",
    "'test_grids_images', \n",
    "'baygeo', \n",
    "'test_grids_images', \n",
    "'CSV', \n",
    "['lon','lat','source'])"
   ]
  }
 ],
 "metadata": {
  "kernelspec": {
   "display_name": "mitsui",
   "language": "python",
   "name": "python3"
  },
  "language_info": {
   "codemirror_mode": {
    "name": "ipython",
    "version": 3
   },
   "file_extension": ".py",
   "mimetype": "text/x-python",
   "name": "python",
   "nbconvert_exporter": "python",
   "pygments_lexer": "ipython3",
   "version": "3.11.9"
  }
 },
 "nbformat": 4,
 "nbformat_minor": 2
}
